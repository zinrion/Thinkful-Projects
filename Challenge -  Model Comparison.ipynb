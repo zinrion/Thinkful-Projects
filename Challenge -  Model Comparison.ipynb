{
 "cells": [
  {
   "cell_type": "code",
   "execution_count": 1,
   "metadata": {
    "collapsed": true
   },
   "outputs": [],
   "source": [
    "import pandas as pd\n",
    "import numpy as np\n",
    "import scipy\n",
    "import matplotlib.pyplot as plt\n",
    "%matplotlib inline\n",
    "from sklearn import neighbors\n",
    "from sklearn.model_selection import cross_val_score\n",
    "import statsmodels.formula.api as smf\n",
    "from statsmodels.sandbox.regression.predstd import wls_prediction_std\n",
    "from sklearn import preprocessing"
   ]
  },
  {
   "cell_type": "markdown",
   "metadata": {},
   "source": [
    "#### Data\n",
    "\n",
    "The data is obtained from UCI's machine learning repository and contains information on concrete strenght based on various factors.  There are 1,030 rows, and 9 columns.\n",
    "\n",
    "Link: https://archive.ics.uci.edu/ml/datasets/Concrete+Compressive+Strength"
   ]
  },
  {
   "cell_type": "code",
   "execution_count": 2,
   "metadata": {
    "collapsed": true
   },
   "outputs": [],
   "source": [
    "data = pd.read_csv(\"Concrete_Data.csv\")"
   ]
  },
  {
   "cell_type": "code",
   "execution_count": 3,
   "metadata": {
    "scrolled": true
   },
   "outputs": [
    {
     "data": {
      "text/plain": [
       "(1030, 9)"
      ]
     },
     "execution_count": 3,
     "metadata": {},
     "output_type": "execute_result"
    }
   ],
   "source": [
    "# Get number of rows and columns\n",
    "data.shape"
   ]
  },
  {
   "cell_type": "code",
   "execution_count": 4,
   "metadata": {
    "scrolled": true
   },
   "outputs": [
    {
     "data": {
      "text/plain": [
       "Index(['Cement (component 1)(kg in a m^3 mixture)',\n",
       "       'Blast Furnace Slag (component 2)(kg in a m^3 mixture)',\n",
       "       'Fly Ash (component 3)(kg in a m^3 mixture)',\n",
       "       'Water  (component 4)(kg in a m^3 mixture)',\n",
       "       'Superplasticizer (component 5)(kg in a m^3 mixture)',\n",
       "       'Coarse Aggregate  (component 6)(kg in a m^3 mixture)',\n",
       "       'Fine Aggregate (component 7)(kg in a m^3 mixture)', 'Age (day)',\n",
       "       'Concrete compressive strength(MPa, megapascals) '],\n",
       "      dtype='object')"
      ]
     },
     "execution_count": 4,
     "metadata": {},
     "output_type": "execute_result"
    }
   ],
   "source": [
    "#View columns - Need to clean up to make easier to work with\n",
    "data.columns"
   ]
  },
  {
   "cell_type": "code",
   "execution_count": 5,
   "metadata": {},
   "outputs": [
    {
     "data": {
      "text/html": [
       "<div>\n",
       "<style>\n",
       "    .dataframe thead tr:only-child th {\n",
       "        text-align: right;\n",
       "    }\n",
       "\n",
       "    .dataframe thead th {\n",
       "        text-align: left;\n",
       "    }\n",
       "\n",
       "    .dataframe tbody tr th {\n",
       "        vertical-align: top;\n",
       "    }\n",
       "</style>\n",
       "<table border=\"1\" class=\"dataframe\">\n",
       "  <thead>\n",
       "    <tr style=\"text-align: right;\">\n",
       "      <th></th>\n",
       "      <th>Cement (component 1)(kg in a m^3 mixture)</th>\n",
       "      <th>Blast Furnace Slag (component 2)(kg in a m^3 mixture)</th>\n",
       "      <th>Fly Ash (component 3)(kg in a m^3 mixture)</th>\n",
       "      <th>Water  (component 4)(kg in a m^3 mixture)</th>\n",
       "      <th>Superplasticizer (component 5)(kg in a m^3 mixture)</th>\n",
       "      <th>Coarse Aggregate  (component 6)(kg in a m^3 mixture)</th>\n",
       "      <th>Fine Aggregate (component 7)(kg in a m^3 mixture)</th>\n",
       "      <th>Age (day)</th>\n",
       "      <th>Concrete compressive strength(MPa, megapascals)</th>\n",
       "    </tr>\n",
       "  </thead>\n",
       "  <tbody>\n",
       "    <tr>\n",
       "      <th>0</th>\n",
       "      <td>540.0</td>\n",
       "      <td>0.0</td>\n",
       "      <td>0.0</td>\n",
       "      <td>162.0</td>\n",
       "      <td>2.5</td>\n",
       "      <td>1040.0</td>\n",
       "      <td>676.0</td>\n",
       "      <td>28</td>\n",
       "      <td>79.99</td>\n",
       "    </tr>\n",
       "    <tr>\n",
       "      <th>1</th>\n",
       "      <td>540.0</td>\n",
       "      <td>0.0</td>\n",
       "      <td>0.0</td>\n",
       "      <td>162.0</td>\n",
       "      <td>2.5</td>\n",
       "      <td>1055.0</td>\n",
       "      <td>676.0</td>\n",
       "      <td>28</td>\n",
       "      <td>61.89</td>\n",
       "    </tr>\n",
       "    <tr>\n",
       "      <th>2</th>\n",
       "      <td>332.5</td>\n",
       "      <td>142.5</td>\n",
       "      <td>0.0</td>\n",
       "      <td>228.0</td>\n",
       "      <td>0.0</td>\n",
       "      <td>932.0</td>\n",
       "      <td>594.0</td>\n",
       "      <td>270</td>\n",
       "      <td>40.27</td>\n",
       "    </tr>\n",
       "    <tr>\n",
       "      <th>3</th>\n",
       "      <td>332.5</td>\n",
       "      <td>142.5</td>\n",
       "      <td>0.0</td>\n",
       "      <td>228.0</td>\n",
       "      <td>0.0</td>\n",
       "      <td>932.0</td>\n",
       "      <td>594.0</td>\n",
       "      <td>365</td>\n",
       "      <td>41.05</td>\n",
       "    </tr>\n",
       "    <tr>\n",
       "      <th>4</th>\n",
       "      <td>198.6</td>\n",
       "      <td>132.4</td>\n",
       "      <td>0.0</td>\n",
       "      <td>192.0</td>\n",
       "      <td>0.0</td>\n",
       "      <td>978.4</td>\n",
       "      <td>825.5</td>\n",
       "      <td>360</td>\n",
       "      <td>44.30</td>\n",
       "    </tr>\n",
       "  </tbody>\n",
       "</table>\n",
       "</div>"
      ],
      "text/plain": [
       "   Cement (component 1)(kg in a m^3 mixture)  \\\n",
       "0                                      540.0   \n",
       "1                                      540.0   \n",
       "2                                      332.5   \n",
       "3                                      332.5   \n",
       "4                                      198.6   \n",
       "\n",
       "   Blast Furnace Slag (component 2)(kg in a m^3 mixture)  \\\n",
       "0                                                0.0       \n",
       "1                                                0.0       \n",
       "2                                              142.5       \n",
       "3                                              142.5       \n",
       "4                                              132.4       \n",
       "\n",
       "   Fly Ash (component 3)(kg in a m^3 mixture)  \\\n",
       "0                                         0.0   \n",
       "1                                         0.0   \n",
       "2                                         0.0   \n",
       "3                                         0.0   \n",
       "4                                         0.0   \n",
       "\n",
       "   Water  (component 4)(kg in a m^3 mixture)  \\\n",
       "0                                      162.0   \n",
       "1                                      162.0   \n",
       "2                                      228.0   \n",
       "3                                      228.0   \n",
       "4                                      192.0   \n",
       "\n",
       "   Superplasticizer (component 5)(kg in a m^3 mixture)  \\\n",
       "0                                                2.5     \n",
       "1                                                2.5     \n",
       "2                                                0.0     \n",
       "3                                                0.0     \n",
       "4                                                0.0     \n",
       "\n",
       "   Coarse Aggregate  (component 6)(kg in a m^3 mixture)  \\\n",
       "0                                             1040.0      \n",
       "1                                             1055.0      \n",
       "2                                              932.0      \n",
       "3                                              932.0      \n",
       "4                                              978.4      \n",
       "\n",
       "   Fine Aggregate (component 7)(kg in a m^3 mixture)  Age (day)  \\\n",
       "0                                              676.0         28   \n",
       "1                                              676.0         28   \n",
       "2                                              594.0        270   \n",
       "3                                              594.0        365   \n",
       "4                                              825.5        360   \n",
       "\n",
       "   Concrete compressive strength(MPa, megapascals)   \n",
       "0                                             79.99  \n",
       "1                                             61.89  \n",
       "2                                             40.27  \n",
       "3                                             41.05  \n",
       "4                                             44.30  "
      ]
     },
     "execution_count": 5,
     "metadata": {},
     "output_type": "execute_result"
    }
   ],
   "source": [
    "#See data\n",
    "data.head()"
   ]
  },
  {
   "cell_type": "code",
   "execution_count": 6,
   "metadata": {
    "collapsed": true
   },
   "outputs": [],
   "source": [
    "#Rename columns ot make easier to work with\n",
    "data.columns =[\"cement\",\"slag\",\"ash\",\"water\",\"superplasticizer\",\"coarse\",\"fine\",\"age\",\"strength\"]"
   ]
  },
  {
   "cell_type": "code",
   "execution_count": 7,
   "metadata": {
    "collapsed": true
   },
   "outputs": [],
   "source": [
    "def print_OLS_output(data_source):\n",
    "    lm = smf.ols(formula=linear_formula, data = data_source).fit()\n",
    "    print(\"Parameters:\")\n",
    "    print(lm.params)\n",
    "    print(\"\\n P-Values\")\n",
    "    print(lm.pvalues)\n",
    "    print(\"\\n R-Squared:\")\n",
    "    (print(lm.rsquared))  \n",
    "    return"
   ]
  },
  {
   "cell_type": "code",
   "execution_count": 8,
   "metadata": {},
   "outputs": [
    {
     "data": {
      "image/png": "[encoded data removed]",
      "text/plain": [
       "<matplotlib.figure.Figure at 0x2266f2026d8>"
      ]
     },
     "metadata": {},
     "output_type": "display_data"
    }
   ],
   "source": [
    "#Histograms of all columns\n",
    "data.hist(figsize=(10,10))\n",
    "plt.show()"
   ]
  },
  {
   "cell_type": "code",
   "execution_count": 9,
   "metadata": {
    "scrolled": true
   },
   "outputs": [
    {
     "data": {
      "text/html": [
       "<div>\n",
       "<style>\n",
       "    .dataframe thead tr:only-child th {\n",
       "        text-align: right;\n",
       "    }\n",
       "\n",
       "    .dataframe thead th {\n",
       "        text-align: left;\n",
       "    }\n",
       "\n",
       "    .dataframe tbody tr th {\n",
       "        vertical-align: top;\n",
       "    }\n",
       "</style>\n",
       "<table border=\"1\" class=\"dataframe\">\n",
       "  <thead>\n",
       "    <tr style=\"text-align: right;\">\n",
       "      <th></th>\n",
       "      <th>cement</th>\n",
       "      <th>slag</th>\n",
       "      <th>ash</th>\n",
       "      <th>water</th>\n",
       "      <th>superplasticizer</th>\n",
       "      <th>coarse</th>\n",
       "      <th>fine</th>\n",
       "      <th>age</th>\n",
       "      <th>strength</th>\n",
       "    </tr>\n",
       "  </thead>\n",
       "  <tbody>\n",
       "    <tr>\n",
       "      <th>count</th>\n",
       "      <td>1030.000000</td>\n",
       "      <td>1030.000000</td>\n",
       "      <td>1030.000000</td>\n",
       "      <td>1030.000000</td>\n",
       "      <td>1030.000000</td>\n",
       "      <td>1030.000000</td>\n",
       "      <td>1030.000000</td>\n",
       "      <td>1030.000000</td>\n",
       "      <td>1030.000000</td>\n",
       "    </tr>\n",
       "    <tr>\n",
       "      <th>mean</th>\n",
       "      <td>281.167864</td>\n",
       "      <td>73.895825</td>\n",
       "      <td>54.188350</td>\n",
       "      <td>181.567282</td>\n",
       "      <td>6.204660</td>\n",
       "      <td>972.918932</td>\n",
       "      <td>773.580485</td>\n",
       "      <td>45.662136</td>\n",
       "      <td>35.817961</td>\n",
       "    </tr>\n",
       "    <tr>\n",
       "      <th>std</th>\n",
       "      <td>104.506364</td>\n",
       "      <td>86.279342</td>\n",
       "      <td>63.997004</td>\n",
       "      <td>21.354219</td>\n",
       "      <td>5.973841</td>\n",
       "      <td>77.753954</td>\n",
       "      <td>80.175980</td>\n",
       "      <td>63.169912</td>\n",
       "      <td>16.705742</td>\n",
       "    </tr>\n",
       "    <tr>\n",
       "      <th>min</th>\n",
       "      <td>102.000000</td>\n",
       "      <td>0.000000</td>\n",
       "      <td>0.000000</td>\n",
       "      <td>121.800000</td>\n",
       "      <td>0.000000</td>\n",
       "      <td>801.000000</td>\n",
       "      <td>594.000000</td>\n",
       "      <td>1.000000</td>\n",
       "      <td>2.330000</td>\n",
       "    </tr>\n",
       "    <tr>\n",
       "      <th>25%</th>\n",
       "      <td>192.375000</td>\n",
       "      <td>0.000000</td>\n",
       "      <td>0.000000</td>\n",
       "      <td>164.900000</td>\n",
       "      <td>0.000000</td>\n",
       "      <td>932.000000</td>\n",
       "      <td>730.950000</td>\n",
       "      <td>7.000000</td>\n",
       "      <td>23.710000</td>\n",
       "    </tr>\n",
       "    <tr>\n",
       "      <th>50%</th>\n",
       "      <td>272.900000</td>\n",
       "      <td>22.000000</td>\n",
       "      <td>0.000000</td>\n",
       "      <td>185.000000</td>\n",
       "      <td>6.400000</td>\n",
       "      <td>968.000000</td>\n",
       "      <td>779.500000</td>\n",
       "      <td>28.000000</td>\n",
       "      <td>34.445000</td>\n",
       "    </tr>\n",
       "    <tr>\n",
       "      <th>75%</th>\n",
       "      <td>350.000000</td>\n",
       "      <td>142.950000</td>\n",
       "      <td>118.300000</td>\n",
       "      <td>192.000000</td>\n",
       "      <td>10.200000</td>\n",
       "      <td>1029.400000</td>\n",
       "      <td>824.000000</td>\n",
       "      <td>56.000000</td>\n",
       "      <td>46.135000</td>\n",
       "    </tr>\n",
       "    <tr>\n",
       "      <th>max</th>\n",
       "      <td>540.000000</td>\n",
       "      <td>359.400000</td>\n",
       "      <td>200.100000</td>\n",
       "      <td>247.000000</td>\n",
       "      <td>32.200000</td>\n",
       "      <td>1145.000000</td>\n",
       "      <td>992.600000</td>\n",
       "      <td>365.000000</td>\n",
       "      <td>82.600000</td>\n",
       "    </tr>\n",
       "  </tbody>\n",
       "</table>\n",
       "</div>"
      ],
      "text/plain": [
       "            cement         slag          ash        water  superplasticizer  \\\n",
       "count  1030.000000  1030.000000  1030.000000  1030.000000       1030.000000   \n",
       "mean    281.167864    73.895825    54.188350   181.567282          6.204660   \n",
       "std     104.506364    86.279342    63.997004    21.354219          5.973841   \n",
       "min     102.000000     0.000000     0.000000   121.800000          0.000000   \n",
       "25%     192.375000     0.000000     0.000000   164.900000          0.000000   \n",
       "50%     272.900000    22.000000     0.000000   185.000000          6.400000   \n",
       "75%     350.000000   142.950000   118.300000   192.000000         10.200000   \n",
       "max     540.000000   359.400000   200.100000   247.000000         32.200000   \n",
       "\n",
       "            coarse         fine          age     strength  \n",
       "count  1030.000000  1030.000000  1030.000000  1030.000000  \n",
       "mean    972.918932   773.580485    45.662136    35.817961  \n",
       "std      77.753954    80.175980    63.169912    16.705742  \n",
       "min     801.000000   594.000000     1.000000     2.330000  \n",
       "25%     932.000000   730.950000     7.000000    23.710000  \n",
       "50%     968.000000   779.500000    28.000000    34.445000  \n",
       "75%    1029.400000   824.000000    56.000000    46.135000  \n",
       "max    1145.000000   992.600000   365.000000    82.600000  "
      ]
     },
     "execution_count": 9,
     "metadata": {},
     "output_type": "execute_result"
    }
   ],
   "source": [
    "#Descriptive statistics for the data\n",
    "data.describe()"
   ]
  },
  {
   "cell_type": "code",
   "execution_count": 10,
   "metadata": {
    "collapsed": true
   },
   "outputs": [],
   "source": [
    "#Create modified factors\n",
    "data[\"ash_modified\"] = np.where(data.ash >0,1,0)\n",
    "data[\"age_squared\"] =data[\"age\"] **2\n",
    "data[\"age_log\"]=np.log10(data[\"age\"])"
   ]
  },
  {
   "cell_type": "code",
   "execution_count": 11,
   "metadata": {
    "collapsed": true
   },
   "outputs": [],
   "source": [
    "def run_knn(number_neighbors):\n",
    "    knn = neighbors.KNeighborsRegressor(n_neighbors=number_neighbors, weights='distance')\n",
    "    knn.fit(X, Y)\n",
    "    score = cross_val_score(knn, X, Y, cv=5)\n",
    "    print(\"KNN R-Squared: %0.2f (+/- %0.2f)\" % (score.mean(), score.std() * 2))    "
   ]
  },
  {
   "cell_type": "code",
   "execution_count": 12,
   "metadata": {},
   "outputs": [],
   "source": [
    "def run_knn_multiples():\n",
    "    number_neighbors=range(2,20)\n",
    "    for num in number_neighbors:\n",
    "        knn = neighbors.KNeighborsRegressor(n_neighbors=num, weights='distance')\n",
    "        knn.fit(X, Y)\n",
    "        score = cross_val_score(knn, X, Y, cv=5)\n",
    "        print(\"KNN R-Squared: %0.2f (+/- %0.2f)\" % (score.mean(), score.std() * 2))  \n",
    "        print(num)\n",
    "        return "
   ]
  },
  {
   "cell_type": "code",
   "execution_count": 13,
   "metadata": {},
   "outputs": [
    {
     "name": "stdout",
     "output_type": "stream",
     "text": [
      "KNN R-Squared: 0.39 (+/- 0.24)\n"
     ]
    }
   ],
   "source": [
    "#Run KNN for all factors\n",
    "X = data[[\"cement\",\"slag\",\"ash\",\"water\",\"superplasticizer\",\"coarse\",\"fine\",\"age_log\",\"age\",\"strength\"]]\n",
    "Y = data[\"strength\"]\n",
    "run_knn(15)"
   ]
  },
  {
   "cell_type": "code",
   "execution_count": 14,
   "metadata": {},
   "outputs": [
    {
     "name": "stdout",
     "output_type": "stream",
     "text": [
      "Parameters:\n",
      "Intercept          -77.533388\n",
      "cement               0.134857\n",
      "slag                 0.115945\n",
      "ash                  0.094391\n",
      "water               -0.128817\n",
      "superplasticizer     0.118822\n",
      "coarse               0.029681\n",
      "fine                 0.035989\n",
      "age_log             20.139779\n",
      "dtype: float64\n",
      "\n",
      " P-Values\n",
      "Intercept            2.550382e-05\n",
      "cement               5.121581e-95\n",
      "slag                 3.099533e-55\n",
      "ash                  1.950061e-26\n",
      "water                3.359978e-06\n",
      "superplasticizer     6.517613e-02\n",
      "coarse               4.912984e-06\n",
      "fine                 1.194949e-06\n",
      "age_log             1.438418e-248\n",
      "dtype: float64\n",
      "\n",
      " R-Squared:\n",
      "0.818508605438\n"
     ]
    }
   ],
   "source": [
    "#OLS on original model\n",
    "linear_formula = \"strength ~ cement+slag+ash+water+superplasticizer+coarse+fine+age_log\"\n",
    "print_OLS_output(data)"
   ]
  },
  {
   "cell_type": "code",
   "execution_count": 15,
   "metadata": {},
   "outputs": [
    {
     "name": "stdout",
     "output_type": "stream",
     "text": [
      "Parameters:\n",
      "Intercept        7.177524\n",
      "cement           0.110511\n",
      "slag             0.086127\n",
      "water           -0.234930\n",
      "age             -0.035163\n",
      "ash_modified     8.059758\n",
      "age_log         23.157518\n",
      "dtype: float64\n",
      "\n",
      " P-Values\n",
      "Intercept        4.697846e-03\n",
      "cement          1.832237e-237\n",
      "slag            1.968006e-133\n",
      "water            6.966443e-83\n",
      "age              5.499107e-10\n",
      "ash_modified     1.725287e-42\n",
      "age_log         1.179563e-177\n",
      "dtype: float64\n",
      "\n",
      " R-Squared:\n",
      "0.828301987534\n"
     ]
    }
   ],
   "source": [
    "# OLS after modifying model\n",
    "linear_formula = \"strength ~ cement+slag+water+age+ash_modified+age_log\"\n",
    "print_OLS_output(data)"
   ]
  },
  {
   "cell_type": "code",
   "execution_count": 16,
   "metadata": {},
   "outputs": [
    {
     "name": "stdout",
     "output_type": "stream",
     "text": [
      "KNN R-Squared: 0.48 (+/- 0.22)\n"
     ]
    }
   ],
   "source": [
    "#Run KNN with model updates from OLS\n",
    "X = data[[\"cement\",\"slag\",\"ash\",\"water\",\"age\",\"ash_modified\",\"age_log\"]]\n",
    "Y = data[\"strength\"]\n",
    "run_knn(15)"
   ]
  },
  {
   "cell_type": "markdown",
   "metadata": {},
   "source": [
    "Between the two models I like OLS regression more because of the ability to easily see p-values and which features are benefiting the model and which aren't.  Seeing the p-values for KNN may be possible but the quick research I found made it seem like they were more complex to reach.  But with OLS and statsmodels it's easy to quickly see. With extensive domain knowledge and experience I imagine KNN may become more useful than I currently see it.  The key challenges(which with experience may become benefits) are in part how much adjusting can be done to KNN.  Being able to choose the number of neighbors as well as whether to use weighting or not may be powerful tools I'll need to master long term, but as this point I'm still guessing and haven't fully gotten and understanding of how to get the most of either adjustments.  That being said I also wonder whether KNN is more sensitive to noise and outliers.  My current thinking is that OLS by building a model that is designed to draw across the dataset, may be less susceptible to being distorted.  Also in terms of making predictions that aren't explicitly within your dataset KNN doesn't seem like that would be possible at all, while with OLS the farther outside the bounds of your dataset the less accurately it obviously becomes.  But I still believe based on my current understand OLS would be more effective for than KNN.  One unfortunate piece to this exercise was that I didn't realize that this data set was in the UCI datbase submitted by someone who did reasearch as to why regression is not an appropriate modeling method for this specific set of data.  Instead they suggested and I briefly glanced through their paper as to how they were able to obtain much better results using neural networks.  However while I was never able to obtain a particularly good rsquared, I was able to make adjustments to the model to improve it versus my first version."
   ]
  },
  {
   "cell_type": "code",
   "execution_count": 17,
   "metadata": {
    "scrolled": true
   },
   "outputs": [
    {
     "data": {
      "text/html": [
       "<div>\n",
       "<style>\n",
       "    .dataframe thead tr:only-child th {\n",
       "        text-align: right;\n",
       "    }\n",
       "\n",
       "    .dataframe thead th {\n",
       "        text-align: left;\n",
       "    }\n",
       "\n",
       "    .dataframe tbody tr th {\n",
       "        vertical-align: top;\n",
       "    }\n",
       "</style>\n",
       "<table border=\"1\" class=\"dataframe\">\n",
       "  <thead>\n",
       "    <tr style=\"text-align: right;\">\n",
       "      <th></th>\n",
       "      <th>cement</th>\n",
       "      <th>slag</th>\n",
       "      <th>ash</th>\n",
       "      <th>water</th>\n",
       "      <th>superplasticizer</th>\n",
       "      <th>coarse</th>\n",
       "      <th>fine</th>\n",
       "      <th>age</th>\n",
       "      <th>strength</th>\n",
       "      <th>age_squared</th>\n",
       "      <th>ash_modified</th>\n",
       "      <th>age_log</th>\n",
       "    </tr>\n",
       "  </thead>\n",
       "  <tbody>\n",
       "    <tr>\n",
       "      <th>0</th>\n",
       "      <td>1.000000</td>\n",
       "      <td>0.000000</td>\n",
       "      <td>0.0</td>\n",
       "      <td>0.321086</td>\n",
       "      <td>0.07764</td>\n",
       "      <td>0.694767</td>\n",
       "      <td>0.205720</td>\n",
       "      <td>0.074176</td>\n",
       "      <td>0.967485</td>\n",
       "      <td>0.0</td>\n",
       "      <td>0.005877</td>\n",
       "      <td>0.564790</td>\n",
       "    </tr>\n",
       "    <tr>\n",
       "      <th>1</th>\n",
       "      <td>1.000000</td>\n",
       "      <td>0.000000</td>\n",
       "      <td>0.0</td>\n",
       "      <td>0.321086</td>\n",
       "      <td>0.07764</td>\n",
       "      <td>0.738372</td>\n",
       "      <td>0.205720</td>\n",
       "      <td>0.074176</td>\n",
       "      <td>0.741996</td>\n",
       "      <td>0.0</td>\n",
       "      <td>0.005877</td>\n",
       "      <td>0.564790</td>\n",
       "    </tr>\n",
       "    <tr>\n",
       "      <th>2</th>\n",
       "      <td>0.526256</td>\n",
       "      <td>0.396494</td>\n",
       "      <td>0.0</td>\n",
       "      <td>0.848243</td>\n",
       "      <td>0.00000</td>\n",
       "      <td>0.380814</td>\n",
       "      <td>0.000000</td>\n",
       "      <td>0.739011</td>\n",
       "      <td>0.472655</td>\n",
       "      <td>0.0</td>\n",
       "      <td>0.547191</td>\n",
       "      <td>0.948902</td>\n",
       "    </tr>\n",
       "    <tr>\n",
       "      <th>3</th>\n",
       "      <td>0.526256</td>\n",
       "      <td>0.396494</td>\n",
       "      <td>0.0</td>\n",
       "      <td>0.848243</td>\n",
       "      <td>0.00000</td>\n",
       "      <td>0.380814</td>\n",
       "      <td>0.000000</td>\n",
       "      <td>1.000000</td>\n",
       "      <td>0.482372</td>\n",
       "      <td>0.0</td>\n",
       "      <td>1.000000</td>\n",
       "      <td>1.000000</td>\n",
       "    </tr>\n",
       "    <tr>\n",
       "      <th>4</th>\n",
       "      <td>0.220548</td>\n",
       "      <td>0.368392</td>\n",
       "      <td>0.0</td>\n",
       "      <td>0.560703</td>\n",
       "      <td>0.00000</td>\n",
       "      <td>0.515698</td>\n",
       "      <td>0.580783</td>\n",
       "      <td>0.986264</td>\n",
       "      <td>0.522860</td>\n",
       "      <td>0.0</td>\n",
       "      <td>0.972790</td>\n",
       "      <td>0.997662</td>\n",
       "    </tr>\n",
       "  </tbody>\n",
       "</table>\n",
       "</div>"
      ],
      "text/plain": [
       "     cement      slag  ash     water  superplasticizer    coarse      fine  \\\n",
       "0  1.000000  0.000000  0.0  0.321086           0.07764  0.694767  0.205720   \n",
       "1  1.000000  0.000000  0.0  0.321086           0.07764  0.738372  0.205720   \n",
       "2  0.526256  0.396494  0.0  0.848243           0.00000  0.380814  0.000000   \n",
       "3  0.526256  0.396494  0.0  0.848243           0.00000  0.380814  0.000000   \n",
       "4  0.220548  0.368392  0.0  0.560703           0.00000  0.515698  0.580783   \n",
       "\n",
       "        age  strength  age_squared  ash_modified   age_log  \n",
       "0  0.074176  0.967485          0.0      0.005877  0.564790  \n",
       "1  0.074176  0.741996          0.0      0.005877  0.564790  \n",
       "2  0.739011  0.472655          0.0      0.547191  0.948902  \n",
       "3  1.000000  0.482372          0.0      1.000000  1.000000  \n",
       "4  0.986264  0.522860          0.0      0.972790  0.997662  "
      ]
     },
     "execution_count": 17,
     "metadata": {},
     "output_type": "execute_result"
    }
   ],
   "source": [
    "#Normalize data\n",
    "min_max_scaler = preprocessing.MinMaxScaler()\n",
    "np_scaled = min_max_scaler.fit_transform(data)\n",
    "norm_data= pd.DataFrame(np_scaled)\n",
    "norm_data.columns =[\"cement\",\"slag\",\"ash\",\"water\",\"superplasticizer\",\"coarse\",\"fine\",\"age\",\"strength\",\"age_squared\",\"ash_modified\",\"age_log\"]\n",
    "norm_data.head()"
   ]
  },
  {
   "cell_type": "code",
   "execution_count": 19,
   "metadata": {},
   "outputs": [
    {
     "name": "stdout",
     "output_type": "stream",
     "text": [
      "KNN R-Squared: 0.54 (+/- 0.50)\n"
     ]
    }
   ],
   "source": [
    "#Run KNN with model updates from OLS on normalized data\n",
    "X = norm_data[[\"cement\",\"slag\",\"ash\",\"water\",\"superplasticizer\",\"age\",\"ash_modified\",\"age_log\"]]\n",
    "Y = norm_data[\"strength\"]\n",
    "run_knn(15)"
   ]
  },
  {
   "cell_type": "code",
   "execution_count": 20,
   "metadata": {},
   "outputs": [
    {
     "name": "stdout",
     "output_type": "stream",
     "text": [
      "Parameters:\n",
      "Intercept      -0.031189\n",
      "cement          0.503818\n",
      "slag            0.292658\n",
      "water          -0.430517\n",
      "age            -0.158663\n",
      "ash_modified   -0.057614\n",
      "age_log         0.763696\n",
      "dtype: float64\n",
      "\n",
      " P-Values\n",
      "Intercept        6.635054e-02\n",
      "cement          4.926045e-202\n",
      "slag             5.944898e-93\n",
      "water            3.637011e-98\n",
      "age              9.007413e-02\n",
      "ash_modified     4.789270e-01\n",
      "age_log          1.019280e-87\n",
      "dtype: float64\n",
      "\n",
      " R-Squared:\n",
      "0.794021107012\n"
     ]
    }
   ],
   "source": [
    "# OLS after modifying model\n",
    "linear_formula = \"strength ~ cement+slag+water+age+ash_modified+age_log\"\n",
    "print_OLS_output(norm_data)"
   ]
  },
  {
   "cell_type": "code",
   "execution_count": 24,
   "metadata": {
    "scrolled": true
   },
   "outputs": [
    {
     "name": "stdout",
     "output_type": "stream",
     "text": [
      "Number of Neighbors: 1, KNN R-Squared: 0.19 (+/- 1.06)\n",
      "Number of Neighbors: 2, KNN R-Squared: 0.31 (+/- 0.60)\n",
      "Number of Neighbors: 3, KNN R-Squared: 0.34 (+/- 0.51)\n",
      "Number of Neighbors: 4, KNN R-Squared: 0.39 (+/- 0.37)\n",
      "Number of Neighbors: 5, KNN R-Squared: 0.41 (+/- 0.31)\n",
      "Number of Neighbors: 6, KNN R-Squared: 0.43 (+/- 0.29)\n",
      "Number of Neighbors: 7, KNN R-Squared: 0.45 (+/- 0.25)\n",
      "Number of Neighbors: 8, KNN R-Squared: 0.46 (+/- 0.23)\n",
      "Number of Neighbors: 9, KNN R-Squared: 0.47 (+/- 0.20)\n",
      "Number of Neighbors: 10, KNN R-Squared: 0.46 (+/- 0.20)\n",
      "Number of Neighbors: 11, KNN R-Squared: 0.46 (+/- 0.20)\n",
      "Number of Neighbors: 12, KNN R-Squared: 0.45 (+/- 0.19)\n",
      "Number of Neighbors: 13, KNN R-Squared: 0.45 (+/- 0.17)\n",
      "Number of Neighbors: 14, KNN R-Squared: 0.44 (+/- 0.17)\n",
      "Number of Neighbors: 15, KNN R-Squared: 0.43 (+/- 0.16)\n",
      "Number of Neighbors: 16, KNN R-Squared: 0.42 (+/- 0.17)\n",
      "Number of Neighbors: 17, KNN R-Squared: 0.42 (+/- 0.18)\n",
      "Number of Neighbors: 18, KNN R-Squared: 0.40 (+/- 0.17)\n",
      "Number of Neighbors: 19, KNN R-Squared: 0.40 (+/- 0.18)\n",
      "Number of Neighbors: 20, KNN R-Squared: 0.39 (+/- 0.17)\n"
     ]
    }
   ],
   "source": [
    "#Run KNN for 20 trials with no weights\n",
    "X = data[[\"cement\",\"slag\",\"ash\",\"water\",\"superplasticizer\",\"age\",\"ash_modified\",\"age_log\"]]\n",
    "Y = data[\"strength\"]\n",
    "run_knn_trials(20,None)"
   ]
  },
  {
   "cell_type": "code",
   "execution_count": 211,
   "metadata": {},
   "outputs": [],
   "source": [
    "def plot_knn(x_data,score_data,var_data):\n",
    "    plt.figure(figsize=(24,10))\n",
    "    plt.subplot(1,2,1)\n",
    "    plt.plot(x_data,score_data)\n",
    "    plt.title(\"KNN R-Squared by Number of K\")\n",
    "    plt.xlabel(\"Number of Neighbors\")\n",
    "    plt.ylabel(\"R-Squared\")\n",
    "    plt.xticks(x_data,x_data)\n",
    "    plt.subplot(1,2,2)\n",
    "    plt.title(\"KNN Variance by Number of K\")\n",
    "    plt.ylabel(\"Variance\")\n",
    "    plt.plot(x_data,var_data)\n",
    "    plt.xlabel(\"Number of Neighbors\")\n",
    "    plt.subplots_adjust(bottom = .2 , wspace = .2, hspace = .2, left= .125)\n",
    "    plt.xticks(x_data,x_data)\n",
    "    plt.show()\n",
    "    "
   ]
  },
  {
   "cell_type": "code",
   "execution_count": 212,
   "metadata": {},
   "outputs": [],
   "source": [
    "def run_knn_trials(trials, weight_option):\n",
    "    number_neighbors=1\n",
    "    cols =[\"number_neighbors\",\"score\",\"variance\"]\n",
    "    rows=trials+1\n",
    "    knn_data=pd.DataFrame(columns=cols, index=range(1,rows))\n",
    "    while number_neighbors <trials+1:\n",
    "        knn = neighbors.KNeighborsRegressor(n_neighbors=number_neighbors, weights=weight_option)\n",
    "        knn.fit(X, Y)\n",
    "        score = cross_val_score(knn, X, Y, cv=5)\n",
    "        print(\"Number of Neighbors: %0.f, KNN R-Squared: %0.2f (+/- %0.2f)\" % (number_neighbors,score.mean(), score.std() * 2))\n",
    "        knn_data.loc[number_neighbors].number_neighbors=number_neighbors\n",
    "        knn_data.loc[number_neighbors].score=score.mean()\n",
    "        knn_data.loc[number_neighbors].variance=score.std() * 2\n",
    "        number_neighbors +=1\n",
    "    x_data=knn_data[\"number_neighbors\"]\n",
    "    score_data=knn_data[\"score\"]\n",
    "    var_data=knn_data[\"variance\"]\n",
    "    plot_knn(x_data,score_data,var_data)"
   ]
  },
  {
   "cell_type": "code",
   "execution_count": 213,
   "metadata": {},
   "outputs": [
    {
     "name": "stdout",
     "output_type": "stream",
     "text": [
      "Number of Neighbors: 1, KNN R-Squared: 0.19 (+/- 1.06)\n",
      "Number of Neighbors: 2, KNN R-Squared: 0.32 (+/- 0.65)\n",
      "Number of Neighbors: 3, KNN R-Squared: 0.35 (+/- 0.56)\n",
      "Number of Neighbors: 4, KNN R-Squared: 0.40 (+/- 0.43)\n",
      "Number of Neighbors: 5, KNN R-Squared: 0.43 (+/- 0.36)\n",
      "Number of Neighbors: 6, KNN R-Squared: 0.45 (+/- 0.33)\n",
      "Number of Neighbors: 7, KNN R-Squared: 0.47 (+/- 0.29)\n",
      "Number of Neighbors: 8, KNN R-Squared: 0.48 (+/- 0.27)\n",
      "Number of Neighbors: 9, KNN R-Squared: 0.49 (+/- 0.25)\n",
      "Number of Neighbors: 10, KNN R-Squared: 0.49 (+/- 0.24)\n",
      "Number of Neighbors: 11, KNN R-Squared: 0.49 (+/- 0.24)\n",
      "Number of Neighbors: 12, KNN R-Squared: 0.49 (+/- 0.24)\n",
      "Number of Neighbors: 13, KNN R-Squared: 0.49 (+/- 0.23)\n",
      "Number of Neighbors: 14, KNN R-Squared: 0.48 (+/- 0.22)\n",
      "Number of Neighbors: 15, KNN R-Squared: 0.48 (+/- 0.22)\n",
      "Number of Neighbors: 16, KNN R-Squared: 0.47 (+/- 0.23)\n",
      "Number of Neighbors: 17, KNN R-Squared: 0.47 (+/- 0.23)\n",
      "Number of Neighbors: 18, KNN R-Squared: 0.46 (+/- 0.23)\n",
      "Number of Neighbors: 19, KNN R-Squared: 0.46 (+/- 0.23)\n",
      "Number of Neighbors: 20, KNN R-Squared: 0.46 (+/- 0.23)\n"
     ]
    },
    {
     "data": {
      "image/png": "[encoded data removed]",
      "text/plain": [
       "<matplotlib.figure.Figure at 0x226713f8f28>"
      ]
     },
     "metadata": {},
     "output_type": "display_data"
    }
   ],
   "source": [
    "#Run KNN for 20 trials with distance weights\n",
    "X = data[[\"cement\",\"slag\",\"ash\",\"water\",\"superplasticizer\",\"age\",\"ash_modified\",\"age_log\"]]\n",
    "Y = data[\"strength\"]\n",
    "run_knn_trials(20,'distance')"
   ]
  },
  {
   "cell_type": "code",
   "execution_count": 214,
   "metadata": {},
   "outputs": [
    {
     "name": "stdout",
     "output_type": "stream",
     "text": [
      "Number of Neighbors: 1, KNN R-Squared: 0.19 (+/- 1.06)\n",
      "Number of Neighbors: 2, KNN R-Squared: 0.31 (+/- 0.60)\n",
      "Number of Neighbors: 3, KNN R-Squared: 0.34 (+/- 0.51)\n",
      "Number of Neighbors: 4, KNN R-Squared: 0.39 (+/- 0.37)\n",
      "Number of Neighbors: 5, KNN R-Squared: 0.41 (+/- 0.31)\n",
      "Number of Neighbors: 6, KNN R-Squared: 0.43 (+/- 0.29)\n",
      "Number of Neighbors: 7, KNN R-Squared: 0.45 (+/- 0.25)\n",
      "Number of Neighbors: 8, KNN R-Squared: 0.46 (+/- 0.23)\n",
      "Number of Neighbors: 9, KNN R-Squared: 0.47 (+/- 0.20)\n",
      "Number of Neighbors: 10, KNN R-Squared: 0.46 (+/- 0.20)\n",
      "Number of Neighbors: 11, KNN R-Squared: 0.46 (+/- 0.20)\n",
      "Number of Neighbors: 12, KNN R-Squared: 0.45 (+/- 0.19)\n",
      "Number of Neighbors: 13, KNN R-Squared: 0.45 (+/- 0.17)\n",
      "Number of Neighbors: 14, KNN R-Squared: 0.44 (+/- 0.17)\n",
      "Number of Neighbors: 15, KNN R-Squared: 0.43 (+/- 0.16)\n",
      "Number of Neighbors: 16, KNN R-Squared: 0.42 (+/- 0.17)\n",
      "Number of Neighbors: 17, KNN R-Squared: 0.42 (+/- 0.18)\n",
      "Number of Neighbors: 18, KNN R-Squared: 0.40 (+/- 0.17)\n",
      "Number of Neighbors: 19, KNN R-Squared: 0.40 (+/- 0.18)\n",
      "Number of Neighbors: 20, KNN R-Squared: 0.39 (+/- 0.17)\n"
     ]
    },
    {
     "data": {
      "image/png": "[encoded data removed]",
      "text/plain": [
       "<matplotlib.figure.Figure at 0x2266f784208>"
      ]
     },
     "metadata": {},
     "output_type": "display_data"
    }
   ],
   "source": [
    "#Run KNN for 20 trials without distance weighting\n",
    "X = data[[\"cement\",\"slag\",\"ash\",\"water\",\"superplasticizer\",\"age\",\"ash_modified\",\"age_log\"]]\n",
    "Y = data[\"strength\"]\n",
    "run_knn_trials(20,None)"
   ]
  }
 ],
 "metadata": {
  "kernelspec": {
   "display_name": "Python 3",
   "language": "python",
   "name": "python3"
  },
  "language_info": {
   "codemirror_mode": {
    "name": "ipython",
    "version": 3
   },
   "file_extension": ".py",
   "mimetype": "text/x-python",
   "name": "python",
   "nbconvert_exporter": "python",
   "pygments_lexer": "ipython3",
   "version": "3.6.3"
  }
 },
 "nbformat": 4,
 "nbformat_minor": 2
}
