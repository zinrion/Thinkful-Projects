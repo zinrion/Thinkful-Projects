{
 "cells": [
  {
   "cell_type": "markdown",
   "metadata": {},
   "source": [
    "# Thinkful Capstone Final Project : Exploration\n",
    "\n",
    "### Roy Shabaya"
   ]
  },
  {
   "cell_type": "markdown",
   "metadata": {},
   "source": [
    "# Overview"
   ]
  },
  {
   "cell_type": "markdown",
   "metadata": {},
   "source": [
    "For my final project I will be building a recommender system for an online retailer.  The overall problem I am attempting to solve is to be able to provide meaningful and high quality recommendations to customers.  The dataset is downloaded from UCI’s Machine Learning Repository and contains transaction data from an online retailer based in the UK.  The retailer sells gift items across several countries in Europe.  Contained in the data is information on each transaction, including the customer and product purchased.  In such a setting a recommender system can allow a retailer to provide quality recommendations to the customer that can result in increased sales and customer satisfaction.  \n",
    "\n",
    "Data Source : https://archive.ics.uci.edu/ml/datasets/Online+Retail"
   ]
  },
  {
   "cell_type": "markdown",
   "metadata": {},
   "source": [
    "## Index\n",
    "\n",
    "[Data Import and Pre-Processing](#Data)\n",
    "\n",
    "[Exploration](#exploration_link)\n",
    "   - [Time](#time_link)\n",
    "   - [Customer](#customer_link)\n",
    "   - [Transaction](#transaction_link)\n",
    "   - [Product](#product_link)\n",
    "   \n",
    "<a id='Data'></a>"
   ]
  },
  {
   "cell_type": "markdown",
   "metadata": {},
   "source": [
    "## Data Import and Pre-processing"
   ]
  },
  {
   "cell_type": "code",
   "execution_count": 1,
   "metadata": {
    "collapsed": true
   },
   "outputs": [],
   "source": [
    "# Import necessary packages\n",
    "import pandas as pd\n",
    "import numpy as np\n",
    "import matplotlib.pyplot as plt\n",
    "import seaborn as sns\n",
    "from datetime import date\n",
    "import calendar"
   ]
  },
  {
   "cell_type": "code",
   "execution_count": 2,
   "metadata": {
    "collapsed": true
   },
   "outputs": [],
   "source": [
    "# Import data\n",
    "data = pd.read_csv(r'C:\\Users\\shaba\\Online Retail.csv')"
   ]
  },
  {
   "cell_type": "code",
   "execution_count": 3,
   "metadata": {
    "scrolled": true
   },
   "outputs": [
    {
     "name": "stdout",
     "output_type": "stream",
     "text": [
      "<class 'pandas.core.frame.DataFrame'>\n",
      "RangeIndex: 541909 entries, 0 to 541908\n",
      "Data columns (total 8 columns):\n",
      "InvoiceNo      541909 non-null object\n",
      "StockCode      541909 non-null object\n",
      "Description    540455 non-null object\n",
      "Quantity       541909 non-null int64\n",
      "InvoiceDate    541909 non-null object\n",
      "UnitPrice      541909 non-null float64\n",
      "CustomerID     406829 non-null float64\n",
      "Country        541909 non-null object\n",
      "dtypes: float64(2), int64(1), object(5)\n",
      "memory usage: 33.1+ MB\n"
     ]
    }
   ],
   "source": [
    "# See columns and their data type information.  Date is an object, will need to be modified at least for time series\n",
    "data.info()"
   ]
  },
  {
   "cell_type": "code",
   "execution_count": 4,
   "metadata": {
    "collapsed": true
   },
   "outputs": [],
   "source": [
    "data['InvoiceDate'] = pd.to_datetime(data['InvoiceDate'])"
   ]
  },
  {
   "cell_type": "code",
   "execution_count": 5,
   "metadata": {
    "scrolled": true
   },
   "outputs": [
    {
     "data": {
      "text/html": [
       "<div>\n",
       "<style scoped>\n",
       "    .dataframe tbody tr th:only-of-type {\n",
       "        vertical-align: middle;\n",
       "    }\n",
       "\n",
       "    .dataframe tbody tr th {\n",
       "        vertical-align: top;\n",
       "    }\n",
       "\n",
       "    .dataframe thead th {\n",
       "        text-align: right;\n",
       "    }\n",
       "</style>\n",
       "<table border=\"1\" class=\"dataframe\">\n",
       "  <thead>\n",
       "    <tr style=\"text-align: right;\">\n",
       "      <th></th>\n",
       "      <th>InvoiceNo</th>\n",
       "      <th>StockCode</th>\n",
       "      <th>Description</th>\n",
       "      <th>Quantity</th>\n",
       "      <th>InvoiceDate</th>\n",
       "      <th>UnitPrice</th>\n",
       "      <th>CustomerID</th>\n",
       "      <th>Country</th>\n",
       "    </tr>\n",
       "  </thead>\n",
       "  <tbody>\n",
       "    <tr>\n",
       "      <th>0</th>\n",
       "      <td>536365</td>\n",
       "      <td>85123A</td>\n",
       "      <td>WHITE HANGING HEART T-LIGHT HOLDER</td>\n",
       "      <td>6</td>\n",
       "      <td>2010-12-01 08:26:00</td>\n",
       "      <td>2.55</td>\n",
       "      <td>17850.0</td>\n",
       "      <td>United Kingdom</td>\n",
       "    </tr>\n",
       "    <tr>\n",
       "      <th>1</th>\n",
       "      <td>536365</td>\n",
       "      <td>71053</td>\n",
       "      <td>WHITE METAL LANTERN</td>\n",
       "      <td>6</td>\n",
       "      <td>2010-12-01 08:26:00</td>\n",
       "      <td>3.39</td>\n",
       "      <td>17850.0</td>\n",
       "      <td>United Kingdom</td>\n",
       "    </tr>\n",
       "    <tr>\n",
       "      <th>2</th>\n",
       "      <td>536365</td>\n",
       "      <td>84406B</td>\n",
       "      <td>CREAM CUPID HEARTS COAT HANGER</td>\n",
       "      <td>8</td>\n",
       "      <td>2010-12-01 08:26:00</td>\n",
       "      <td>2.75</td>\n",
       "      <td>17850.0</td>\n",
       "      <td>United Kingdom</td>\n",
       "    </tr>\n",
       "    <tr>\n",
       "      <th>3</th>\n",
       "      <td>536365</td>\n",
       "      <td>84029G</td>\n",
       "      <td>KNITTED UNION FLAG HOT WATER BOTTLE</td>\n",
       "      <td>6</td>\n",
       "      <td>2010-12-01 08:26:00</td>\n",
       "      <td>3.39</td>\n",
       "      <td>17850.0</td>\n",
       "      <td>United Kingdom</td>\n",
       "    </tr>\n",
       "    <tr>\n",
       "      <th>4</th>\n",
       "      <td>536365</td>\n",
       "      <td>84029E</td>\n",
       "      <td>RED WOOLLY HOTTIE WHITE HEART.</td>\n",
       "      <td>6</td>\n",
       "      <td>2010-12-01 08:26:00</td>\n",
       "      <td>3.39</td>\n",
       "      <td>17850.0</td>\n",
       "      <td>United Kingdom</td>\n",
       "    </tr>\n",
       "  </tbody>\n",
       "</table>\n",
       "</div>"
      ],
      "text/plain": [
       "  InvoiceNo StockCode                          Description  Quantity  \\\n",
       "0    536365    85123A   WHITE HANGING HEART T-LIGHT HOLDER         6   \n",
       "1    536365     71053                  WHITE METAL LANTERN         6   \n",
       "2    536365    84406B       CREAM CUPID HEARTS COAT HANGER         8   \n",
       "3    536365    84029G  KNITTED UNION FLAG HOT WATER BOTTLE         6   \n",
       "4    536365    84029E       RED WOOLLY HOTTIE WHITE HEART.         6   \n",
       "\n",
       "          InvoiceDate  UnitPrice  CustomerID         Country  \n",
       "0 2010-12-01 08:26:00       2.55     17850.0  United Kingdom  \n",
       "1 2010-12-01 08:26:00       3.39     17850.0  United Kingdom  \n",
       "2 2010-12-01 08:26:00       2.75     17850.0  United Kingdom  \n",
       "3 2010-12-01 08:26:00       3.39     17850.0  United Kingdom  \n",
       "4 2010-12-01 08:26:00       3.39     17850.0  United Kingdom  "
      ]
     },
     "execution_count": 5,
     "metadata": {},
     "output_type": "execute_result"
    }
   ],
   "source": [
    "# See the first 5 rows of data\n",
    "data.head()"
   ]
  },
  {
   "cell_type": "code",
   "execution_count": 6,
   "metadata": {
    "collapsed": true
   },
   "outputs": [],
   "source": [
    "# Add a revenue column, multiplying quanity and unit price. Also exclude returns and focus on sales only\n",
    "data = data.loc[(data['Quantity'] >0) & (data['UnitPrice'] >0)]\n",
    "data[\"Revenue\"] = data['Quantity'] * data['UnitPrice']"
   ]
  },
  {
   "cell_type": "code",
   "execution_count": 7,
   "metadata": {},
   "outputs": [],
   "source": [
    "# Add several views of the date information, Day of Week, Hour, etc.\n",
    "data['Day of Week'] = data[\"InvoiceDate\"].dt.weekday_name\n",
    "data['Week of Year'] = data[\"InvoiceDate\"].dt.weekofyear\n",
    "data['Week of Year'] = data[\"InvoiceDate\"].dt.weekofyear\n",
    "data['Month'] = data[\"InvoiceDate\"].dt.month\n",
    "data['Hour'] = data[\"InvoiceDate\"].dt.hour\n",
    "data['Year'] = data[\"InvoiceDate\"].dt.year\n",
    "data['Day of Week Number'] = data['InvoiceDate'].dt.weekday"
   ]
  },
  {
   "cell_type": "code",
   "execution_count": 8,
   "metadata": {
    "scrolled": false
   },
   "outputs": [
    {
     "data": {
      "text/html": [
       "<div>\n",
       "<style scoped>\n",
       "    .dataframe tbody tr th:only-of-type {\n",
       "        vertical-align: middle;\n",
       "    }\n",
       "\n",
       "    .dataframe tbody tr th {\n",
       "        vertical-align: top;\n",
       "    }\n",
       "\n",
       "    .dataframe thead th {\n",
       "        text-align: right;\n",
       "    }\n",
       "</style>\n",
       "<table border=\"1\" class=\"dataframe\">\n",
       "  <thead>\n",
       "    <tr style=\"text-align: right;\">\n",
       "      <th></th>\n",
       "      <th>InvoiceNo</th>\n",
       "      <th>StockCode</th>\n",
       "      <th>Description</th>\n",
       "      <th>Quantity</th>\n",
       "      <th>InvoiceDate</th>\n",
       "      <th>UnitPrice</th>\n",
       "      <th>CustomerID</th>\n",
       "      <th>Country</th>\n",
       "      <th>Revenue</th>\n",
       "      <th>Day of Week</th>\n",
       "      <th>Week of Year</th>\n",
       "      <th>Month</th>\n",
       "      <th>Hour</th>\n",
       "      <th>Year</th>\n",
       "      <th>Day of Week Number</th>\n",
       "    </tr>\n",
       "  </thead>\n",
       "  <tbody>\n",
       "    <tr>\n",
       "      <th>0</th>\n",
       "      <td>536365</td>\n",
       "      <td>85123A</td>\n",
       "      <td>WHITE HANGING HEART T-LIGHT HOLDER</td>\n",
       "      <td>6</td>\n",
       "      <td>2010-12-01 08:26:00</td>\n",
       "      <td>2.55</td>\n",
       "      <td>17850.0</td>\n",
       "      <td>United Kingdom</td>\n",
       "      <td>15.30</td>\n",
       "      <td>Wednesday</td>\n",
       "      <td>48</td>\n",
       "      <td>12</td>\n",
       "      <td>8</td>\n",
       "      <td>2010</td>\n",
       "      <td>2</td>\n",
       "    </tr>\n",
       "    <tr>\n",
       "      <th>1</th>\n",
       "      <td>536365</td>\n",
       "      <td>71053</td>\n",
       "      <td>WHITE METAL LANTERN</td>\n",
       "      <td>6</td>\n",
       "      <td>2010-12-01 08:26:00</td>\n",
       "      <td>3.39</td>\n",
       "      <td>17850.0</td>\n",
       "      <td>United Kingdom</td>\n",
       "      <td>20.34</td>\n",
       "      <td>Wednesday</td>\n",
       "      <td>48</td>\n",
       "      <td>12</td>\n",
       "      <td>8</td>\n",
       "      <td>2010</td>\n",
       "      <td>2</td>\n",
       "    </tr>\n",
       "    <tr>\n",
       "      <th>2</th>\n",
       "      <td>536365</td>\n",
       "      <td>84406B</td>\n",
       "      <td>CREAM CUPID HEARTS COAT HANGER</td>\n",
       "      <td>8</td>\n",
       "      <td>2010-12-01 08:26:00</td>\n",
       "      <td>2.75</td>\n",
       "      <td>17850.0</td>\n",
       "      <td>United Kingdom</td>\n",
       "      <td>22.00</td>\n",
       "      <td>Wednesday</td>\n",
       "      <td>48</td>\n",
       "      <td>12</td>\n",
       "      <td>8</td>\n",
       "      <td>2010</td>\n",
       "      <td>2</td>\n",
       "    </tr>\n",
       "    <tr>\n",
       "      <th>3</th>\n",
       "      <td>536365</td>\n",
       "      <td>84029G</td>\n",
       "      <td>KNITTED UNION FLAG HOT WATER BOTTLE</td>\n",
       "      <td>6</td>\n",
       "      <td>2010-12-01 08:26:00</td>\n",
       "      <td>3.39</td>\n",
       "      <td>17850.0</td>\n",
       "      <td>United Kingdom</td>\n",
       "      <td>20.34</td>\n",
       "      <td>Wednesday</td>\n",
       "      <td>48</td>\n",
       "      <td>12</td>\n",
       "      <td>8</td>\n",
       "      <td>2010</td>\n",
       "      <td>2</td>\n",
       "    </tr>\n",
       "    <tr>\n",
       "      <th>4</th>\n",
       "      <td>536365</td>\n",
       "      <td>84029E</td>\n",
       "      <td>RED WOOLLY HOTTIE WHITE HEART.</td>\n",
       "      <td>6</td>\n",
       "      <td>2010-12-01 08:26:00</td>\n",
       "      <td>3.39</td>\n",
       "      <td>17850.0</td>\n",
       "      <td>United Kingdom</td>\n",
       "      <td>20.34</td>\n",
       "      <td>Wednesday</td>\n",
       "      <td>48</td>\n",
       "      <td>12</td>\n",
       "      <td>8</td>\n",
       "      <td>2010</td>\n",
       "      <td>2</td>\n",
       "    </tr>\n",
       "  </tbody>\n",
       "</table>\n",
       "</div>"
      ],
      "text/plain": [
       "  InvoiceNo StockCode                          Description  Quantity  \\\n",
       "0    536365    85123A   WHITE HANGING HEART T-LIGHT HOLDER         6   \n",
       "1    536365     71053                  WHITE METAL LANTERN         6   \n",
       "2    536365    84406B       CREAM CUPID HEARTS COAT HANGER         8   \n",
       "3    536365    84029G  KNITTED UNION FLAG HOT WATER BOTTLE         6   \n",
       "4    536365    84029E       RED WOOLLY HOTTIE WHITE HEART.         6   \n",
       "\n",
       "          InvoiceDate  UnitPrice  CustomerID         Country  Revenue  \\\n",
       "0 2010-12-01 08:26:00       2.55     17850.0  United Kingdom    15.30   \n",
       "1 2010-12-01 08:26:00       3.39     17850.0  United Kingdom    20.34   \n",
       "2 2010-12-01 08:26:00       2.75     17850.0  United Kingdom    22.00   \n",
       "3 2010-12-01 08:26:00       3.39     17850.0  United Kingdom    20.34   \n",
       "4 2010-12-01 08:26:00       3.39     17850.0  United Kingdom    20.34   \n",
       "\n",
       "  Day of Week  Week of Year  Month  Hour  Year  Day of Week Number  \n",
       "0   Wednesday            48     12     8  2010                   2  \n",
       "1   Wednesday            48     12     8  2010                   2  \n",
       "2   Wednesday            48     12     8  2010                   2  \n",
       "3   Wednesday            48     12     8  2010                   2  \n",
       "4   Wednesday            48     12     8  2010                   2  "
      ]
     },
     "execution_count": 8,
     "metadata": {},
     "output_type": "execute_result"
    }
   ],
   "source": [
    "# See head with additional columns added\n",
    "data.head()"
   ]
  },
  {
   "cell_type": "markdown",
   "metadata": {},
   "source": [
    "<a id='exploration_link'></a>"
   ]
  },
  {
   "cell_type": "markdown",
   "metadata": {},
   "source": [
    "# Exploration\n",
    "<a id='time_link'></a>"
   ]
  },
  {
   "cell_type": "markdown",
   "metadata": {},
   "source": [
    "## Time Exploration"
   ]
  },
  {
   "cell_type": "code",
   "execution_count": 9,
   "metadata": {},
   "outputs": [
    {
     "name": "stdout",
     "output_type": "stream",
     "text": [
      "data start: 2010-12-01 08:26:00\n",
      "data end: 2011-12-09 12:50:00\n"
     ]
    }
   ],
   "source": [
    "print(\"data start: {}\".format(data.InvoiceDate.min()))\n",
    "print(\"data end: {}\".format(data.InvoiceDate.max()))"
   ]
  },
  {
   "cell_type": "code",
   "execution_count": 10,
   "metadata": {
    "collapsed": true
   },
   "outputs": [],
   "source": [
    "#Regroup sales transactions\n",
    "twelve_month_data = data.loc[data['InvoiceDate'] < '2011-12-01']\n",
    "sales_time_grouped = data.groupby(['InvoiceNo','Day of Week','Week of Year','Month',\"Hour\",'Year','Day of Week Number'], as_index=False)['Quantity','Revenue'].sum()\n",
    "sales_time_grouped_12 = twelve_month_data.groupby(['InvoiceNo','Day of Week','Week of Year','Month',\"Hour\",'Year','Day of Week Number'], as_index=False)['Quantity','Revenue'].sum()\n",
    "sales_dow_grouped = data.groupby(['InvoiceNo','Day of Week Number','Day of Week'], as_index=False)['Quantity','Revenue'].sum()\n",
    "time_grouped_75_revenue = sales_dow_grouped.loc[sales_time_grouped[\"Revenue\"] < sales_dow_grouped.Revenue.quantile(.75)]\n",
    "time_grouped_75_quantity = sales_time_grouped.loc[sales_time_grouped[\"Quantity\"] < sales_time_grouped.Revenue.quantile(.75)]\n",
    "time_grouped_75_quantity_12 = sales_time_grouped_12.loc[sales_time_grouped[\"Quantity\"] < sales_time_grouped_12.Revenue.quantile(.75)]\n",
    "\n",
    "\n",
    "#time_grouped_75_quantity = sales_time_grouped.loc[sales_time_grouped[\"Quantity\"] < sales_time_grouped.Quantity.quantile(.75)]\n",
    "\n",
    "dow_grouped_75_quantity = time_grouped_75_quantity.groupby(['Day of Week Number','Day of Week'], as_index=False)['Quantity'].sum()\n",
    "\n",
    "woy_grouped_75_quantity = time_grouped_75_quantity_12.groupby(['Week of Year'], as_index=False)['Quantity'].sum()\n",
    "\n",
    "hour_grouped_75_quantity = time_grouped_75_quantity.groupby(['Hour'], as_index=False)['Quantity'].sum()\n",
    "\n",
    "year_grouped_75_quantity = time_grouped_75_quantity.groupby(['Year'], as_index=False)['Quantity'].sum()\n",
    "\n",
    "month_grouped_75_quantity = time_grouped_75_quantity_12.groupby(['Month'], as_index=False)['Quantity'].sum()\n",
    "#time_grouped_75_revenue = sales_time_grouped.loc[sales_trans_grou#"
   ]
  },
  {
   "cell_type": "code",
   "execution_count": 11,
   "metadata": {
    "scrolled": false
   },
   "outputs": [
    {
     "data": {
      "image/png": "[encoded data removed]",
      "text/plain": [
       "<matplotlib.figure.Figure at 0x24d876fc6d8>"
      ]
     },
     "metadata": {},
     "output_type": "display_data"
    }
   ],
   "source": [
    "year_grouped_75_quantity.plot(x=\"Year\", y='Quantity', kind='bar', figsize=(15,10))\n",
    "plt.title('Quantity by Year')\n",
    "plt.show()"
   ]
  },
  {
   "cell_type": "markdown",
   "metadata": {},
   "source": [
    "It looks like there are only a few days in December 2019 included.  Will exclude December 2011 from the time exploration, will still have a few 12 months of data."
   ]
  },
  {
   "cell_type": "code",
   "execution_count": 12,
   "metadata": {
    "scrolled": false
   },
   "outputs": [
    {
     "data": {
      "image/png": "[encoded data removed]",
      "text/plain": [
       "<matplotlib.figure.Figure at 0x24d8ed747b8>"
      ]
     },
     "metadata": {},
     "output_type": "display_data"
    }
   ],
   "source": [
    "month_grouped_75_quantity.plot(x=\"Month\", y='Quantity', kind='bar', figsize=(15,10))\n",
    "plt.title('Quantity by Month of Year')\n",
    "plt.show()"
   ]
  },
  {
   "cell_type": "code",
   "execution_count": 13,
   "metadata": {},
   "outputs": [
    {
     "data": {
      "image/png": "[encoded data removed]",
      "text/plain": [
       "<matplotlib.figure.Figure at 0x24d945167b8>"
      ]
     },
     "metadata": {},
     "output_type": "display_data"
    }
   ],
   "source": [
    "woy_grouped_75_quantity.plot(x=\"Week of Year\", y='Quantity', kind='bar', figsize=(15,10))\n",
    "plt.title('Quantity by Week of Year')\n",
    "plt.show()"
   ]
  },
  {
   "cell_type": "code",
   "execution_count": 14,
   "metadata": {
    "scrolled": false
   },
   "outputs": [
    {
     "data": {
      "image/png": "[encoded data removed]",
      "text/plain": [
       "<matplotlib.figure.Figure at 0x24d94c24198>"
      ]
     },
     "metadata": {},
     "output_type": "display_data"
    }
   ],
   "source": [
    "dow_grouped_75_quantity.plot(x=\"Day of Week\", y='Quantity', kind='bar', figsize=(10,10))\n",
    "plt.title('Quantity by Day of Week')\n",
    "plt.show()"
   ]
  },
  {
   "cell_type": "code",
   "execution_count": 15,
   "metadata": {
    "scrolled": false
   },
   "outputs": [
    {
     "data": {
      "image/png": "[encoded data removed]",
      "text/plain": [
       "<matplotlib.figure.Figure at 0x24d94cb7470>"
      ]
     },
     "metadata": {},
     "output_type": "display_data"
    }
   ],
   "source": [
    "hour_grouped_75_quantity.plot(x=\"Hour\", y='Quantity', kind='bar', figsize=(15,10))\n",
    "plt.title('Quantity by Hour of Day')\n",
    "plt.show()"
   ]
  },
  {
   "cell_type": "markdown",
   "metadata": {},
   "source": [
    "<a id='customer_link'></a>"
   ]
  },
  {
   "cell_type": "markdown",
   "metadata": {},
   "source": [
    "## Customer Exploration"
   ]
  },
  {
   "cell_type": "code",
   "execution_count": 16,
   "metadata": {},
   "outputs": [
    {
     "name": "stdout",
     "output_type": "stream",
     "text": [
      "Number of Customers: 4338\n"
     ]
    }
   ],
   "source": [
    "#Regroup data at the customer level\n",
    "sales_cust_grouped = data.groupby('CustomerID')['Quantity','Revenue'].sum()\n",
    "sales_cust_grouped['ASP'] = sales_cust_grouped[\"Revenue\"]/ sales_cust_grouped['Quantity']\n",
    "print('Number of Customers: {}'.format(len(sales_cust_grouped)))"
   ]
  },
  {
   "cell_type": "code",
   "execution_count": 17,
   "metadata": {
    "scrolled": true
   },
   "outputs": [
    {
     "data": {
      "text/html": [
       "<div>\n",
       "<style scoped>\n",
       "    .dataframe tbody tr th:only-of-type {\n",
       "        vertical-align: middle;\n",
       "    }\n",
       "\n",
       "    .dataframe tbody tr th {\n",
       "        vertical-align: top;\n",
       "    }\n",
       "\n",
       "    .dataframe thead th {\n",
       "        text-align: right;\n",
       "    }\n",
       "</style>\n",
       "<table border=\"1\" class=\"dataframe\">\n",
       "  <thead>\n",
       "    <tr style=\"text-align: right;\">\n",
       "      <th></th>\n",
       "      <th>Quantity</th>\n",
       "      <th>Revenue</th>\n",
       "      <th>ASP</th>\n",
       "    </tr>\n",
       "  </thead>\n",
       "  <tbody>\n",
       "    <tr>\n",
       "      <th>count</th>\n",
       "      <td>4338.000000</td>\n",
       "      <td>4338.000000</td>\n",
       "      <td>4338.000000</td>\n",
       "    </tr>\n",
       "    <tr>\n",
       "      <th>mean</th>\n",
       "      <td>1191.289073</td>\n",
       "      <td>2054.266460</td>\n",
       "      <td>3.013989</td>\n",
       "    </tr>\n",
       "    <tr>\n",
       "      <th>std</th>\n",
       "      <td>5046.081546</td>\n",
       "      <td>8989.230441</td>\n",
       "      <td>33.218307</td>\n",
       "    </tr>\n",
       "    <tr>\n",
       "      <th>min</th>\n",
       "      <td>1.000000</td>\n",
       "      <td>3.750000</td>\n",
       "      <td>0.085619</td>\n",
       "    </tr>\n",
       "    <tr>\n",
       "      <th>25%</th>\n",
       "      <td>160.000000</td>\n",
       "      <td>307.415000</td>\n",
       "      <td>1.408745</td>\n",
       "    </tr>\n",
       "    <tr>\n",
       "      <th>50%</th>\n",
       "      <td>379.000000</td>\n",
       "      <td>674.485000</td>\n",
       "      <td>1.808724</td>\n",
       "    </tr>\n",
       "    <tr>\n",
       "      <th>75%</th>\n",
       "      <td>992.750000</td>\n",
       "      <td>1661.740000</td>\n",
       "      <td>2.351760</td>\n",
       "    </tr>\n",
       "    <tr>\n",
       "      <th>max</th>\n",
       "      <td>196915.000000</td>\n",
       "      <td>280206.020000</td>\n",
       "      <td>2033.100000</td>\n",
       "    </tr>\n",
       "  </tbody>\n",
       "</table>\n",
       "</div>"
      ],
      "text/plain": [
       "            Quantity        Revenue          ASP\n",
       "count    4338.000000    4338.000000  4338.000000\n",
       "mean     1191.289073    2054.266460     3.013989\n",
       "std      5046.081546    8989.230441    33.218307\n",
       "min         1.000000       3.750000     0.085619\n",
       "25%       160.000000     307.415000     1.408745\n",
       "50%       379.000000     674.485000     1.808724\n",
       "75%       992.750000    1661.740000     2.351760\n",
       "max    196915.000000  280206.020000  2033.100000"
      ]
     },
     "execution_count": 17,
     "metadata": {},
     "output_type": "execute_result"
    }
   ],
   "source": [
    "# Descriptive statistics for the customer level data\n",
    "sales_cust_grouped.describe()"
   ]
  },
  {
   "cell_type": "markdown",
   "metadata": {},
   "source": [
    "First, we can see there are 4,318 customers. There are interesting gaps in the customers looking at the revenue alone.  The average customer has spent 1,1815, the smallest 2.90 and the biggest over 234,407.  It appears they have some large customers, but also service small customers as well.  The gaps in quantity are also similar, with the biggest customers purchasing over 156,113 units, versus a mean of 1,001 and 75th percentile of 939. Let's look at boxplots for ASP, Quanity and Revenue at the customer level."
   ]
  },
  {
   "cell_type": "markdown",
   "metadata": {},
   "source": [
    "We see there is a very large unit customers at 175,000 with the next customer at less than half that amount just above 75,000.  Let's look at how this is shown when we look at revenue."
   ]
  },
  {
   "cell_type": "markdown",
   "metadata": {},
   "source": [
    "Again, we see the very large customer with close to 250,000 in revenue.  It is interesting to note there are quite a few customers between 50,000 to 150,000.  And a bigger cluster in the lower thousands up to 50,000. Lets try to remove some of the larger customers by limiting units to the 75th percentile.  This should help us have a better understanding of the majority of the customers."
   ]
  },
  {
   "cell_type": "code",
   "execution_count": 18,
   "metadata": {},
   "outputs": [
    {
     "data": {
      "text/html": [
       "<div>\n",
       "<style scoped>\n",
       "    .dataframe tbody tr th:only-of-type {\n",
       "        vertical-align: middle;\n",
       "    }\n",
       "\n",
       "    .dataframe tbody tr th {\n",
       "        vertical-align: top;\n",
       "    }\n",
       "\n",
       "    .dataframe thead th {\n",
       "        text-align: right;\n",
       "    }\n",
       "</style>\n",
       "<table border=\"1\" class=\"dataframe\">\n",
       "  <thead>\n",
       "    <tr style=\"text-align: right;\">\n",
       "      <th></th>\n",
       "      <th>Quantity</th>\n",
       "      <th>Revenue</th>\n",
       "      <th>ASP</th>\n",
       "    </tr>\n",
       "    <tr>\n",
       "      <th>CustomerID</th>\n",
       "      <th></th>\n",
       "      <th></th>\n",
       "      <th></th>\n",
       "    </tr>\n",
       "  </thead>\n",
       "  <tbody>\n",
       "    <tr>\n",
       "      <th>12346.0</th>\n",
       "      <td>74215</td>\n",
       "      <td>77183.60</td>\n",
       "      <td>1.040000</td>\n",
       "    </tr>\n",
       "    <tr>\n",
       "      <th>12347.0</th>\n",
       "      <td>2458</td>\n",
       "      <td>4310.00</td>\n",
       "      <td>1.753458</td>\n",
       "    </tr>\n",
       "    <tr>\n",
       "      <th>12348.0</th>\n",
       "      <td>2341</td>\n",
       "      <td>1797.24</td>\n",
       "      <td>0.767723</td>\n",
       "    </tr>\n",
       "    <tr>\n",
       "      <th>12349.0</th>\n",
       "      <td>631</td>\n",
       "      <td>1757.55</td>\n",
       "      <td>2.785341</td>\n",
       "    </tr>\n",
       "    <tr>\n",
       "      <th>12350.0</th>\n",
       "      <td>197</td>\n",
       "      <td>334.40</td>\n",
       "      <td>1.697462</td>\n",
       "    </tr>\n",
       "  </tbody>\n",
       "</table>\n",
       "</div>"
      ],
      "text/plain": [
       "            Quantity   Revenue       ASP\n",
       "CustomerID                              \n",
       "12346.0        74215  77183.60  1.040000\n",
       "12347.0         2458   4310.00  1.753458\n",
       "12348.0         2341   1797.24  0.767723\n",
       "12349.0          631   1757.55  2.785341\n",
       "12350.0          197    334.40  1.697462"
      ]
     },
     "execution_count": 18,
     "metadata": {},
     "output_type": "execute_result"
    }
   ],
   "source": [
    "sales_cust_grouped.head()"
   ]
  },
  {
   "cell_type": "code",
   "execution_count": 19,
   "metadata": {},
   "outputs": [],
   "source": [
    "# Limit sales customer grouping to 940 units, 939 units is the 75th percentile.\n",
    "sales_cust_grouped_75_qty = sales_cust_grouped.loc[sales_cust_grouped['Quantity'] < sales_cust_grouped.Quantity.quantile(.75)]\n",
    "sales_cust_grouped_75_revenue = sales_cust_grouped.loc[sales_cust_grouped['Revenue'] < sales_cust_grouped.Revenue.quantile(.75)]"
   ]
  },
  {
   "cell_type": "markdown",
   "metadata": {},
   "source": [
    "When we exclude some of the bigger customers we are still left from 3,237 customers, from our previous total of 4,318.  Interestingly this caps are biggest customer at 39,917 in revenue.  The average units ordered are 313 and 610 in revenue.  Let's look at histograms for distributions of these customers."
   ]
  },
  {
   "cell_type": "code",
   "execution_count": 20,
   "metadata": {
    "scrolled": false
   },
   "outputs": [
    {
     "data": {
      "image/png": "[encoded data removed]",
      "text/plain": [
       "<matplotlib.figure.Figure at 0x24d94d25fd0>"
      ]
     },
     "metadata": {},
     "output_type": "display_data"
    }
   ],
   "source": [
    "sales_cust_grouped_75_qty.hist(column='Quantity', bins=50, figsize=(10,10))\n",
    "plt.show()"
   ]
  },
  {
   "cell_type": "code",
   "execution_count": 21,
   "metadata": {},
   "outputs": [
    {
     "data": {
      "image/png": "[encoded data removed]",
      "text/plain": [
       "<matplotlib.figure.Figure at 0x24d980bbba8>"
      ]
     },
     "metadata": {},
     "output_type": "display_data"
    }
   ],
   "source": [
    "sales_cust_grouped_75_qty.boxplot(column='Quantity', figsize=(10,10))\n",
    "plt.show()"
   ]
  },
  {
   "cell_type": "code",
   "execution_count": 22,
   "metadata": {
    "scrolled": false
   },
   "outputs": [
    {
     "data": {
      "image/png": "[encoded data removed]",
      "text/plain": [
       "<matplotlib.figure.Figure at 0x24d980dc3c8>"
      ]
     },
     "metadata": {},
     "output_type": "display_data"
    }
   ],
   "source": [
    "sales_cust_grouped_75_revenue.hist(column='Revenue', bins=50, figsize=(10,10))\n",
    "plt.show()"
   ]
  },
  {
   "cell_type": "code",
   "execution_count": 23,
   "metadata": {},
   "outputs": [
    {
     "data": {
      "image/png": "[encoded data removed]",
      "text/plain": [
       "<matplotlib.figure.Figure at 0x24d982f73c8>"
      ]
     },
     "metadata": {},
     "output_type": "display_data"
    }
   ],
   "source": [
    "sales_cust_grouped_75_revenue.boxplot(column='Revenue', figsize=(10,10))\n",
    "plt.show()"
   ]
  },
  {
   "cell_type": "markdown",
   "metadata": {},
   "source": [
    "<a id='transaction_link'></a>"
   ]
  },
  {
   "cell_type": "markdown",
   "metadata": {},
   "source": [
    "## Transaction Exploration"
   ]
  },
  {
   "cell_type": "code",
   "execution_count": 24,
   "metadata": {
    "collapsed": true
   },
   "outputs": [],
   "source": [
    "#Regroup sales transactions\n",
    "sales_trans_grouped = data.groupby('InvoiceNo')['Quantity','Revenue'].sum()\n",
    "sales_trans_grouped['ASP'] = sales_trans_grouped[\"Revenue\"]/ sales_trans_grouped['Quantity']\n",
    "\n",
    "trans_grouped_75_quantity = sales_trans_grouped.loc[sales_trans_grouped[\"Quantity\"] < sales_trans_grouped.Quantity.quantile(.75)]\n",
    "trans_grouped_75_revenue = sales_trans_grouped.loc[sales_trans_grouped[\"Revenue\"] < sales_trans_grouped.Revenue.quantile(.75)]"
   ]
  },
  {
   "cell_type": "code",
   "execution_count": 25,
   "metadata": {
    "scrolled": false
   },
   "outputs": [
    {
     "name": "stdout",
     "output_type": "stream",
     "text": [
      "Number of transactions: 19960\n",
      "Total Revenue: 10666684.544000056\n",
      "Total Units: 5588376\n"
     ]
    }
   ],
   "source": [
    "# Look at number of transactions\n",
    "print('Number of transactions: {}'.format(len(sales_trans_grouped)))\n",
    "print('Total Revenue: {}'.format(sum(sales_trans_grouped['Revenue'])))\n",
    "print('Total Units: {}'.format(sum(sales_trans_grouped['Quantity'])))"
   ]
  },
  {
   "cell_type": "code",
   "execution_count": 26,
   "metadata": {
    "scrolled": true
   },
   "outputs": [],
   "source": [
    "sales_trans_quantity_75 = sales_trans_grouped.loc[sales_trans_grouped['Quantity'] < sales_trans_grouped.Quantity.quantile(.75)]\n",
    "sales_trans_revenue_75 = sales_trans_grouped.loc[(sales_trans_grouped['Revenue'] < sales_trans_grouped.Revenue.quantile(.75)) & (sales_trans_grouped['Revenue'] >0)]"
   ]
  },
  {
   "cell_type": "markdown",
   "metadata": {},
   "source": [
    "When we focus on sales transactions only that reduces our transaction count from 25,900 to 20,496.  Still a good number of transactions for analysis.  Next let's look at the descriptive statistics for this reduced group.>"
   ]
  },
  {
   "cell_type": "code",
   "execution_count": 27,
   "metadata": {
    "scrolled": true
   },
   "outputs": [
    {
     "data": {
      "text/html": [
       "<div>\n",
       "<style scoped>\n",
       "    .dataframe tbody tr th:only-of-type {\n",
       "        vertical-align: middle;\n",
       "    }\n",
       "\n",
       "    .dataframe tbody tr th {\n",
       "        vertical-align: top;\n",
       "    }\n",
       "\n",
       "    .dataframe thead th {\n",
       "        text-align: right;\n",
       "    }\n",
       "</style>\n",
       "<table border=\"1\" class=\"dataframe\">\n",
       "  <thead>\n",
       "    <tr style=\"text-align: right;\">\n",
       "      <th></th>\n",
       "      <th>Quantity</th>\n",
       "      <th>Revenue</th>\n",
       "      <th>ASP</th>\n",
       "    </tr>\n",
       "  </thead>\n",
       "  <tbody>\n",
       "    <tr>\n",
       "      <th>count</th>\n",
       "      <td>19960.000000</td>\n",
       "      <td>19960.000000</td>\n",
       "      <td>19960.000000</td>\n",
       "    </tr>\n",
       "    <tr>\n",
       "      <th>mean</th>\n",
       "      <td>279.978758</td>\n",
       "      <td>534.403033</td>\n",
       "      <td>7.735306</td>\n",
       "    </tr>\n",
       "    <tr>\n",
       "      <th>std</th>\n",
       "      <td>955.324779</td>\n",
       "      <td>1780.487648</td>\n",
       "      <td>159.132388</td>\n",
       "    </tr>\n",
       "    <tr>\n",
       "      <th>min</th>\n",
       "      <td>1.000000</td>\n",
       "      <td>0.380000</td>\n",
       "      <td>0.060000</td>\n",
       "    </tr>\n",
       "    <tr>\n",
       "      <th>25%</th>\n",
       "      <td>70.000000</td>\n",
       "      <td>152.510000</td>\n",
       "      <td>1.424549</td>\n",
       "    </tr>\n",
       "    <tr>\n",
       "      <th>50%</th>\n",
       "      <td>151.000000</td>\n",
       "      <td>303.835000</td>\n",
       "      <td>1.946812</td>\n",
       "    </tr>\n",
       "    <tr>\n",
       "      <th>75%</th>\n",
       "      <td>296.000000</td>\n",
       "      <td>495.615000</td>\n",
       "      <td>2.816500</td>\n",
       "    </tr>\n",
       "    <tr>\n",
       "      <th>max</th>\n",
       "      <td>80995.000000</td>\n",
       "      <td>168469.600000</td>\n",
       "      <td>13541.330000</td>\n",
       "    </tr>\n",
       "  </tbody>\n",
       "</table>\n",
       "</div>"
      ],
      "text/plain": [
       "           Quantity        Revenue           ASP\n",
       "count  19960.000000   19960.000000  19960.000000\n",
       "mean     279.978758     534.403033      7.735306\n",
       "std      955.324779    1780.487648    159.132388\n",
       "min        1.000000       0.380000      0.060000\n",
       "25%       70.000000     152.510000      1.424549\n",
       "50%      151.000000     303.835000      1.946812\n",
       "75%      296.000000     495.615000      2.816500\n",
       "max    80995.000000  168469.600000  13541.330000"
      ]
     },
     "execution_count": 27,
     "metadata": {},
     "output_type": "execute_result"
    }
   ],
   "source": [
    "sales_trans_grouped.describe()"
   ]
  },
  {
   "cell_type": "markdown",
   "metadata": {},
   "source": [
    "For sales transactions it looks like the average revenue is 465, with 232 units and ASP of 6.21.  Based on that ASP it looks like most of the items they sell are of a lower dollar value.  The 75% percentile for ASP reinforces that as it's only 2.78.  But based on the max of 13,541 it looks like there are some transactions with individual products that are very highly priced. We'll have ot look for more detail on those higher priced items later and see if they are valid o be included. Next lets look at histograms to see distribution for ASP, Quantity and Revenue."
   ]
  },
  {
   "cell_type": "code",
   "execution_count": 28,
   "metadata": {
    "scrolled": false
   },
   "outputs": [
    {
     "data": {
      "image/png": "[encoded data removed]",
      "text/plain": [
       "<matplotlib.figure.Figure at 0x24d9877dcf8>"
      ]
     },
     "metadata": {},
     "output_type": "display_data"
    }
   ],
   "source": [
    "trans_grouped_75_quantity.hist(column='Quantity',bins=50, figsize=(10,10))\n",
    "plt.show()"
   ]
  },
  {
   "cell_type": "code",
   "execution_count": 29,
   "metadata": {},
   "outputs": [
    {
     "data": {
      "image/png": "[encoded data removed]",
      "text/plain": [
       "<matplotlib.figure.Figure at 0x24d9896f4a8>"
      ]
     },
     "metadata": {},
     "output_type": "display_data"
    }
   ],
   "source": [
    "trans_grouped_75_quantity.boxplot(column='Quantity', figsize=(10,10))\n",
    "plt.show()"
   ]
  },
  {
   "cell_type": "markdown",
   "metadata": {},
   "source": [
    "The histograms reinforce what we saw with the descriptive statistics, most transactions are at the lower end of Revenue, ASP and Quantity.  Let's look at boxplots for a different view of the distributions of Quantity and Revenue."
   ]
  },
  {
   "cell_type": "code",
   "execution_count": 30,
   "metadata": {
    "scrolled": false
   },
   "outputs": [
    {
     "data": {
      "image/png": "[encoded data removed]",
      "text/plain": [
       "<matplotlib.figure.Figure at 0x24d9896f240>"
      ]
     },
     "metadata": {},
     "output_type": "display_data"
    }
   ],
   "source": [
    "sales_trans_revenue_75.boxplot(column='Revenue', figsize=(10,10))\n",
    "plt.show()"
   ]
  },
  {
   "cell_type": "code",
   "execution_count": 31,
   "metadata": {
    "scrolled": false
   },
   "outputs": [
    {
     "data": {
      "image/png": "[encoded data removed]",
      "text/plain": [
       "<matplotlib.figure.Figure at 0x24d98595828>"
      ]
     },
     "metadata": {},
     "output_type": "display_data"
    }
   ],
   "source": [
    "trans_grouped_75_revenue.hist(column='Revenue', figsize=(10,10))\n",
    "plt.title('Quantity Boxplot ')\n",
    "plt.show()"
   ]
  },
  {
   "cell_type": "markdown",
   "metadata": {},
   "source": [
    "The box plots alighn with everything we've seen in regards to individual transactions.  Now that we have a general idea about those, let's look at the data form a customer perspective.\n",
    "<a id='product_link'></a>"
   ]
  },
  {
   "cell_type": "markdown",
   "metadata": {},
   "source": [
    "## Product Exploration\n"
   ]
  },
  {
   "cell_type": "markdown",
   "metadata": {},
   "source": [
    "To begin the exploration let's look at the data at the product level.  It will be important to learn how many product there are as well as learn about the differences in revenue and quantity of each product."
   ]
  },
  {
   "cell_type": "code",
   "execution_count": 32,
   "metadata": {},
   "outputs": [
    {
     "name": "stdout",
     "output_type": "stream",
     "text": [
      "Number of Products: 4026\n"
     ]
    }
   ],
   "source": [
    "# Group data by transactions with Revenue and Quantity columns\n",
    "product_grouped = data.groupby(by='Description')['Quantity','Revenue'].sum()\n",
    "product_grouped['ASP'] = product_grouped['Revenue'] / product_grouped['Quantity']\n",
    "print('Number of Products: {}'.format(len(product_grouped)))"
   ]
  },
  {
   "cell_type": "code",
   "execution_count": 33,
   "metadata": {
    "scrolled": true
   },
   "outputs": [
    {
     "data": {
      "text/html": [
       "<div>\n",
       "<style scoped>\n",
       "    .dataframe tbody tr th:only-of-type {\n",
       "        vertical-align: middle;\n",
       "    }\n",
       "\n",
       "    .dataframe tbody tr th {\n",
       "        vertical-align: top;\n",
       "    }\n",
       "\n",
       "    .dataframe thead th {\n",
       "        text-align: right;\n",
       "    }\n",
       "</style>\n",
       "<table border=\"1\" class=\"dataframe\">\n",
       "  <thead>\n",
       "    <tr style=\"text-align: right;\">\n",
       "      <th></th>\n",
       "      <th>Quantity</th>\n",
       "      <th>Revenue</th>\n",
       "      <th>ASP</th>\n",
       "    </tr>\n",
       "  </thead>\n",
       "  <tbody>\n",
       "    <tr>\n",
       "      <th>count</th>\n",
       "      <td>4026.000000</td>\n",
       "      <td>4026.000000</td>\n",
       "      <td>4026.000000</td>\n",
       "    </tr>\n",
       "    <tr>\n",
       "      <th>mean</th>\n",
       "      <td>1388.071535</td>\n",
       "      <td>2649.449713</td>\n",
       "      <td>8.122115</td>\n",
       "    </tr>\n",
       "    <tr>\n",
       "      <th>std</th>\n",
       "      <td>3465.395806</td>\n",
       "      <td>7815.336619</td>\n",
       "      <td>205.624154</td>\n",
       "    </tr>\n",
       "    <tr>\n",
       "      <th>min</th>\n",
       "      <td>1.000000</td>\n",
       "      <td>0.003000</td>\n",
       "      <td>0.001000</td>\n",
       "    </tr>\n",
       "    <tr>\n",
       "      <th>25%</th>\n",
       "      <td>56.000000</td>\n",
       "      <td>126.757500</td>\n",
       "      <td>1.025689</td>\n",
       "    </tr>\n",
       "    <tr>\n",
       "      <th>50%</th>\n",
       "      <td>358.000000</td>\n",
       "      <td>666.900000</td>\n",
       "      <td>1.969831</td>\n",
       "    </tr>\n",
       "    <tr>\n",
       "      <th>75%</th>\n",
       "      <td>1372.750000</td>\n",
       "      <td>2190.140000</td>\n",
       "      <td>3.975347</td>\n",
       "    </tr>\n",
       "    <tr>\n",
       "      <th>max</th>\n",
       "      <td>80995.000000</td>\n",
       "      <td>206248.770000</td>\n",
       "      <td>11062.060000</td>\n",
       "    </tr>\n",
       "  </tbody>\n",
       "</table>\n",
       "</div>"
      ],
      "text/plain": [
       "           Quantity        Revenue           ASP\n",
       "count   4026.000000    4026.000000   4026.000000\n",
       "mean    1388.071535    2649.449713      8.122115\n",
       "std     3465.395806    7815.336619    205.624154\n",
       "min        1.000000       0.003000      0.001000\n",
       "25%       56.000000     126.757500      1.025689\n",
       "50%      358.000000     666.900000      1.969831\n",
       "75%     1372.750000    2190.140000      3.975347\n",
       "max    80995.000000  206248.770000  11062.060000"
      ]
     },
     "execution_count": 33,
     "metadata": {},
     "output_type": "execute_result"
    }
   ],
   "source": [
    "product_grouped.describe()"
   ]
  },
  {
   "cell_type": "code",
   "execution_count": 34,
   "metadata": {
    "scrolled": true
   },
   "outputs": [
    {
     "data": {
      "text/html": [
       "<div>\n",
       "<style scoped>\n",
       "    .dataframe tbody tr th:only-of-type {\n",
       "        vertical-align: middle;\n",
       "    }\n",
       "\n",
       "    .dataframe tbody tr th {\n",
       "        vertical-align: top;\n",
       "    }\n",
       "\n",
       "    .dataframe thead th {\n",
       "        text-align: right;\n",
       "    }\n",
       "</style>\n",
       "<table border=\"1\" class=\"dataframe\">\n",
       "  <thead>\n",
       "    <tr style=\"text-align: right;\">\n",
       "      <th></th>\n",
       "      <th>Quantity</th>\n",
       "      <th>Revenue</th>\n",
       "      <th>ASP</th>\n",
       "    </tr>\n",
       "    <tr>\n",
       "      <th>Description</th>\n",
       "      <th></th>\n",
       "      <th></th>\n",
       "      <th></th>\n",
       "    </tr>\n",
       "  </thead>\n",
       "  <tbody>\n",
       "    <tr>\n",
       "      <th>DOTCOM POSTAGE</th>\n",
       "      <td>706</td>\n",
       "      <td>206248.77</td>\n",
       "      <td>292.137068</td>\n",
       "    </tr>\n",
       "    <tr>\n",
       "      <th>REGENCY CAKESTAND 3 TIER</th>\n",
       "      <td>13879</td>\n",
       "      <td>174484.74</td>\n",
       "      <td>12.571852</td>\n",
       "    </tr>\n",
       "    <tr>\n",
       "      <th>PAPER CRAFT , LITTLE BIRDIE</th>\n",
       "      <td>80995</td>\n",
       "      <td>168469.60</td>\n",
       "      <td>2.080000</td>\n",
       "    </tr>\n",
       "    <tr>\n",
       "      <th>WHITE HANGING HEART T-LIGHT HOLDER</th>\n",
       "      <td>37891</td>\n",
       "      <td>106292.77</td>\n",
       "      <td>2.805225</td>\n",
       "    </tr>\n",
       "    <tr>\n",
       "      <th>PARTY BUNTING</th>\n",
       "      <td>18295</td>\n",
       "      <td>99504.33</td>\n",
       "      <td>5.438881</td>\n",
       "    </tr>\n",
       "    <tr>\n",
       "      <th>JUMBO BAG RED RETROSPOT</th>\n",
       "      <td>48474</td>\n",
       "      <td>94340.05</td>\n",
       "      <td>1.946199</td>\n",
       "    </tr>\n",
       "    <tr>\n",
       "      <th>MEDIUM CERAMIC TOP STORAGE JAR</th>\n",
       "      <td>78033</td>\n",
       "      <td>81700.92</td>\n",
       "      <td>1.047005</td>\n",
       "    </tr>\n",
       "    <tr>\n",
       "      <th>Manual</th>\n",
       "      <td>7225</td>\n",
       "      <td>78112.82</td>\n",
       "      <td>10.811463</td>\n",
       "    </tr>\n",
       "    <tr>\n",
       "      <th>POSTAGE</th>\n",
       "      <td>3150</td>\n",
       "      <td>78101.88</td>\n",
       "      <td>24.794248</td>\n",
       "    </tr>\n",
       "    <tr>\n",
       "      <th>RABBIT NIGHT LIGHT</th>\n",
       "      <td>30788</td>\n",
       "      <td>66964.99</td>\n",
       "      <td>2.175035</td>\n",
       "    </tr>\n",
       "  </tbody>\n",
       "</table>\n",
       "</div>"
      ],
      "text/plain": [
       "                                    Quantity    Revenue         ASP\n",
       "Description                                                        \n",
       "DOTCOM POSTAGE                           706  206248.77  292.137068\n",
       "REGENCY CAKESTAND 3 TIER               13879  174484.74   12.571852\n",
       "PAPER CRAFT , LITTLE BIRDIE            80995  168469.60    2.080000\n",
       "WHITE HANGING HEART T-LIGHT HOLDER     37891  106292.77    2.805225\n",
       "PARTY BUNTING                          18295   99504.33    5.438881\n",
       "JUMBO BAG RED RETROSPOT                48474   94340.05    1.946199\n",
       "MEDIUM CERAMIC TOP STORAGE JAR         78033   81700.92    1.047005\n",
       "Manual                                  7225   78112.82   10.811463\n",
       "POSTAGE                                 3150   78101.88   24.794248\n",
       "RABBIT NIGHT LIGHT                     30788   66964.99    2.175035"
      ]
     },
     "execution_count": 34,
     "metadata": {},
     "output_type": "execute_result"
    }
   ],
   "source": [
    "# Top 20 Revenue Products\n",
    "product_grouped_revenue = product_grouped.sort_values(by=\"Revenue\", ascending=False)\n",
    "product_grouped_revenue.head(10)"
   ]
  },
  {
   "cell_type": "code",
   "execution_count": 35,
   "metadata": {},
   "outputs": [
    {
     "data": {
      "text/html": [
       "<div>\n",
       "<style scoped>\n",
       "    .dataframe tbody tr th:only-of-type {\n",
       "        vertical-align: middle;\n",
       "    }\n",
       "\n",
       "    .dataframe tbody tr th {\n",
       "        vertical-align: top;\n",
       "    }\n",
       "\n",
       "    .dataframe thead th {\n",
       "        text-align: right;\n",
       "    }\n",
       "</style>\n",
       "<table border=\"1\" class=\"dataframe\">\n",
       "  <thead>\n",
       "    <tr style=\"text-align: right;\">\n",
       "      <th></th>\n",
       "      <th>Quantity</th>\n",
       "      <th>Revenue</th>\n",
       "      <th>ASP</th>\n",
       "    </tr>\n",
       "    <tr>\n",
       "      <th>Description</th>\n",
       "      <th></th>\n",
       "      <th></th>\n",
       "      <th></th>\n",
       "    </tr>\n",
       "  </thead>\n",
       "  <tbody>\n",
       "    <tr>\n",
       "      <th>PAPER CRAFT , LITTLE BIRDIE</th>\n",
       "      <td>80995</td>\n",
       "      <td>168469.60</td>\n",
       "      <td>2.080000</td>\n",
       "    </tr>\n",
       "    <tr>\n",
       "      <th>MEDIUM CERAMIC TOP STORAGE JAR</th>\n",
       "      <td>78033</td>\n",
       "      <td>81700.92</td>\n",
       "      <td>1.047005</td>\n",
       "    </tr>\n",
       "    <tr>\n",
       "      <th>WORLD WAR 2 GLIDERS ASSTD DESIGNS</th>\n",
       "      <td>55047</td>\n",
       "      <td>13841.85</td>\n",
       "      <td>0.251455</td>\n",
       "    </tr>\n",
       "    <tr>\n",
       "      <th>JUMBO BAG RED RETROSPOT</th>\n",
       "      <td>48474</td>\n",
       "      <td>94340.05</td>\n",
       "      <td>1.946199</td>\n",
       "    </tr>\n",
       "    <tr>\n",
       "      <th>WHITE HANGING HEART T-LIGHT HOLDER</th>\n",
       "      <td>37891</td>\n",
       "      <td>106292.77</td>\n",
       "      <td>2.805225</td>\n",
       "    </tr>\n",
       "    <tr>\n",
       "      <th>POPCORN HOLDER</th>\n",
       "      <td>36761</td>\n",
       "      <td>34298.87</td>\n",
       "      <td>0.933023</td>\n",
       "    </tr>\n",
       "    <tr>\n",
       "      <th>ASSORTED COLOUR BIRD ORNAMENT</th>\n",
       "      <td>36461</td>\n",
       "      <td>59094.93</td>\n",
       "      <td>1.620771</td>\n",
       "    </tr>\n",
       "    <tr>\n",
       "      <th>PACK OF 72 RETROSPOT CAKE CASES</th>\n",
       "      <td>36419</td>\n",
       "      <td>21259.10</td>\n",
       "      <td>0.583737</td>\n",
       "    </tr>\n",
       "    <tr>\n",
       "      <th>RABBIT NIGHT LIGHT</th>\n",
       "      <td>30788</td>\n",
       "      <td>66964.99</td>\n",
       "      <td>2.175035</td>\n",
       "    </tr>\n",
       "    <tr>\n",
       "      <th>MINI PAINT SET VINTAGE</th>\n",
       "      <td>26633</td>\n",
       "      <td>16937.82</td>\n",
       "      <td>0.635971</td>\n",
       "    </tr>\n",
       "  </tbody>\n",
       "</table>\n",
       "</div>"
      ],
      "text/plain": [
       "                                    Quantity    Revenue       ASP\n",
       "Description                                                      \n",
       "PAPER CRAFT , LITTLE BIRDIE            80995  168469.60  2.080000\n",
       "MEDIUM CERAMIC TOP STORAGE JAR         78033   81700.92  1.047005\n",
       "WORLD WAR 2 GLIDERS ASSTD DESIGNS      55047   13841.85  0.251455\n",
       "JUMBO BAG RED RETROSPOT                48474   94340.05  1.946199\n",
       "WHITE HANGING HEART T-LIGHT HOLDER     37891  106292.77  2.805225\n",
       "POPCORN HOLDER                         36761   34298.87  0.933023\n",
       "ASSORTED COLOUR BIRD ORNAMENT          36461   59094.93  1.620771\n",
       "PACK OF 72 RETROSPOT CAKE CASES        36419   21259.10  0.583737\n",
       "RABBIT NIGHT LIGHT                     30788   66964.99  2.175035\n",
       "MINI PAINT SET VINTAGE                 26633   16937.82  0.635971"
      ]
     },
     "execution_count": 35,
     "metadata": {},
     "output_type": "execute_result"
    }
   ],
   "source": [
    "# Top 20 Quantity Products\n",
    "product_grouped_quantity = product_grouped.sort_values(by=\"Quantity\", ascending=False)\n",
    "product_grouped_quantity.head(10)"
   ]
  },
  {
   "cell_type": "code",
   "execution_count": 36,
   "metadata": {
    "scrolled": false
   },
   "outputs": [
    {
     "data": {
      "text/html": [
       "<div>\n",
       "<style scoped>\n",
       "    .dataframe tbody tr th:only-of-type {\n",
       "        vertical-align: middle;\n",
       "    }\n",
       "\n",
       "    .dataframe tbody tr th {\n",
       "        vertical-align: top;\n",
       "    }\n",
       "\n",
       "    .dataframe thead th {\n",
       "        text-align: right;\n",
       "    }\n",
       "</style>\n",
       "<table border=\"1\" class=\"dataframe\">\n",
       "  <thead>\n",
       "    <tr style=\"text-align: right;\">\n",
       "      <th></th>\n",
       "      <th>Quantity</th>\n",
       "      <th>Revenue</th>\n",
       "      <th>ASP</th>\n",
       "    </tr>\n",
       "  </thead>\n",
       "  <tbody>\n",
       "    <tr>\n",
       "      <th>count</th>\n",
       "      <td>4026.000000</td>\n",
       "      <td>4026.000000</td>\n",
       "      <td>4026.000000</td>\n",
       "    </tr>\n",
       "    <tr>\n",
       "      <th>mean</th>\n",
       "      <td>1388.071535</td>\n",
       "      <td>2649.449713</td>\n",
       "      <td>8.122115</td>\n",
       "    </tr>\n",
       "    <tr>\n",
       "      <th>std</th>\n",
       "      <td>3465.395806</td>\n",
       "      <td>7815.336619</td>\n",
       "      <td>205.624154</td>\n",
       "    </tr>\n",
       "    <tr>\n",
       "      <th>min</th>\n",
       "      <td>1.000000</td>\n",
       "      <td>0.003000</td>\n",
       "      <td>0.001000</td>\n",
       "    </tr>\n",
       "    <tr>\n",
       "      <th>25%</th>\n",
       "      <td>56.000000</td>\n",
       "      <td>126.757500</td>\n",
       "      <td>1.025689</td>\n",
       "    </tr>\n",
       "    <tr>\n",
       "      <th>50%</th>\n",
       "      <td>358.000000</td>\n",
       "      <td>666.900000</td>\n",
       "      <td>1.969831</td>\n",
       "    </tr>\n",
       "    <tr>\n",
       "      <th>75%</th>\n",
       "      <td>1372.750000</td>\n",
       "      <td>2190.140000</td>\n",
       "      <td>3.975347</td>\n",
       "    </tr>\n",
       "    <tr>\n",
       "      <th>max</th>\n",
       "      <td>80995.000000</td>\n",
       "      <td>206248.770000</td>\n",
       "      <td>11062.060000</td>\n",
       "    </tr>\n",
       "  </tbody>\n",
       "</table>\n",
       "</div>"
      ],
      "text/plain": [
       "           Quantity        Revenue           ASP\n",
       "count   4026.000000    4026.000000   4026.000000\n",
       "mean    1388.071535    2649.449713      8.122115\n",
       "std     3465.395806    7815.336619    205.624154\n",
       "min        1.000000       0.003000      0.001000\n",
       "25%       56.000000     126.757500      1.025689\n",
       "50%      358.000000     666.900000      1.969831\n",
       "75%     1372.750000    2190.140000      3.975347\n",
       "max    80995.000000  206248.770000  11062.060000"
      ]
     },
     "execution_count": 36,
     "metadata": {},
     "output_type": "execute_result"
    }
   ],
   "source": [
    "product_grouped.describe()"
   ]
  },
  {
   "cell_type": "code",
   "execution_count": 37,
   "metadata": {
    "collapsed": true
   },
   "outputs": [],
   "source": [
    "# Look at 75th percentile of product to exclude large outliers\n",
    "product_grouped_75_quantity = product_grouped.loc[product_grouped[\"Quantity\"] < product_grouped.Quantity.quantile(.75)]\n",
    "product_grouped_75_revenue = product_grouped.loc[product_grouped[\"Revenue\"] < product_grouped.Revenue.quantile(.75)]"
   ]
  },
  {
   "cell_type": "code",
   "execution_count": 38,
   "metadata": {},
   "outputs": [
    {
     "data": {
      "image/png": "[encoded data removed]",
      "text/plain": [
       "<matplotlib.figure.Figure at 0x24d980a9390>"
      ]
     },
     "metadata": {},
     "output_type": "display_data"
    }
   ],
   "source": [
    "product_grouped_75_quantity.hist(column='Quantity', bins=25, figsize=(10,10))\n",
    "plt.title('Product Quantity Histogram (75th Percentile)')\n",
    "plt.show()"
   ]
  },
  {
   "cell_type": "code",
   "execution_count": 39,
   "metadata": {},
   "outputs": [
    {
     "data": {
      "image/png": "[encoded data removed]",
      "text/plain": [
       "<matplotlib.figure.Figure at 0x24d945165c0>"
      ]
     },
     "metadata": {},
     "output_type": "display_data"
    }
   ],
   "source": [
    "product_grouped_75_quantity.boxplot(column='Quantity', figsize=(10,10))\n",
    "plt.title('Product Quantity Histogram (75th Percentile)')\n",
    "plt.show()"
   ]
  },
  {
   "cell_type": "code",
   "execution_count": 40,
   "metadata": {
    "scrolled": false
   },
   "outputs": [
    {
     "data": {
      "image/png": "[encoded data removed]",
      "text/plain": [
       "<matplotlib.figure.Figure at 0x24d944c0470>"
      ]
     },
     "metadata": {},
     "output_type": "display_data"
    }
   ],
   "source": [
    "product_grouped_75_revenue.hist(column='Revenue', bins=25, figsize=(10,10))\n",
    "plt.title('Product Revenue Histogram (75th Percentile)')\n",
    "plt.show()"
   ]
  },
  {
   "cell_type": "code",
   "execution_count": 41,
   "metadata": {},
   "outputs": [
    {
     "data": {
      "image/png": "[encoded data removed]",
      "text/plain": [
       "<matplotlib.figure.Figure at 0x24d98b829e8>"
      ]
     },
     "metadata": {},
     "output_type": "display_data"
    }
   ],
   "source": [
    "product_grouped_75_revenue.boxplot(column='Revenue', figsize=(10,10))\n",
    "plt.title('Product Revenue Histogram (75th Percentile)')\n",
    "plt.show()"
   ]
  }
 ],
 "metadata": {
  "kernelspec": {
   "display_name": "Python 3",
   "language": "python",
   "name": "python3"
  },
  "language_info": {
   "codemirror_mode": {
    "name": "ipython",
    "version": 3
   },
   "file_extension": ".py",
   "mimetype": "text/x-python",
   "name": "python",
   "nbconvert_exporter": "python",
   "pygments_lexer": "ipython3",
   "version": "3.6.3"
  }
 },
 "nbformat": 4,
 "nbformat_minor": 2
}
