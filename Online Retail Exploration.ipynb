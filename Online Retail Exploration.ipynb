{
 "cells": [
  {
   "cell_type": "markdown",
   "metadata": {},
   "source": [
    "# Thinkful Capstone Final Project : Exploration\n",
    "\n",
    "### Roy Shabaya"
   ]
  },
  {
   "cell_type": "markdown",
   "metadata": {},
   "source": [
    "# Overview"
   ]
  },
  {
   "cell_type": "markdown",
   "metadata": {},
   "source": [
    "For my final project I will be building a recommender system for an online retailer.  The overall problem I am attempting to solve is to be able to provide meaningful and high quality recommendations to customers.  The dataset is downloaded from UCI’s Machine Learning Repository and contains transaction data from an online retailer based in the UK.  The retailer sells gift items across several countries in Europe.  Contained in the data is information on each transaction, including the customer and product purchased.  In such a setting a recommender system can allow a retailer to provide quality recommendations to the customer that can result in increased sales and customer satisfaction.  \n",
    "\n",
    "Data Source : https://archive.ics.uci.edu/ml/datasets/Online+Retail"
   ]
  },
  {
   "cell_type": "markdown",
   "metadata": {},
   "source": [
    "## Index\n",
    "\n",
    "[Data Import and Pre-Processing](#Data)\n",
    "\n",
    "[Exploration](#exploration_link)\n",
    "   - [Time](#time_link)\n",
    "   - [Customer](#customer_link)\n",
    "   - [Transaction](#transaction_link)\n",
    "   - [Product](#product_link)\n",
    "   \n",
    "<a id='Data'></a>"
   ]
  },
  {
   "cell_type": "markdown",
   "metadata": {},
   "source": [
    "## Data Import and Pre-processing"
   ]
  },
  {
   "cell_type": "code",
   "execution_count": 1,
   "metadata": {
    "collapsed": true
   },
   "outputs": [],
   "source": [
    "# Import necessary packages\n",
    "import pandas as pd\n",
    "import numpy as np\n",
    "import matplotlib.pyplot as plt\n",
    "import seaborn as sns\n",
    "from datetime import date\n",
    "import calendar"
   ]
  },
  {
   "cell_type": "code",
   "execution_count": 2,
   "metadata": {
    "collapsed": true
   },
   "outputs": [],
   "source": [
    "# Import data\n",
    "data = pd.read_csv(r'C:\\Users\\shaba\\Online Retail.csv')"
   ]
  },
  {
   "cell_type": "code",
   "execution_count": 3,
   "metadata": {
    "scrolled": true
   },
   "outputs": [
    {
     "name": "stdout",
     "output_type": "stream",
     "text": [
      "<class 'pandas.core.frame.DataFrame'>\n",
      "RangeIndex: 541909 entries, 0 to 541908\n",
      "Data columns (total 8 columns):\n",
      "InvoiceNo      541909 non-null object\n",
      "StockCode      541909 non-null object\n",
      "Description    540455 non-null object\n",
      "Quantity       541909 non-null int64\n",
      "InvoiceDate    541909 non-null object\n",
      "UnitPrice      541909 non-null float64\n",
      "CustomerID     406829 non-null float64\n",
      "Country        541909 non-null object\n",
      "dtypes: float64(2), int64(1), object(5)\n",
      "memory usage: 33.1+ MB\n"
     ]
    }
   ],
   "source": [
    "# See columns and their data type information.  Date is an object, will need to be modified at least for time series\n",
    "data.info()"
   ]
  },
  {
   "cell_type": "code",
   "execution_count": 4,
   "metadata": {
    "collapsed": true
   },
   "outputs": [],
   "source": [
    "data['InvoiceDate'] = pd.to_datetime(data['InvoiceDate'])"
   ]
  },
  {
   "cell_type": "code",
   "execution_count": 5,
   "metadata": {
    "scrolled": true
   },
   "outputs": [
    {
     "data": {
      "text/html": [
       "<div>\n",
       "<style scoped>\n",
       "    .dataframe tbody tr th:only-of-type {\n",
       "        vertical-align: middle;\n",
       "    }\n",
       "\n",
       "    .dataframe tbody tr th {\n",
       "        vertical-align: top;\n",
       "    }\n",
       "\n",
       "    .dataframe thead th {\n",
       "        text-align: right;\n",
       "    }\n",
       "</style>\n",
       "<table border=\"1\" class=\"dataframe\">\n",
       "  <thead>\n",
       "    <tr style=\"text-align: right;\">\n",
       "      <th></th>\n",
       "      <th>InvoiceNo</th>\n",
       "      <th>StockCode</th>\n",
       "      <th>Description</th>\n",
       "      <th>Quantity</th>\n",
       "      <th>InvoiceDate</th>\n",
       "      <th>UnitPrice</th>\n",
       "      <th>CustomerID</th>\n",
       "      <th>Country</th>\n",
       "    </tr>\n",
       "  </thead>\n",
       "  <tbody>\n",
       "    <tr>\n",
       "      <th>0</th>\n",
       "      <td>536365</td>\n",
       "      <td>85123A</td>\n",
       "      <td>WHITE HANGING HEART T-LIGHT HOLDER</td>\n",
       "      <td>6</td>\n",
       "      <td>2010-12-01 08:26:00</td>\n",
       "      <td>2.55</td>\n",
       "      <td>17850.0</td>\n",
       "      <td>United Kingdom</td>\n",
       "    </tr>\n",
       "    <tr>\n",
       "      <th>1</th>\n",
       "      <td>536365</td>\n",
       "      <td>71053</td>\n",
       "      <td>WHITE METAL LANTERN</td>\n",
       "      <td>6</td>\n",
       "      <td>2010-12-01 08:26:00</td>\n",
       "      <td>3.39</td>\n",
       "      <td>17850.0</td>\n",
       "      <td>United Kingdom</td>\n",
       "    </tr>\n",
       "    <tr>\n",
       "      <th>2</th>\n",
       "      <td>536365</td>\n",
       "      <td>84406B</td>\n",
       "      <td>CREAM CUPID HEARTS COAT HANGER</td>\n",
       "      <td>8</td>\n",
       "      <td>2010-12-01 08:26:00</td>\n",
       "      <td>2.75</td>\n",
       "      <td>17850.0</td>\n",
       "      <td>United Kingdom</td>\n",
       "    </tr>\n",
       "    <tr>\n",
       "      <th>3</th>\n",
       "      <td>536365</td>\n",
       "      <td>84029G</td>\n",
       "      <td>KNITTED UNION FLAG HOT WATER BOTTLE</td>\n",
       "      <td>6</td>\n",
       "      <td>2010-12-01 08:26:00</td>\n",
       "      <td>3.39</td>\n",
       "      <td>17850.0</td>\n",
       "      <td>United Kingdom</td>\n",
       "    </tr>\n",
       "    <tr>\n",
       "      <th>4</th>\n",
       "      <td>536365</td>\n",
       "      <td>84029E</td>\n",
       "      <td>RED WOOLLY HOTTIE WHITE HEART.</td>\n",
       "      <td>6</td>\n",
       "      <td>2010-12-01 08:26:00</td>\n",
       "      <td>3.39</td>\n",
       "      <td>17850.0</td>\n",
       "      <td>United Kingdom</td>\n",
       "    </tr>\n",
       "  </tbody>\n",
       "</table>\n",
       "</div>"
      ],
      "text/plain": [
       "  InvoiceNo StockCode                          Description  Quantity  \\\n",
       "0    536365    85123A   WHITE HANGING HEART T-LIGHT HOLDER         6   \n",
       "1    536365     71053                  WHITE METAL LANTERN         6   \n",
       "2    536365    84406B       CREAM CUPID HEARTS COAT HANGER         8   \n",
       "3    536365    84029G  KNITTED UNION FLAG HOT WATER BOTTLE         6   \n",
       "4    536365    84029E       RED WOOLLY HOTTIE WHITE HEART.         6   \n",
       "\n",
       "          InvoiceDate  UnitPrice  CustomerID         Country  \n",
       "0 2010-12-01 08:26:00       2.55     17850.0  United Kingdom  \n",
       "1 2010-12-01 08:26:00       3.39     17850.0  United Kingdom  \n",
       "2 2010-12-01 08:26:00       2.75     17850.0  United Kingdom  \n",
       "3 2010-12-01 08:26:00       3.39     17850.0  United Kingdom  \n",
       "4 2010-12-01 08:26:00       3.39     17850.0  United Kingdom  "
      ]
     },
     "execution_count": 5,
     "metadata": {},
     "output_type": "execute_result"
    }
   ],
   "source": [
    "# See the first 5 rows of data\n",
    "data.head()"
   ]
  },
  {
   "cell_type": "code",
   "execution_count": 6,
   "metadata": {
    "collapsed": true
   },
   "outputs": [],
   "source": [
    "# Add a revenue column, multiplying quanity and unit price. Also exclude returns and focus on sales only\n",
    "data = data.loc[(data['Quantity'] >0) & (data['UnitPrice'] >0)]\n",
    "data[\"Revenue\"] = data['Quantity'] * data['UnitPrice']"
   ]
  },
  {
   "cell_type": "code",
   "execution_count": 7,
   "metadata": {
    "collapsed": true
   },
   "outputs": [],
   "source": [
    "# Add several views of the date information, Day of Week, Hour, etc.\n",
    "data['Day of Week'] = data[\"InvoiceDate\"].dt.weekday_name\n",
    "data['Week of Year'] = data[\"InvoiceDate\"].dt.weekofyear\n",
    "data['Week of Year'] = data[\"InvoiceDate\"].dt.weekofyear\n",
    "data['Month'] = data[\"InvoiceDate\"].dt.month\n",
    "data['Hour'] = data[\"InvoiceDate\"].dt.hour\n",
    "data['Year'] = data[\"InvoiceDate\"].dt.year\n",
    "data['Day of Week Number'] = data['InvoiceDate'].dt.weekday"
   ]
  },
  {
   "cell_type": "code",
   "execution_count": 8,
   "metadata": {
    "scrolled": false
   },
   "outputs": [
    {
     "data": {
      "text/html": [
       "<div>\n",
       "<style scoped>\n",
       "    .dataframe tbody tr th:only-of-type {\n",
       "        vertical-align: middle;\n",
       "    }\n",
       "\n",
       "    .dataframe tbody tr th {\n",
       "        vertical-align: top;\n",
       "    }\n",
       "\n",
       "    .dataframe thead th {\n",
       "        text-align: right;\n",
       "    }\n",
       "</style>\n",
       "<table border=\"1\" class=\"dataframe\">\n",
       "  <thead>\n",
       "    <tr style=\"text-align: right;\">\n",
       "      <th></th>\n",
       "      <th>InvoiceNo</th>\n",
       "      <th>StockCode</th>\n",
       "      <th>Description</th>\n",
       "      <th>Quantity</th>\n",
       "      <th>InvoiceDate</th>\n",
       "      <th>UnitPrice</th>\n",
       "      <th>CustomerID</th>\n",
       "      <th>Country</th>\n",
       "      <th>Revenue</th>\n",
       "      <th>Day of Week</th>\n",
       "      <th>Week of Year</th>\n",
       "      <th>Month</th>\n",
       "      <th>Hour</th>\n",
       "      <th>Year</th>\n",
       "      <th>Day of Week Number</th>\n",
       "    </tr>\n",
       "  </thead>\n",
       "  <tbody>\n",
       "    <tr>\n",
       "      <th>0</th>\n",
       "      <td>536365</td>\n",
       "      <td>85123A</td>\n",
       "      <td>WHITE HANGING HEART T-LIGHT HOLDER</td>\n",
       "      <td>6</td>\n",
       "      <td>2010-12-01 08:26:00</td>\n",
       "      <td>2.55</td>\n",
       "      <td>17850.0</td>\n",
       "      <td>United Kingdom</td>\n",
       "      <td>15.30</td>\n",
       "      <td>Wednesday</td>\n",
       "      <td>48</td>\n",
       "      <td>12</td>\n",
       "      <td>8</td>\n",
       "      <td>2010</td>\n",
       "      <td>2</td>\n",
       "    </tr>\n",
       "    <tr>\n",
       "      <th>1</th>\n",
       "      <td>536365</td>\n",
       "      <td>71053</td>\n",
       "      <td>WHITE METAL LANTERN</td>\n",
       "      <td>6</td>\n",
       "      <td>2010-12-01 08:26:00</td>\n",
       "      <td>3.39</td>\n",
       "      <td>17850.0</td>\n",
       "      <td>United Kingdom</td>\n",
       "      <td>20.34</td>\n",
       "      <td>Wednesday</td>\n",
       "      <td>48</td>\n",
       "      <td>12</td>\n",
       "      <td>8</td>\n",
       "      <td>2010</td>\n",
       "      <td>2</td>\n",
       "    </tr>\n",
       "    <tr>\n",
       "      <th>2</th>\n",
       "      <td>536365</td>\n",
       "      <td>84406B</td>\n",
       "      <td>CREAM CUPID HEARTS COAT HANGER</td>\n",
       "      <td>8</td>\n",
       "      <td>2010-12-01 08:26:00</td>\n",
       "      <td>2.75</td>\n",
       "      <td>17850.0</td>\n",
       "      <td>United Kingdom</td>\n",
       "      <td>22.00</td>\n",
       "      <td>Wednesday</td>\n",
       "      <td>48</td>\n",
       "      <td>12</td>\n",
       "      <td>8</td>\n",
       "      <td>2010</td>\n",
       "      <td>2</td>\n",
       "    </tr>\n",
       "    <tr>\n",
       "      <th>3</th>\n",
       "      <td>536365</td>\n",
       "      <td>84029G</td>\n",
       "      <td>KNITTED UNION FLAG HOT WATER BOTTLE</td>\n",
       "      <td>6</td>\n",
       "      <td>2010-12-01 08:26:00</td>\n",
       "      <td>3.39</td>\n",
       "      <td>17850.0</td>\n",
       "      <td>United Kingdom</td>\n",
       "      <td>20.34</td>\n",
       "      <td>Wednesday</td>\n",
       "      <td>48</td>\n",
       "      <td>12</td>\n",
       "      <td>8</td>\n",
       "      <td>2010</td>\n",
       "      <td>2</td>\n",
       "    </tr>\n",
       "    <tr>\n",
       "      <th>4</th>\n",
       "      <td>536365</td>\n",
       "      <td>84029E</td>\n",
       "      <td>RED WOOLLY HOTTIE WHITE HEART.</td>\n",
       "      <td>6</td>\n",
       "      <td>2010-12-01 08:26:00</td>\n",
       "      <td>3.39</td>\n",
       "      <td>17850.0</td>\n",
       "      <td>United Kingdom</td>\n",
       "      <td>20.34</td>\n",
       "      <td>Wednesday</td>\n",
       "      <td>48</td>\n",
       "      <td>12</td>\n",
       "      <td>8</td>\n",
       "      <td>2010</td>\n",
       "      <td>2</td>\n",
       "    </tr>\n",
       "  </tbody>\n",
       "</table>\n",
       "</div>"
      ],
      "text/plain": [
       "  InvoiceNo StockCode                          Description  Quantity  \\\n",
       "0    536365    85123A   WHITE HANGING HEART T-LIGHT HOLDER         6   \n",
       "1    536365     71053                  WHITE METAL LANTERN         6   \n",
       "2    536365    84406B       CREAM CUPID HEARTS COAT HANGER         8   \n",
       "3    536365    84029G  KNITTED UNION FLAG HOT WATER BOTTLE         6   \n",
       "4    536365    84029E       RED WOOLLY HOTTIE WHITE HEART.         6   \n",
       "\n",
       "          InvoiceDate  UnitPrice  CustomerID         Country  Revenue  \\\n",
       "0 2010-12-01 08:26:00       2.55     17850.0  United Kingdom    15.30   \n",
       "1 2010-12-01 08:26:00       3.39     17850.0  United Kingdom    20.34   \n",
       "2 2010-12-01 08:26:00       2.75     17850.0  United Kingdom    22.00   \n",
       "3 2010-12-01 08:26:00       3.39     17850.0  United Kingdom    20.34   \n",
       "4 2010-12-01 08:26:00       3.39     17850.0  United Kingdom    20.34   \n",
       "\n",
       "  Day of Week  Week of Year  Month  Hour  Year  Day of Week Number  \n",
       "0   Wednesday            48     12     8  2010                   2  \n",
       "1   Wednesday            48     12     8  2010                   2  \n",
       "2   Wednesday            48     12     8  2010                   2  \n",
       "3   Wednesday            48     12     8  2010                   2  \n",
       "4   Wednesday            48     12     8  2010                   2  "
      ]
     },
     "execution_count": 8,
     "metadata": {},
     "output_type": "execute_result"
    }
   ],
   "source": [
    "# See head with additional columns added\n",
    "data.head()"
   ]
  },
  {
   "cell_type": "markdown",
   "metadata": {},
   "source": [
    "<a id='exploration_link'></a>"
   ]
  },
  {
   "cell_type": "markdown",
   "metadata": {},
   "source": [
    "# Exploration\n",
    "<a id='time_link'></a>"
   ]
  },
  {
   "cell_type": "markdown",
   "metadata": {},
   "source": [
    "## Time Exploration"
   ]
  },
  {
   "cell_type": "code",
   "execution_count": 9,
   "metadata": {},
   "outputs": [
    {
     "name": "stdout",
     "output_type": "stream",
     "text": [
      "data start: 2010-12-01 08:26:00\n",
      "data end: 2011-12-09 12:50:00\n"
     ]
    }
   ],
   "source": [
    "print(\"data start: {}\".format(data.InvoiceDate.min()))\n",
    "print(\"data end: {}\".format(data.InvoiceDate.max()))"
   ]
  },
  {
   "cell_type": "code",
   "execution_count": 10,
   "metadata": {
    "collapsed": true
   },
   "outputs": [],
   "source": [
    "#Regroup sales transactions\n",
    "twelve_month_data = data.loc[data['InvoiceDate'] < '2011-12-01']\n",
    "sales_time_grouped = data.groupby(['InvoiceNo','Day of Week','Week of Year','Month',\"Hour\",'Year','Day of Week Number'], as_index=False)['Quantity','Revenue'].sum()\n",
    "sales_time_grouped_12 = twelve_month_data.groupby(['InvoiceNo','Day of Week','Week of Year','Month',\"Hour\",'Year','Day of Week Number'], as_index=False)['Quantity','Revenue'].sum()\n",
    "sales_dow_grouped = data.groupby(['InvoiceNo','Day of Week Number','Day of Week'], as_index=False)['Quantity','Revenue'].sum()\n",
    "time_grouped_75_revenue = sales_dow_grouped.loc[sales_time_grouped[\"Revenue\"] < sales_dow_grouped.Revenue.quantile(.75)]\n",
    "time_grouped_75_quantity = sales_time_grouped.loc[sales_time_grouped[\"Quantity\"] < sales_time_grouped.Revenue.quantile(.75)]\n",
    "time_grouped_75_quantity_12 = sales_time_grouped_12.loc[sales_time_grouped[\"Quantity\"] < sales_time_grouped_12.Revenue.quantile(.75)]\n",
    "\n",
    "\n",
    "#time_grouped_75_quantity = sales_time_grouped.loc[sales_time_grouped[\"Quantity\"] < sales_time_grouped.Quantity.quantile(.75)]\n",
    "\n",
    "dow_grouped_75_quantity = time_grouped_75_quantity.groupby(['Day of Week Number','Day of Week'], as_index=False)['Quantity'].sum()\n",
    "\n",
    "woy_grouped_75_quantity = time_grouped_75_quantity_12.groupby(['Week of Year'], as_index=False)['Quantity'].sum()\n",
    "\n",
    "hour_grouped_75_quantity = time_grouped_75_quantity.groupby(['Hour'], as_index=False)['Quantity'].sum()\n",
    "\n",
    "year_grouped_75_quantity = time_grouped_75_quantity.groupby(['Year'], as_index=False)['Quantity'].sum()\n",
    "\n",
    "month_grouped_75_quantity = time_grouped_75_quantity_12.groupby(['Month'], as_index=False)['Quantity'].sum()\n",
    "#time_grouped_75_revenue = sales_time_grouped.loc[sales_trans_grou#"
   ]
  },
  {
   "cell_type": "code",
   "execution_count": 11,
   "metadata": {
    "scrolled": false
   },
   "outputs": [
    {
     "data": {
      "image/png": "[encoded data removed]",
      "text/plain": [
       "<matplotlib.figure.Figure at 0x1f4284199e8>"
      ]
     },
     "metadata": {},
     "output_type": "display_data"
    }
   ],
   "source": [
    "year_grouped_75_quantity.plot(x=\"Year\", y='Quantity', kind='bar', figsize=(15,10))\n",
    "plt.title('Quantity by Year')\n",
    "plt.show()"
   ]
  },
  {
   "cell_type": "markdown",
   "metadata": {},
   "source": [
    "It looks like there are only a few days in December 2019 included.  Will exclude December 2011 from the time exploration, will still have a few 12 months of data."
   ]
  },
  {
   "cell_type": "code",
   "execution_count": 12,
   "metadata": {
    "scrolled": false
   },
   "outputs": [
    {
     "data": {
      "image/png": "[encoded data removed]",
      "text/plain": [
       "<matplotlib.figure.Figure at 0x1f42844a9b0>"
      ]
     },
     "metadata": {},
     "output_type": "display_data"
    }
   ],
   "source": [
    "month_grouped_75_quantity.plot(x=\"Month\", y='Quantity', kind='bar', figsize=(15,10))\n",
    "plt.title('Quantity by Month of Year')\n",
    "plt.show()"
   ]
  },
  {
   "cell_type": "code",
   "execution_count": 13,
   "metadata": {},
   "outputs": [
    {
     "data": {
      "image/png": "[encoded data removed]",
      "text/plain": [
       "<matplotlib.figure.Figure at 0x1f431065780>"
      ]
     },
     "metadata": {},
     "output_type": "display_data"
    }
   ],
   "source": [
    "woy_grouped_75_quantity.plot(x=\"Week of Year\", y='Quantity', kind='bar', figsize=(15,10))\n",
    "plt.title('Quantity by Week of Year')\n",
    "plt.show()"
   ]
  },
  {
   "cell_type": "code",
   "execution_count": 14,
   "metadata": {
    "scrolled": false
   },
   "outputs": [
    {
     "data": {
      "image/png": "[encoded data removed]",
      "text/plain": [
       "<matplotlib.figure.Figure at 0x1f42d87db70>"
      ]
     },
     "metadata": {},
     "output_type": "display_data"
    }
   ],
   "source": [
    "dow_grouped_75_quantity.plot(x=\"Day of Week\", y='Quantity', kind='bar', figsize=(10,10))\n",
    "plt.title('Quantity by Day of Week')\n",
    "plt.show()"
   ]
  },
  {
   "cell_type": "code",
   "execution_count": 15,
   "metadata": {
    "scrolled": false
   },
   "outputs": [
    {
     "data": {
      "image/png": "[encoded data removed]",
      "text/plain": [
       "<matplotlib.figure.Figure at 0x1f42decde10>"
      ]
     },
     "metadata": {},
     "output_type": "display_data"
    }
   ],
   "source": [
    "hour_grouped_75_quantity.plot(x=\"Hour\", y='Quantity', kind='bar', figsize=(15,10))\n",
    "plt.title('Quantity by Hour of Day')\n",
    "plt.show()"
   ]
  },
  {
   "cell_type": "markdown",
   "metadata": {},
   "source": [
    "<a id='customer_link'></a>"
   ]
  },
  {
   "cell_type": "markdown",
   "metadata": {},
   "source": [
    "## Customer Exploration"
   ]
  },
  {
   "cell_type": "code",
   "execution_count": 16,
   "metadata": {},
   "outputs": [
    {
     "name": "stdout",
     "output_type": "stream",
     "text": [
      "Number of Customers: 4338\n"
     ]
    }
   ],
   "source": [
    "#Regroup data at the customer level\n",
    "sales_cust_grouped = data.groupby('CustomerID')['Quantity','Revenue'].sum()\n",
    "sales_cust_grouped['ASP'] = sales_cust_grouped[\"Revenue\"]/ sales_cust_grouped['Quantity']\n",
    "print('Number of Customers: {}'.format(len(sales_cust_grouped)))"
   ]
  },
  {
   "cell_type": "code",
   "execution_count": 17,
   "metadata": {
    "scrolled": false
   },
   "outputs": [
    {
     "data": {
      "text/html": [
       "<div>\n",
       "<style scoped>\n",
       "    .dataframe tbody tr th:only-of-type {\n",
       "        vertical-align: middle;\n",
       "    }\n",
       "\n",
       "    .dataframe tbody tr th {\n",
       "        vertical-align: top;\n",
       "    }\n",
       "\n",
       "    .dataframe thead th {\n",
       "        text-align: right;\n",
       "    }\n",
       "</style>\n",
       "<table border=\"1\" class=\"dataframe\">\n",
       "  <thead>\n",
       "    <tr style=\"text-align: right;\">\n",
       "      <th></th>\n",
       "      <th>Quantity</th>\n",
       "      <th>Revenue</th>\n",
       "      <th>ASP</th>\n",
       "    </tr>\n",
       "  </thead>\n",
       "  <tbody>\n",
       "    <tr>\n",
       "      <th>count</th>\n",
       "      <td>4338.000000</td>\n",
       "      <td>4338.000000</td>\n",
       "      <td>4338.000000</td>\n",
       "    </tr>\n",
       "    <tr>\n",
       "      <th>mean</th>\n",
       "      <td>1191.289073</td>\n",
       "      <td>2054.266460</td>\n",
       "      <td>3.013989</td>\n",
       "    </tr>\n",
       "    <tr>\n",
       "      <th>std</th>\n",
       "      <td>5046.081546</td>\n",
       "      <td>8989.230441</td>\n",
       "      <td>33.218307</td>\n",
       "    </tr>\n",
       "    <tr>\n",
       "      <th>min</th>\n",
       "      <td>1.000000</td>\n",
       "      <td>3.750000</td>\n",
       "      <td>0.085619</td>\n",
       "    </tr>\n",
       "    <tr>\n",
       "      <th>25%</th>\n",
       "      <td>160.000000</td>\n",
       "      <td>307.415000</td>\n",
       "      <td>1.408745</td>\n",
       "    </tr>\n",
       "    <tr>\n",
       "      <th>50%</th>\n",
       "      <td>379.000000</td>\n",
       "      <td>674.485000</td>\n",
       "      <td>1.808724</td>\n",
       "    </tr>\n",
       "    <tr>\n",
       "      <th>75%</th>\n",
       "      <td>992.750000</td>\n",
       "      <td>1661.740000</td>\n",
       "      <td>2.351760</td>\n",
       "    </tr>\n",
       "    <tr>\n",
       "      <th>max</th>\n",
       "      <td>196915.000000</td>\n",
       "      <td>280206.020000</td>\n",
       "      <td>2033.100000</td>\n",
       "    </tr>\n",
       "  </tbody>\n",
       "</table>\n",
       "</div>"
      ],
      "text/plain": [
       "            Quantity        Revenue          ASP\n",
       "count    4338.000000    4338.000000  4338.000000\n",
       "mean     1191.289073    2054.266460     3.013989\n",
       "std      5046.081546    8989.230441    33.218307\n",
       "min         1.000000       3.750000     0.085619\n",
       "25%       160.000000     307.415000     1.408745\n",
       "50%       379.000000     674.485000     1.808724\n",
       "75%       992.750000    1661.740000     2.351760\n",
       "max    196915.000000  280206.020000  2033.100000"
      ]
     },
     "execution_count": 17,
     "metadata": {},
     "output_type": "execute_result"
    }
   ],
   "source": [
    "# Descriptive statistics for the customer level data\n",
    "sales_cust_grouped.describe()"
   ]
  },
  {
   "cell_type": "code",
   "execution_count": 77,
   "metadata": {
    "scrolled": true
   },
   "outputs": [
    {
     "data": {
      "text/html": [
       "<div>\n",
       "<style scoped>\n",
       "    .dataframe tbody tr th:only-of-type {\n",
       "        vertical-align: middle;\n",
       "    }\n",
       "\n",
       "    .dataframe tbody tr th {\n",
       "        vertical-align: top;\n",
       "    }\n",
       "\n",
       "    .dataframe thead th {\n",
       "        text-align: right;\n",
       "    }\n",
       "</style>\n",
       "<table border=\"1\" class=\"dataframe\">\n",
       "  <thead>\n",
       "    <tr style=\"text-align: right;\">\n",
       "      <th></th>\n",
       "      <th>Quantity</th>\n",
       "      <th>Revenue</th>\n",
       "      <th>ASP</th>\n",
       "    </tr>\n",
       "    <tr>\n",
       "      <th>CustomerID</th>\n",
       "      <th></th>\n",
       "      <th></th>\n",
       "      <th></th>\n",
       "    </tr>\n",
       "  </thead>\n",
       "  <tbody>\n",
       "    <tr>\n",
       "      <th>12346.0</th>\n",
       "      <td>74215</td>\n",
       "      <td>77183.60</td>\n",
       "      <td>1.040000</td>\n",
       "    </tr>\n",
       "    <tr>\n",
       "      <th>12347.0</th>\n",
       "      <td>2458</td>\n",
       "      <td>4310.00</td>\n",
       "      <td>1.753458</td>\n",
       "    </tr>\n",
       "    <tr>\n",
       "      <th>12348.0</th>\n",
       "      <td>2341</td>\n",
       "      <td>1797.24</td>\n",
       "      <td>0.767723</td>\n",
       "    </tr>\n",
       "    <tr>\n",
       "      <th>12349.0</th>\n",
       "      <td>631</td>\n",
       "      <td>1757.55</td>\n",
       "      <td>2.785341</td>\n",
       "    </tr>\n",
       "    <tr>\n",
       "      <th>12350.0</th>\n",
       "      <td>197</td>\n",
       "      <td>334.40</td>\n",
       "      <td>1.697462</td>\n",
       "    </tr>\n",
       "    <tr>\n",
       "      <th>12352.0</th>\n",
       "      <td>536</td>\n",
       "      <td>2506.04</td>\n",
       "      <td>4.675448</td>\n",
       "    </tr>\n",
       "    <tr>\n",
       "      <th>12353.0</th>\n",
       "      <td>20</td>\n",
       "      <td>89.00</td>\n",
       "      <td>4.450000</td>\n",
       "    </tr>\n",
       "    <tr>\n",
       "      <th>12354.0</th>\n",
       "      <td>530</td>\n",
       "      <td>1079.40</td>\n",
       "      <td>2.036604</td>\n",
       "    </tr>\n",
       "    <tr>\n",
       "      <th>12355.0</th>\n",
       "      <td>240</td>\n",
       "      <td>459.40</td>\n",
       "      <td>1.914167</td>\n",
       "    </tr>\n",
       "    <tr>\n",
       "      <th>12356.0</th>\n",
       "      <td>1591</td>\n",
       "      <td>2811.43</td>\n",
       "      <td>1.767084</td>\n",
       "    </tr>\n",
       "    <tr>\n",
       "      <th>12357.0</th>\n",
       "      <td>2708</td>\n",
       "      <td>6207.67</td>\n",
       "      <td>2.292345</td>\n",
       "    </tr>\n",
       "    <tr>\n",
       "      <th>12358.0</th>\n",
       "      <td>248</td>\n",
       "      <td>1168.06</td>\n",
       "      <td>4.709919</td>\n",
       "    </tr>\n",
       "    <tr>\n",
       "      <th>12359.0</th>\n",
       "      <td>1622</td>\n",
       "      <td>6372.58</td>\n",
       "      <td>3.928841</td>\n",
       "    </tr>\n",
       "    <tr>\n",
       "      <th>12360.0</th>\n",
       "      <td>1165</td>\n",
       "      <td>2662.06</td>\n",
       "      <td>2.285030</td>\n",
       "    </tr>\n",
       "    <tr>\n",
       "      <th>12361.0</th>\n",
       "      <td>91</td>\n",
       "      <td>189.90</td>\n",
       "      <td>2.086813</td>\n",
       "    </tr>\n",
       "    <tr>\n",
       "      <th>12362.0</th>\n",
       "      <td>2229</td>\n",
       "      <td>5226.23</td>\n",
       "      <td>2.344652</td>\n",
       "    </tr>\n",
       "    <tr>\n",
       "      <th>12363.0</th>\n",
       "      <td>408</td>\n",
       "      <td>552.00</td>\n",
       "      <td>1.352941</td>\n",
       "    </tr>\n",
       "    <tr>\n",
       "      <th>12364.0</th>\n",
       "      <td>1506</td>\n",
       "      <td>1313.10</td>\n",
       "      <td>0.871912</td>\n",
       "    </tr>\n",
       "    <tr>\n",
       "      <th>12365.0</th>\n",
       "      <td>174</td>\n",
       "      <td>641.38</td>\n",
       "      <td>3.686092</td>\n",
       "    </tr>\n",
       "    <tr>\n",
       "      <th>12367.0</th>\n",
       "      <td>173</td>\n",
       "      <td>168.90</td>\n",
       "      <td>0.976301</td>\n",
       "    </tr>\n",
       "    <tr>\n",
       "      <th>12370.0</th>\n",
       "      <td>2353</td>\n",
       "      <td>3545.69</td>\n",
       "      <td>1.506881</td>\n",
       "    </tr>\n",
       "    <tr>\n",
       "      <th>12371.0</th>\n",
       "      <td>591</td>\n",
       "      <td>1887.96</td>\n",
       "      <td>3.194518</td>\n",
       "    </tr>\n",
       "    <tr>\n",
       "      <th>12372.0</th>\n",
       "      <td>794</td>\n",
       "      <td>1298.04</td>\n",
       "      <td>1.634811</td>\n",
       "    </tr>\n",
       "    <tr>\n",
       "      <th>12373.0</th>\n",
       "      <td>197</td>\n",
       "      <td>364.60</td>\n",
       "      <td>1.850761</td>\n",
       "    </tr>\n",
       "    <tr>\n",
       "      <th>12374.0</th>\n",
       "      <td>342</td>\n",
       "      <td>742.93</td>\n",
       "      <td>2.172310</td>\n",
       "    </tr>\n",
       "    <tr>\n",
       "      <th>12375.0</th>\n",
       "      <td>178</td>\n",
       "      <td>457.50</td>\n",
       "      <td>2.570225</td>\n",
       "    </tr>\n",
       "    <tr>\n",
       "      <th>12377.0</th>\n",
       "      <td>944</td>\n",
       "      <td>1628.12</td>\n",
       "      <td>1.724703</td>\n",
       "    </tr>\n",
       "    <tr>\n",
       "      <th>12378.0</th>\n",
       "      <td>2529</td>\n",
       "      <td>4008.62</td>\n",
       "      <td>1.585061</td>\n",
       "    </tr>\n",
       "    <tr>\n",
       "      <th>12379.0</th>\n",
       "      <td>407</td>\n",
       "      <td>852.24</td>\n",
       "      <td>2.093956</td>\n",
       "    </tr>\n",
       "    <tr>\n",
       "      <th>12380.0</th>\n",
       "      <td>1127</td>\n",
       "      <td>2724.81</td>\n",
       "      <td>2.417755</td>\n",
       "    </tr>\n",
       "    <tr>\n",
       "      <th>...</th>\n",
       "      <td>...</td>\n",
       "      <td>...</td>\n",
       "      <td>...</td>\n",
       "    </tr>\n",
       "    <tr>\n",
       "      <th>18242.0</th>\n",
       "      <td>1017</td>\n",
       "      <td>2232.49</td>\n",
       "      <td>2.195172</td>\n",
       "    </tr>\n",
       "    <tr>\n",
       "      <th>18245.0</th>\n",
       "      <td>1788</td>\n",
       "      <td>2567.06</td>\n",
       "      <td>1.435716</td>\n",
       "    </tr>\n",
       "    <tr>\n",
       "      <th>18246.0</th>\n",
       "      <td>166</td>\n",
       "      <td>596.10</td>\n",
       "      <td>3.590964</td>\n",
       "    </tr>\n",
       "    <tr>\n",
       "      <th>18248.0</th>\n",
       "      <td>511</td>\n",
       "      <td>804.02</td>\n",
       "      <td>1.573425</td>\n",
       "    </tr>\n",
       "    <tr>\n",
       "      <th>18249.0</th>\n",
       "      <td>128</td>\n",
       "      <td>95.34</td>\n",
       "      <td>0.744844</td>\n",
       "    </tr>\n",
       "    <tr>\n",
       "      <th>18250.0</th>\n",
       "      <td>199</td>\n",
       "      <td>349.27</td>\n",
       "      <td>1.755126</td>\n",
       "    </tr>\n",
       "    <tr>\n",
       "      <th>18251.0</th>\n",
       "      <td>7824</td>\n",
       "      <td>4314.72</td>\n",
       "      <td>0.551472</td>\n",
       "    </tr>\n",
       "    <tr>\n",
       "      <th>18252.0</th>\n",
       "      <td>239</td>\n",
       "      <td>526.67</td>\n",
       "      <td>2.203640</td>\n",
       "    </tr>\n",
       "    <tr>\n",
       "      <th>18255.0</th>\n",
       "      <td>74</td>\n",
       "      <td>103.30</td>\n",
       "      <td>1.395946</td>\n",
       "    </tr>\n",
       "    <tr>\n",
       "      <th>18257.0</th>\n",
       "      <td>1041</td>\n",
       "      <td>2337.63</td>\n",
       "      <td>2.245562</td>\n",
       "    </tr>\n",
       "    <tr>\n",
       "      <th>18259.0</th>\n",
       "      <td>714</td>\n",
       "      <td>2338.60</td>\n",
       "      <td>3.275350</td>\n",
       "    </tr>\n",
       "    <tr>\n",
       "      <th>18260.0</th>\n",
       "      <td>1478</td>\n",
       "      <td>2643.20</td>\n",
       "      <td>1.788363</td>\n",
       "    </tr>\n",
       "    <tr>\n",
       "      <th>18261.0</th>\n",
       "      <td>146</td>\n",
       "      <td>324.24</td>\n",
       "      <td>2.220822</td>\n",
       "    </tr>\n",
       "    <tr>\n",
       "      <th>18262.0</th>\n",
       "      <td>182</td>\n",
       "      <td>149.48</td>\n",
       "      <td>0.821319</td>\n",
       "    </tr>\n",
       "    <tr>\n",
       "      <th>18263.0</th>\n",
       "      <td>1468</td>\n",
       "      <td>1213.16</td>\n",
       "      <td>0.826403</td>\n",
       "    </tr>\n",
       "    <tr>\n",
       "      <th>18265.0</th>\n",
       "      <td>311</td>\n",
       "      <td>801.51</td>\n",
       "      <td>2.577203</td>\n",
       "    </tr>\n",
       "    <tr>\n",
       "      <th>18268.0</th>\n",
       "      <td>2</td>\n",
       "      <td>25.50</td>\n",
       "      <td>12.750000</td>\n",
       "    </tr>\n",
       "    <tr>\n",
       "      <th>18269.0</th>\n",
       "      <td>76</td>\n",
       "      <td>168.60</td>\n",
       "      <td>2.218421</td>\n",
       "    </tr>\n",
       "    <tr>\n",
       "      <th>18270.0</th>\n",
       "      <td>101</td>\n",
       "      <td>283.15</td>\n",
       "      <td>2.803465</td>\n",
       "    </tr>\n",
       "    <tr>\n",
       "      <th>18272.0</th>\n",
       "      <td>2050</td>\n",
       "      <td>3078.58</td>\n",
       "      <td>1.501746</td>\n",
       "    </tr>\n",
       "    <tr>\n",
       "      <th>18273.0</th>\n",
       "      <td>80</td>\n",
       "      <td>204.00</td>\n",
       "      <td>2.550000</td>\n",
       "    </tr>\n",
       "    <tr>\n",
       "      <th>18274.0</th>\n",
       "      <td>88</td>\n",
       "      <td>175.92</td>\n",
       "      <td>1.999091</td>\n",
       "    </tr>\n",
       "    <tr>\n",
       "      <th>18276.0</th>\n",
       "      <td>186</td>\n",
       "      <td>335.86</td>\n",
       "      <td>1.805699</td>\n",
       "    </tr>\n",
       "    <tr>\n",
       "      <th>18277.0</th>\n",
       "      <td>68</td>\n",
       "      <td>110.38</td>\n",
       "      <td>1.623235</td>\n",
       "    </tr>\n",
       "    <tr>\n",
       "      <th>18278.0</th>\n",
       "      <td>66</td>\n",
       "      <td>173.90</td>\n",
       "      <td>2.634848</td>\n",
       "    </tr>\n",
       "    <tr>\n",
       "      <th>18280.0</th>\n",
       "      <td>45</td>\n",
       "      <td>180.60</td>\n",
       "      <td>4.013333</td>\n",
       "    </tr>\n",
       "    <tr>\n",
       "      <th>18281.0</th>\n",
       "      <td>54</td>\n",
       "      <td>80.82</td>\n",
       "      <td>1.496667</td>\n",
       "    </tr>\n",
       "    <tr>\n",
       "      <th>18282.0</th>\n",
       "      <td>103</td>\n",
       "      <td>178.05</td>\n",
       "      <td>1.728641</td>\n",
       "    </tr>\n",
       "    <tr>\n",
       "      <th>18283.0</th>\n",
       "      <td>1397</td>\n",
       "      <td>2094.88</td>\n",
       "      <td>1.499556</td>\n",
       "    </tr>\n",
       "    <tr>\n",
       "      <th>18287.0</th>\n",
       "      <td>1586</td>\n",
       "      <td>1837.28</td>\n",
       "      <td>1.158436</td>\n",
       "    </tr>\n",
       "  </tbody>\n",
       "</table>\n",
       "<p>4338 rows × 3 columns</p>\n",
       "</div>"
      ],
      "text/plain": [
       "            Quantity   Revenue        ASP\n",
       "CustomerID                               \n",
       "12346.0        74215  77183.60   1.040000\n",
       "12347.0         2458   4310.00   1.753458\n",
       "12348.0         2341   1797.24   0.767723\n",
       "12349.0          631   1757.55   2.785341\n",
       "12350.0          197    334.40   1.697462\n",
       "12352.0          536   2506.04   4.675448\n",
       "12353.0           20     89.00   4.450000\n",
       "12354.0          530   1079.40   2.036604\n",
       "12355.0          240    459.40   1.914167\n",
       "12356.0         1591   2811.43   1.767084\n",
       "12357.0         2708   6207.67   2.292345\n",
       "12358.0          248   1168.06   4.709919\n",
       "12359.0         1622   6372.58   3.928841\n",
       "12360.0         1165   2662.06   2.285030\n",
       "12361.0           91    189.90   2.086813\n",
       "12362.0         2229   5226.23   2.344652\n",
       "12363.0          408    552.00   1.352941\n",
       "12364.0         1506   1313.10   0.871912\n",
       "12365.0          174    641.38   3.686092\n",
       "12367.0          173    168.90   0.976301\n",
       "12370.0         2353   3545.69   1.506881\n",
       "12371.0          591   1887.96   3.194518\n",
       "12372.0          794   1298.04   1.634811\n",
       "12373.0          197    364.60   1.850761\n",
       "12374.0          342    742.93   2.172310\n",
       "12375.0          178    457.50   2.570225\n",
       "12377.0          944   1628.12   1.724703\n",
       "12378.0         2529   4008.62   1.585061\n",
       "12379.0          407    852.24   2.093956\n",
       "12380.0         1127   2724.81   2.417755\n",
       "...              ...       ...        ...\n",
       "18242.0         1017   2232.49   2.195172\n",
       "18245.0         1788   2567.06   1.435716\n",
       "18246.0          166    596.10   3.590964\n",
       "18248.0          511    804.02   1.573425\n",
       "18249.0          128     95.34   0.744844\n",
       "18250.0          199    349.27   1.755126\n",
       "18251.0         7824   4314.72   0.551472\n",
       "18252.0          239    526.67   2.203640\n",
       "18255.0           74    103.30   1.395946\n",
       "18257.0         1041   2337.63   2.245562\n",
       "18259.0          714   2338.60   3.275350\n",
       "18260.0         1478   2643.20   1.788363\n",
       "18261.0          146    324.24   2.220822\n",
       "18262.0          182    149.48   0.821319\n",
       "18263.0         1468   1213.16   0.826403\n",
       "18265.0          311    801.51   2.577203\n",
       "18268.0            2     25.50  12.750000\n",
       "18269.0           76    168.60   2.218421\n",
       "18270.0          101    283.15   2.803465\n",
       "18272.0         2050   3078.58   1.501746\n",
       "18273.0           80    204.00   2.550000\n",
       "18274.0           88    175.92   1.999091\n",
       "18276.0          186    335.86   1.805699\n",
       "18277.0           68    110.38   1.623235\n",
       "18278.0           66    173.90   2.634848\n",
       "18280.0           45    180.60   4.013333\n",
       "18281.0           54     80.82   1.496667\n",
       "18282.0          103    178.05   1.728641\n",
       "18283.0         1397   2094.88   1.499556\n",
       "18287.0         1586   1837.28   1.158436\n",
       "\n",
       "[4338 rows x 3 columns]"
      ]
     },
     "execution_count": 77,
     "metadata": {},
     "output_type": "execute_result"
    }
   ],
   "source": [
    "sales_cust_grouped"
   ]
  },
  {
   "cell_type": "code",
   "execution_count": 85,
   "metadata": {},
   "outputs": [],
   "source": [
    "sales_cust_grouped = sales_cust_grouped.sort_values(by='Quantity', ascending=False)\n",
    "top_10_customers = sales_cust_grouped.head(10).reset_index()\n",
    "top_10_customers = top_10_customers.sort_values(by=\"Quantity\", ascending=True)"
   ]
  },
  {
   "cell_type": "code",
   "execution_count": 86,
   "metadata": {
    "scrolled": true
   },
   "outputs": [
    {
     "data": {
      "text/html": [
       "<div>\n",
       "<style scoped>\n",
       "    .dataframe tbody tr th:only-of-type {\n",
       "        vertical-align: middle;\n",
       "    }\n",
       "\n",
       "    .dataframe tbody tr th {\n",
       "        vertical-align: top;\n",
       "    }\n",
       "\n",
       "    .dataframe thead th {\n",
       "        text-align: right;\n",
       "    }\n",
       "</style>\n",
       "<table border=\"1\" class=\"dataframe\">\n",
       "  <thead>\n",
       "    <tr style=\"text-align: right;\">\n",
       "      <th></th>\n",
       "      <th>Quantity</th>\n",
       "      <th>Revenue</th>\n",
       "      <th>ASP</th>\n",
       "    </tr>\n",
       "    <tr>\n",
       "      <th>CustomerID</th>\n",
       "      <th></th>\n",
       "      <th></th>\n",
       "      <th></th>\n",
       "    </tr>\n",
       "  </thead>\n",
       "  <tbody>\n",
       "    <tr>\n",
       "      <th>14646.0</th>\n",
       "      <td>196915</td>\n",
       "      <td>280206.02</td>\n",
       "      <td>1.422980</td>\n",
       "    </tr>\n",
       "    <tr>\n",
       "      <th>16446.0</th>\n",
       "      <td>80997</td>\n",
       "      <td>168472.50</td>\n",
       "      <td>2.079984</td>\n",
       "    </tr>\n",
       "    <tr>\n",
       "      <th>14911.0</th>\n",
       "      <td>80265</td>\n",
       "      <td>143825.06</td>\n",
       "      <td>1.791878</td>\n",
       "    </tr>\n",
       "    <tr>\n",
       "      <th>12415.0</th>\n",
       "      <td>77374</td>\n",
       "      <td>124914.53</td>\n",
       "      <td>1.614425</td>\n",
       "    </tr>\n",
       "    <tr>\n",
       "      <th>12346.0</th>\n",
       "      <td>74215</td>\n",
       "      <td>77183.60</td>\n",
       "      <td>1.040000</td>\n",
       "    </tr>\n",
       "    <tr>\n",
       "      <th>17450.0</th>\n",
       "      <td>69993</td>\n",
       "      <td>194550.79</td>\n",
       "      <td>2.779575</td>\n",
       "    </tr>\n",
       "    <tr>\n",
       "      <th>17511.0</th>\n",
       "      <td>64549</td>\n",
       "      <td>91062.38</td>\n",
       "      <td>1.410748</td>\n",
       "    </tr>\n",
       "    <tr>\n",
       "      <th>18102.0</th>\n",
       "      <td>64124</td>\n",
       "      <td>259657.30</td>\n",
       "      <td>4.049300</td>\n",
       "    </tr>\n",
       "    <tr>\n",
       "      <th>13694.0</th>\n",
       "      <td>63312</td>\n",
       "      <td>65039.62</td>\n",
       "      <td>1.027287</td>\n",
       "    </tr>\n",
       "    <tr>\n",
       "      <th>14298.0</th>\n",
       "      <td>58343</td>\n",
       "      <td>51527.30</td>\n",
       "      <td>0.883179</td>\n",
       "    </tr>\n",
       "    <tr>\n",
       "      <th>14156.0</th>\n",
       "      <td>57885</td>\n",
       "      <td>117379.63</td>\n",
       "      <td>2.027807</td>\n",
       "    </tr>\n",
       "    <tr>\n",
       "      <th>16684.0</th>\n",
       "      <td>50255</td>\n",
       "      <td>66653.56</td>\n",
       "      <td>1.326307</td>\n",
       "    </tr>\n",
       "    <tr>\n",
       "      <th>16029.0</th>\n",
       "      <td>40208</td>\n",
       "      <td>81024.84</td>\n",
       "      <td>2.015142</td>\n",
       "    </tr>\n",
       "    <tr>\n",
       "      <th>15311.0</th>\n",
       "      <td>38194</td>\n",
       "      <td>60767.90</td>\n",
       "      <td>1.591033</td>\n",
       "    </tr>\n",
       "    <tr>\n",
       "      <th>16422.0</th>\n",
       "      <td>33704</td>\n",
       "      <td>34684.40</td>\n",
       "      <td>1.029089</td>\n",
       "    </tr>\n",
       "    <tr>\n",
       "      <th>17404.0</th>\n",
       "      <td>32748</td>\n",
       "      <td>31906.82</td>\n",
       "      <td>0.974314</td>\n",
       "    </tr>\n",
       "    <tr>\n",
       "      <th>16333.0</th>\n",
       "      <td>32184</td>\n",
       "      <td>26626.80</td>\n",
       "      <td>0.827330</td>\n",
       "    </tr>\n",
       "    <tr>\n",
       "      <th>13089.0</th>\n",
       "      <td>31070</td>\n",
       "      <td>58825.83</td>\n",
       "      <td>1.893332</td>\n",
       "    </tr>\n",
       "    <tr>\n",
       "      <th>17949.0</th>\n",
       "      <td>30546</td>\n",
       "      <td>58510.48</td>\n",
       "      <td>1.915487</td>\n",
       "    </tr>\n",
       "    <tr>\n",
       "      <th>15769.0</th>\n",
       "      <td>29672</td>\n",
       "      <td>56252.72</td>\n",
       "      <td>1.895818</td>\n",
       "    </tr>\n",
       "    <tr>\n",
       "      <th>15061.0</th>\n",
       "      <td>28920</td>\n",
       "      <td>54534.14</td>\n",
       "      <td>1.885689</td>\n",
       "    </tr>\n",
       "    <tr>\n",
       "      <th>12931.0</th>\n",
       "      <td>28004</td>\n",
       "      <td>42055.96</td>\n",
       "      <td>1.501784</td>\n",
       "    </tr>\n",
       "    <tr>\n",
       "      <th>12748.0</th>\n",
       "      <td>25747</td>\n",
       "      <td>33719.73</td>\n",
       "      <td>1.309657</td>\n",
       "    </tr>\n",
       "    <tr>\n",
       "      <th>17381.0</th>\n",
       "      <td>25649</td>\n",
       "      <td>20275.61</td>\n",
       "      <td>0.790503</td>\n",
       "    </tr>\n",
       "    <tr>\n",
       "      <th>13798.0</th>\n",
       "      <td>23948</td>\n",
       "      <td>37153.85</td>\n",
       "      <td>1.551439</td>\n",
       "    </tr>\n",
       "    <tr>\n",
       "      <th>12901.0</th>\n",
       "      <td>23075</td>\n",
       "      <td>17654.54</td>\n",
       "      <td>0.765094</td>\n",
       "    </tr>\n",
       "    <tr>\n",
       "      <th>17841.0</th>\n",
       "      <td>23071</td>\n",
       "      <td>40991.57</td>\n",
       "      <td>1.776757</td>\n",
       "    </tr>\n",
       "    <tr>\n",
       "      <th>17857.0</th>\n",
       "      <td>19256</td>\n",
       "      <td>26879.04</td>\n",
       "      <td>1.395879</td>\n",
       "    </tr>\n",
       "    <tr>\n",
       "      <th>13081.0</th>\n",
       "      <td>19068</td>\n",
       "      <td>28337.38</td>\n",
       "      <td>1.486122</td>\n",
       "    </tr>\n",
       "    <tr>\n",
       "      <th>15838.0</th>\n",
       "      <td>18368</td>\n",
       "      <td>33643.08</td>\n",
       "      <td>1.831614</td>\n",
       "    </tr>\n",
       "    <tr>\n",
       "      <th>...</th>\n",
       "      <td>...</td>\n",
       "      <td>...</td>\n",
       "      <td>...</td>\n",
       "    </tr>\n",
       "    <tr>\n",
       "      <th>13747.0</th>\n",
       "      <td>8</td>\n",
       "      <td>79.60</td>\n",
       "      <td>9.950000</td>\n",
       "    </tr>\n",
       "    <tr>\n",
       "      <th>18019.0</th>\n",
       "      <td>7</td>\n",
       "      <td>38.45</td>\n",
       "      <td>5.492857</td>\n",
       "    </tr>\n",
       "    <tr>\n",
       "      <th>17536.0</th>\n",
       "      <td>6</td>\n",
       "      <td>76.50</td>\n",
       "      <td>12.750000</td>\n",
       "    </tr>\n",
       "    <tr>\n",
       "      <th>18068.0</th>\n",
       "      <td>6</td>\n",
       "      <td>101.70</td>\n",
       "      <td>16.950000</td>\n",
       "    </tr>\n",
       "    <tr>\n",
       "      <th>14185.0</th>\n",
       "      <td>6</td>\n",
       "      <td>197.65</td>\n",
       "      <td>32.941667</td>\n",
       "    </tr>\n",
       "    <tr>\n",
       "      <th>13302.0</th>\n",
       "      <td>5</td>\n",
       "      <td>63.75</td>\n",
       "      <td>12.750000</td>\n",
       "    </tr>\n",
       "    <tr>\n",
       "      <th>14816.0</th>\n",
       "      <td>5</td>\n",
       "      <td>271.85</td>\n",
       "      <td>54.370000</td>\n",
       "    </tr>\n",
       "    <tr>\n",
       "      <th>14589.0</th>\n",
       "      <td>5</td>\n",
       "      <td>39.75</td>\n",
       "      <td>7.950000</td>\n",
       "    </tr>\n",
       "    <tr>\n",
       "      <th>12789.0</th>\n",
       "      <td>4</td>\n",
       "      <td>91.85</td>\n",
       "      <td>22.962500</td>\n",
       "    </tr>\n",
       "    <tr>\n",
       "      <th>15940.0</th>\n",
       "      <td>4</td>\n",
       "      <td>35.80</td>\n",
       "      <td>8.950000</td>\n",
       "    </tr>\n",
       "    <tr>\n",
       "      <th>13307.0</th>\n",
       "      <td>4</td>\n",
       "      <td>15.00</td>\n",
       "      <td>3.750000</td>\n",
       "    </tr>\n",
       "    <tr>\n",
       "      <th>13391.0</th>\n",
       "      <td>4</td>\n",
       "      <td>59.80</td>\n",
       "      <td>14.950000</td>\n",
       "    </tr>\n",
       "    <tr>\n",
       "      <th>16765.0</th>\n",
       "      <td>4</td>\n",
       "      <td>34.00</td>\n",
       "      <td>8.500000</td>\n",
       "    </tr>\n",
       "    <tr>\n",
       "      <th>16162.0</th>\n",
       "      <td>4</td>\n",
       "      <td>37.40</td>\n",
       "      <td>9.350000</td>\n",
       "    </tr>\n",
       "    <tr>\n",
       "      <th>15524.0</th>\n",
       "      <td>4</td>\n",
       "      <td>440.00</td>\n",
       "      <td>110.000000</td>\n",
       "    </tr>\n",
       "    <tr>\n",
       "      <th>18233.0</th>\n",
       "      <td>4</td>\n",
       "      <td>440.00</td>\n",
       "      <td>110.000000</td>\n",
       "    </tr>\n",
       "    <tr>\n",
       "      <th>16454.0</th>\n",
       "      <td>3</td>\n",
       "      <td>6.90</td>\n",
       "      <td>2.300000</td>\n",
       "    </tr>\n",
       "    <tr>\n",
       "      <th>16738.0</th>\n",
       "      <td>3</td>\n",
       "      <td>3.75</td>\n",
       "      <td>1.250000</td>\n",
       "    </tr>\n",
       "    <tr>\n",
       "      <th>17408.0</th>\n",
       "      <td>3</td>\n",
       "      <td>32.65</td>\n",
       "      <td>10.883333</td>\n",
       "    </tr>\n",
       "    <tr>\n",
       "      <th>16257.0</th>\n",
       "      <td>2</td>\n",
       "      <td>46.95</td>\n",
       "      <td>23.475000</td>\n",
       "    </tr>\n",
       "    <tr>\n",
       "      <th>17102.0</th>\n",
       "      <td>2</td>\n",
       "      <td>25.50</td>\n",
       "      <td>12.750000</td>\n",
       "    </tr>\n",
       "    <tr>\n",
       "      <th>15510.0</th>\n",
       "      <td>2</td>\n",
       "      <td>250.00</td>\n",
       "      <td>125.000000</td>\n",
       "    </tr>\n",
       "    <tr>\n",
       "      <th>14792.0</th>\n",
       "      <td>2</td>\n",
       "      <td>6.20</td>\n",
       "      <td>3.100000</td>\n",
       "    </tr>\n",
       "    <tr>\n",
       "      <th>13452.0</th>\n",
       "      <td>2</td>\n",
       "      <td>590.00</td>\n",
       "      <td>295.000000</td>\n",
       "    </tr>\n",
       "    <tr>\n",
       "      <th>18268.0</th>\n",
       "      <td>2</td>\n",
       "      <td>25.50</td>\n",
       "      <td>12.750000</td>\n",
       "    </tr>\n",
       "    <tr>\n",
       "      <th>15802.0</th>\n",
       "      <td>1</td>\n",
       "      <td>451.42</td>\n",
       "      <td>451.420000</td>\n",
       "    </tr>\n",
       "    <tr>\n",
       "      <th>15823.0</th>\n",
       "      <td>1</td>\n",
       "      <td>15.00</td>\n",
       "      <td>15.000000</td>\n",
       "    </tr>\n",
       "    <tr>\n",
       "      <th>16742.0</th>\n",
       "      <td>1</td>\n",
       "      <td>464.90</td>\n",
       "      <td>464.900000</td>\n",
       "    </tr>\n",
       "    <tr>\n",
       "      <th>17846.0</th>\n",
       "      <td>1</td>\n",
       "      <td>2033.10</td>\n",
       "      <td>2033.100000</td>\n",
       "    </tr>\n",
       "    <tr>\n",
       "      <th>17956.0</th>\n",
       "      <td>1</td>\n",
       "      <td>12.75</td>\n",
       "      <td>12.750000</td>\n",
       "    </tr>\n",
       "  </tbody>\n",
       "</table>\n",
       "<p>4338 rows × 3 columns</p>\n",
       "</div>"
      ],
      "text/plain": [
       "            Quantity    Revenue          ASP\n",
       "CustomerID                                  \n",
       "14646.0       196915  280206.02     1.422980\n",
       "16446.0        80997  168472.50     2.079984\n",
       "14911.0        80265  143825.06     1.791878\n",
       "12415.0        77374  124914.53     1.614425\n",
       "12346.0        74215   77183.60     1.040000\n",
       "17450.0        69993  194550.79     2.779575\n",
       "17511.0        64549   91062.38     1.410748\n",
       "18102.0        64124  259657.30     4.049300\n",
       "13694.0        63312   65039.62     1.027287\n",
       "14298.0        58343   51527.30     0.883179\n",
       "14156.0        57885  117379.63     2.027807\n",
       "16684.0        50255   66653.56     1.326307\n",
       "16029.0        40208   81024.84     2.015142\n",
       "15311.0        38194   60767.90     1.591033\n",
       "16422.0        33704   34684.40     1.029089\n",
       "17404.0        32748   31906.82     0.974314\n",
       "16333.0        32184   26626.80     0.827330\n",
       "13089.0        31070   58825.83     1.893332\n",
       "17949.0        30546   58510.48     1.915487\n",
       "15769.0        29672   56252.72     1.895818\n",
       "15061.0        28920   54534.14     1.885689\n",
       "12931.0        28004   42055.96     1.501784\n",
       "12748.0        25747   33719.73     1.309657\n",
       "17381.0        25649   20275.61     0.790503\n",
       "13798.0        23948   37153.85     1.551439\n",
       "12901.0        23075   17654.54     0.765094\n",
       "17841.0        23071   40991.57     1.776757\n",
       "17857.0        19256   26879.04     1.395879\n",
       "13081.0        19068   28337.38     1.486122\n",
       "15838.0        18368   33643.08     1.831614\n",
       "...              ...        ...          ...\n",
       "13747.0            8      79.60     9.950000\n",
       "18019.0            7      38.45     5.492857\n",
       "17536.0            6      76.50    12.750000\n",
       "18068.0            6     101.70    16.950000\n",
       "14185.0            6     197.65    32.941667\n",
       "13302.0            5      63.75    12.750000\n",
       "14816.0            5     271.85    54.370000\n",
       "14589.0            5      39.75     7.950000\n",
       "12789.0            4      91.85    22.962500\n",
       "15940.0            4      35.80     8.950000\n",
       "13307.0            4      15.00     3.750000\n",
       "13391.0            4      59.80    14.950000\n",
       "16765.0            4      34.00     8.500000\n",
       "16162.0            4      37.40     9.350000\n",
       "15524.0            4     440.00   110.000000\n",
       "18233.0            4     440.00   110.000000\n",
       "16454.0            3       6.90     2.300000\n",
       "16738.0            3       3.75     1.250000\n",
       "17408.0            3      32.65    10.883333\n",
       "16257.0            2      46.95    23.475000\n",
       "17102.0            2      25.50    12.750000\n",
       "15510.0            2     250.00   125.000000\n",
       "14792.0            2       6.20     3.100000\n",
       "13452.0            2     590.00   295.000000\n",
       "18268.0            2      25.50    12.750000\n",
       "15802.0            1     451.42   451.420000\n",
       "15823.0            1      15.00    15.000000\n",
       "16742.0            1     464.90   464.900000\n",
       "17846.0            1    2033.10  2033.100000\n",
       "17956.0            1      12.75    12.750000\n",
       "\n",
       "[4338 rows x 3 columns]"
      ]
     },
     "execution_count": 86,
     "metadata": {},
     "output_type": "execute_result"
    }
   ],
   "source": [
    "sales_cust_grouped"
   ]
  },
  {
   "cell_type": "code",
   "execution_count": 88,
   "metadata": {},
   "outputs": [
    {
     "data": {
      "image/png": "[encoded data removed]",
      "text/plain": [
       "<matplotlib.figure.Figure at 0x1f42dfc24a8>"
      ]
     },
     "metadata": {},
     "output_type": "display_data"
    }
   ],
   "source": [
    "top_10_customers.plot(x='CustomerID',y='Quantity', kind='barh', figsize=(10,10))\n",
    "plt.title(\"Top 10 Customers by Quantity\")\n",
    "plt.show()"
   ]
  },
  {
   "cell_type": "markdown",
   "metadata": {},
   "source": [
    "First, we can see there are 4,318 customers. There are interesting gaps in the customers looking at the revenue alone.  The average customer has spent 1,1815, the smallest 2.90 and the biggest over 234,407.  It appears they have some large customers, but also service small customers as well.  The gaps in quantity are also similar, with the biggest customers purchasing over 156,113 units, versus a mean of 1,001 and 75th percentile of 939. Let's look at boxplots for ASP, Quanity and Revenue at the customer level."
   ]
  },
  {
   "cell_type": "markdown",
   "metadata": {},
   "source": [
    "We see there is a very large unit customers at 175,000 with the next customer at less than half that amount just above 75,000.  Let's look at how this is shown when we look at revenue."
   ]
  },
  {
   "cell_type": "markdown",
   "metadata": {},
   "source": [
    "Again, we see the very large customer with close to 250,000 in revenue.  It is interesting to note there are quite a few customers between 50,000 to 150,000.  And a bigger cluster in the lower thousands up to 50,000. Lets try to remove some of the larger customers by limiting units to the 75th percentile.  This should help us have a better understanding of the majority of the customers."
   ]
  },
  {
   "cell_type": "code",
   "execution_count": 18,
   "metadata": {},
   "outputs": [
    {
     "data": {
      "text/html": [
       "<div>\n",
       "<style scoped>\n",
       "    .dataframe tbody tr th:only-of-type {\n",
       "        vertical-align: middle;\n",
       "    }\n",
       "\n",
       "    .dataframe tbody tr th {\n",
       "        vertical-align: top;\n",
       "    }\n",
       "\n",
       "    .dataframe thead th {\n",
       "        text-align: right;\n",
       "    }\n",
       "</style>\n",
       "<table border=\"1\" class=\"dataframe\">\n",
       "  <thead>\n",
       "    <tr style=\"text-align: right;\">\n",
       "      <th></th>\n",
       "      <th>Quantity</th>\n",
       "      <th>Revenue</th>\n",
       "      <th>ASP</th>\n",
       "    </tr>\n",
       "    <tr>\n",
       "      <th>CustomerID</th>\n",
       "      <th></th>\n",
       "      <th></th>\n",
       "      <th></th>\n",
       "    </tr>\n",
       "  </thead>\n",
       "  <tbody>\n",
       "    <tr>\n",
       "      <th>12346.0</th>\n",
       "      <td>74215</td>\n",
       "      <td>77183.60</td>\n",
       "      <td>1.040000</td>\n",
       "    </tr>\n",
       "    <tr>\n",
       "      <th>12347.0</th>\n",
       "      <td>2458</td>\n",
       "      <td>4310.00</td>\n",
       "      <td>1.753458</td>\n",
       "    </tr>\n",
       "    <tr>\n",
       "      <th>12348.0</th>\n",
       "      <td>2341</td>\n",
       "      <td>1797.24</td>\n",
       "      <td>0.767723</td>\n",
       "    </tr>\n",
       "    <tr>\n",
       "      <th>12349.0</th>\n",
       "      <td>631</td>\n",
       "      <td>1757.55</td>\n",
       "      <td>2.785341</td>\n",
       "    </tr>\n",
       "    <tr>\n",
       "      <th>12350.0</th>\n",
       "      <td>197</td>\n",
       "      <td>334.40</td>\n",
       "      <td>1.697462</td>\n",
       "    </tr>\n",
       "  </tbody>\n",
       "</table>\n",
       "</div>"
      ],
      "text/plain": [
       "            Quantity   Revenue       ASP\n",
       "CustomerID                              \n",
       "12346.0        74215  77183.60  1.040000\n",
       "12347.0         2458   4310.00  1.753458\n",
       "12348.0         2341   1797.24  0.767723\n",
       "12349.0          631   1757.55  2.785341\n",
       "12350.0          197    334.40  1.697462"
      ]
     },
     "execution_count": 18,
     "metadata": {},
     "output_type": "execute_result"
    }
   ],
   "source": [
    "sales_cust_grouped.head()"
   ]
  },
  {
   "cell_type": "code",
   "execution_count": 19,
   "metadata": {
    "collapsed": true
   },
   "outputs": [],
   "source": [
    "# Limit sales customer grouping to 940 units, 939 units is the 75th percentile.\n",
    "sales_cust_grouped_75_qty = sales_cust_grouped.loc[sales_cust_grouped['Quantity'] < sales_cust_grouped.Quantity.quantile(.75)]\n",
    "sales_cust_grouped_75_revenue = sales_cust_grouped.loc[sales_cust_grouped['Revenue'] < sales_cust_grouped.Revenue.quantile(.75)]"
   ]
  },
  {
   "cell_type": "markdown",
   "metadata": {},
   "source": [
    "When we exclude some of the bigger customers we are still left from 3,237 customers, from our previous total of 4,318.  Interestingly this caps are biggest customer at 39,917 in revenue.  The average units ordered are 313 and 610 in revenue.  Let's look at histograms for distributions of these customers."
   ]
  },
  {
   "cell_type": "code",
   "execution_count": 44,
   "metadata": {
    "scrolled": false
   },
   "outputs": [
    {
     "data": {
      "image/png": "[encoded data removed]",
      "text/plain": [
       "<matplotlib.figure.Figure at 0x1f42e16ea90>"
      ]
     },
     "metadata": {},
     "output_type": "display_data"
    }
   ],
   "source": [
    "sales_cust_grouped_75_qty.hist(column='Quantity', bins=50, figsize=(10,10))\n",
    "plt.title('Customer Units Purchased Histogram(75th Percentile)')\n",
    "plt.show()"
   ]
  },
  {
   "cell_type": "code",
   "execution_count": 21,
   "metadata": {},
   "outputs": [
    {
     "data": {
      "image/png": "[encoded data removed]",
      "text/plain": [
       "<matplotlib.figure.Figure at 0x1f42e12a748>"
      ]
     },
     "metadata": {},
     "output_type": "display_data"
    }
   ],
   "source": [
    "sales_cust_grouped_75_qty.boxplot(column='Quantity', figsize=(10,10))\n",
    "plt.show()"
   ]
  },
  {
   "cell_type": "code",
   "execution_count": 22,
   "metadata": {
    "scrolled": false
   },
   "outputs": [
    {
     "data": {
      "image/png": "[encoded data removed]",
      "text/plain": [
       "<matplotlib.figure.Figure at 0x1f42e151128>"
      ]
     },
     "metadata": {},
     "output_type": "display_data"
    }
   ],
   "source": [
    "sales_cust_grouped_75_revenue.hist(column='Revenue', bins=50, figsize=(10,10))\n",
    "plt.show()"
   ]
  },
  {
   "cell_type": "code",
   "execution_count": 23,
   "metadata": {},
   "outputs": [
    {
     "data": {
      "image/png": "[encoded data removed]",
      "text/plain": [
       "<matplotlib.figure.Figure at 0x1f42e16e240>"
      ]
     },
     "metadata": {},
     "output_type": "display_data"
    }
   ],
   "source": [
    "sales_cust_grouped_75_revenue.boxplot(column='Revenue', figsize=(10,10))\n",
    "plt.show()"
   ]
  },
  {
   "cell_type": "markdown",
   "metadata": {},
   "source": [
    "<a id='transaction_link'></a>"
   ]
  },
  {
   "cell_type": "markdown",
   "metadata": {},
   "source": [
    "## Transaction Exploration"
   ]
  },
  {
   "cell_type": "code",
   "execution_count": 24,
   "metadata": {
    "collapsed": true
   },
   "outputs": [],
   "source": [
    "#Regroup sales transactions\n",
    "sales_trans_grouped = data.groupby('InvoiceNo')['Quantity','Revenue'].sum()\n",
    "sales_trans_grouped['ASP'] = sales_trans_grouped[\"Revenue\"]/ sales_trans_grouped['Quantity']\n",
    "\n",
    "trans_grouped_75_quantity = sales_trans_grouped.loc[sales_trans_grouped[\"Quantity\"] < sales_trans_grouped.Quantity.quantile(.75)]\n",
    "trans_grouped_75_revenue = sales_trans_grouped.loc[sales_trans_grouped[\"Revenue\"] < sales_trans_grouped.Revenue.quantile(.75)]"
   ]
  },
  {
   "cell_type": "code",
   "execution_count": 25,
   "metadata": {
    "scrolled": false
   },
   "outputs": [
    {
     "name": "stdout",
     "output_type": "stream",
     "text": [
      "Number of transactions: 19960\n",
      "Total Revenue: 10666684.544000056\n",
      "Total Units: 5588376\n"
     ]
    }
   ],
   "source": [
    "# Look at number of transactions\n",
    "print('Number of transactions: {}'.format(len(sales_trans_grouped)))\n",
    "print('Total Revenue: {}'.format(sum(sales_trans_grouped['Revenue'])))\n",
    "print('Total Units: {}'.format(sum(sales_trans_grouped['Quantity'])))"
   ]
  },
  {
   "cell_type": "code",
   "execution_count": 26,
   "metadata": {
    "collapsed": true,
    "scrolled": true
   },
   "outputs": [],
   "source": [
    "sales_trans_quantity_75 = sales_trans_grouped.loc[sales_trans_grouped['Quantity'] < sales_trans_grouped.Quantity.quantile(.75)]\n",
    "sales_trans_revenue_75 = sales_trans_grouped.loc[(sales_trans_grouped['Revenue'] < sales_trans_grouped.Revenue.quantile(.75)) & (sales_trans_grouped['Revenue'] >0)]"
   ]
  },
  {
   "cell_type": "markdown",
   "metadata": {},
   "source": [
    "When we focus on sales transactions only that reduces our transaction count from 25,900 to 20,496.  Still a good number of transactions for analysis.  Next let's look at the descriptive statistics for this reduced group.>"
   ]
  },
  {
   "cell_type": "code",
   "execution_count": 27,
   "metadata": {
    "scrolled": true
   },
   "outputs": [
    {
     "data": {
      "text/html": [
       "<div>\n",
       "<style scoped>\n",
       "    .dataframe tbody tr th:only-of-type {\n",
       "        vertical-align: middle;\n",
       "    }\n",
       "\n",
       "    .dataframe tbody tr th {\n",
       "        vertical-align: top;\n",
       "    }\n",
       "\n",
       "    .dataframe thead th {\n",
       "        text-align: right;\n",
       "    }\n",
       "</style>\n",
       "<table border=\"1\" class=\"dataframe\">\n",
       "  <thead>\n",
       "    <tr style=\"text-align: right;\">\n",
       "      <th></th>\n",
       "      <th>Quantity</th>\n",
       "      <th>Revenue</th>\n",
       "      <th>ASP</th>\n",
       "    </tr>\n",
       "  </thead>\n",
       "  <tbody>\n",
       "    <tr>\n",
       "      <th>count</th>\n",
       "      <td>19960.000000</td>\n",
       "      <td>19960.000000</td>\n",
       "      <td>19960.000000</td>\n",
       "    </tr>\n",
       "    <tr>\n",
       "      <th>mean</th>\n",
       "      <td>279.978758</td>\n",
       "      <td>534.403033</td>\n",
       "      <td>7.735306</td>\n",
       "    </tr>\n",
       "    <tr>\n",
       "      <th>std</th>\n",
       "      <td>955.324779</td>\n",
       "      <td>1780.487648</td>\n",
       "      <td>159.132388</td>\n",
       "    </tr>\n",
       "    <tr>\n",
       "      <th>min</th>\n",
       "      <td>1.000000</td>\n",
       "      <td>0.380000</td>\n",
       "      <td>0.060000</td>\n",
       "    </tr>\n",
       "    <tr>\n",
       "      <th>25%</th>\n",
       "      <td>70.000000</td>\n",
       "      <td>152.510000</td>\n",
       "      <td>1.424549</td>\n",
       "    </tr>\n",
       "    <tr>\n",
       "      <th>50%</th>\n",
       "      <td>151.000000</td>\n",
       "      <td>303.835000</td>\n",
       "      <td>1.946812</td>\n",
       "    </tr>\n",
       "    <tr>\n",
       "      <th>75%</th>\n",
       "      <td>296.000000</td>\n",
       "      <td>495.615000</td>\n",
       "      <td>2.816500</td>\n",
       "    </tr>\n",
       "    <tr>\n",
       "      <th>max</th>\n",
       "      <td>80995.000000</td>\n",
       "      <td>168469.600000</td>\n",
       "      <td>13541.330000</td>\n",
       "    </tr>\n",
       "  </tbody>\n",
       "</table>\n",
       "</div>"
      ],
      "text/plain": [
       "           Quantity        Revenue           ASP\n",
       "count  19960.000000   19960.000000  19960.000000\n",
       "mean     279.978758     534.403033      7.735306\n",
       "std      955.324779    1780.487648    159.132388\n",
       "min        1.000000       0.380000      0.060000\n",
       "25%       70.000000     152.510000      1.424549\n",
       "50%      151.000000     303.835000      1.946812\n",
       "75%      296.000000     495.615000      2.816500\n",
       "max    80995.000000  168469.600000  13541.330000"
      ]
     },
     "execution_count": 27,
     "metadata": {},
     "output_type": "execute_result"
    }
   ],
   "source": [
    "sales_trans_grouped.describe()"
   ]
  },
  {
   "cell_type": "markdown",
   "metadata": {},
   "source": [
    "For sales transactions it looks like the average revenue is 465, with 232 units and ASP of 6.21.  Based on that ASP it looks like most of the items they sell are of a lower dollar value.  The 75% percentile for ASP reinforces that as it's only 2.78.  But based on the max of 13,541 it looks like there are some transactions with individual products that are very highly priced. We'll have ot look for more detail on those higher priced items later and see if they are valid o be included. Next lets look at histograms to see distribution for ASP, Quantity and Revenue."
   ]
  },
  {
   "cell_type": "code",
   "execution_count": 28,
   "metadata": {
    "scrolled": false
   },
   "outputs": [
    {
     "data": {
      "image/png": "[encoded data removed]",
      "text/plain": [
       "<matplotlib.figure.Figure at 0x1f42e16e588>"
      ]
     },
     "metadata": {},
     "output_type": "display_data"
    }
   ],
   "source": [
    "trans_grouped_75_quantity.hist(column='Quantity',bins=50, figsize=(10,10))\n",
    "plt.show()"
   ]
  },
  {
   "cell_type": "code",
   "execution_count": 29,
   "metadata": {},
   "outputs": [
    {
     "data": {
      "image/png": "[encoded data removed]",
      "text/plain": [
       "<matplotlib.figure.Figure at 0x1f431ccf4e0>"
      ]
     },
     "metadata": {},
     "output_type": "display_data"
    }
   ],
   "source": [
    "trans_grouped_75_quantity.boxplot(column='Quantity', figsize=(10,10))\n",
    "plt.show()"
   ]
  },
  {
   "cell_type": "markdown",
   "metadata": {},
   "source": [
    "The histograms reinforce what we saw with the descriptive statistics, most transactions are at the lower end of Revenue, ASP and Quantity.  Let's look at boxplots for a different view of the distributions of Quantity and Revenue."
   ]
  },
  {
   "cell_type": "code",
   "execution_count": 30,
   "metadata": {
    "scrolled": false
   },
   "outputs": [
    {
     "data": {
      "image/png": "[encoded data removed]",
      "text/plain": [
       "<matplotlib.figure.Figure at 0x1f431cd31d0>"
      ]
     },
     "metadata": {},
     "output_type": "display_data"
    }
   ],
   "source": [
    "sales_trans_revenue_75.boxplot(column='Revenue', figsize=(10,10))\n",
    "plt.show()"
   ]
  },
  {
   "cell_type": "code",
   "execution_count": 31,
   "metadata": {
    "scrolled": false
   },
   "outputs": [
    {
     "data": {
      "image/png": "[encoded data removed]",
      "text/plain": [
       "<matplotlib.figure.Figure at 0x1f4319041d0>"
      ]
     },
     "metadata": {},
     "output_type": "display_data"
    }
   ],
   "source": [
    "trans_grouped_75_revenue.hist(column='Revenue', figsize=(10,10))\n",
    "plt.title('Quantity Boxplot ')\n",
    "plt.show()"
   ]
  },
  {
   "cell_type": "markdown",
   "metadata": {},
   "source": [
    "The box plots alighn with everything we've seen in regards to individual transactions.  Now that we have a general idea about those, let's look at the data form a customer perspective.\n",
    "<a id='product_link'></a>"
   ]
  },
  {
   "cell_type": "markdown",
   "metadata": {},
   "source": [
    "## Product Exploration\n"
   ]
  },
  {
   "cell_type": "markdown",
   "metadata": {},
   "source": [
    "To begin the exploration let's look at the data at the product level.  It will be important to learn how many product there are as well as learn about the differences in revenue and quantity of each product."
   ]
  },
  {
   "cell_type": "code",
   "execution_count": 32,
   "metadata": {},
   "outputs": [
    {
     "name": "stdout",
     "output_type": "stream",
     "text": [
      "Number of Products: 4026\n"
     ]
    }
   ],
   "source": [
    "# Group data by transactions with Revenue and Quantity columns\n",
    "product_grouped = data.groupby(by='Description')['Quantity','Revenue'].sum()\n",
    "product_grouped['ASP'] = product_grouped['Revenue'] / product_grouped['Quantity']\n",
    "print('Number of Products: {}'.format(len(product_grouped)))"
   ]
  },
  {
   "cell_type": "code",
   "execution_count": 33,
   "metadata": {
    "scrolled": true
   },
   "outputs": [
    {
     "data": {
      "text/html": [
       "<div>\n",
       "<style scoped>\n",
       "    .dataframe tbody tr th:only-of-type {\n",
       "        vertical-align: middle;\n",
       "    }\n",
       "\n",
       "    .dataframe tbody tr th {\n",
       "        vertical-align: top;\n",
       "    }\n",
       "\n",
       "    .dataframe thead th {\n",
       "        text-align: right;\n",
       "    }\n",
       "</style>\n",
       "<table border=\"1\" class=\"dataframe\">\n",
       "  <thead>\n",
       "    <tr style=\"text-align: right;\">\n",
       "      <th></th>\n",
       "      <th>Quantity</th>\n",
       "      <th>Revenue</th>\n",
       "      <th>ASP</th>\n",
       "    </tr>\n",
       "  </thead>\n",
       "  <tbody>\n",
       "    <tr>\n",
       "      <th>count</th>\n",
       "      <td>4026.000000</td>\n",
       "      <td>4026.000000</td>\n",
       "      <td>4026.000000</td>\n",
       "    </tr>\n",
       "    <tr>\n",
       "      <th>mean</th>\n",
       "      <td>1388.071535</td>\n",
       "      <td>2649.449713</td>\n",
       "      <td>8.122115</td>\n",
       "    </tr>\n",
       "    <tr>\n",
       "      <th>std</th>\n",
       "      <td>3465.395806</td>\n",
       "      <td>7815.336619</td>\n",
       "      <td>205.624154</td>\n",
       "    </tr>\n",
       "    <tr>\n",
       "      <th>min</th>\n",
       "      <td>1.000000</td>\n",
       "      <td>0.003000</td>\n",
       "      <td>0.001000</td>\n",
       "    </tr>\n",
       "    <tr>\n",
       "      <th>25%</th>\n",
       "      <td>56.000000</td>\n",
       "      <td>126.757500</td>\n",
       "      <td>1.025689</td>\n",
       "    </tr>\n",
       "    <tr>\n",
       "      <th>50%</th>\n",
       "      <td>358.000000</td>\n",
       "      <td>666.900000</td>\n",
       "      <td>1.969831</td>\n",
       "    </tr>\n",
       "    <tr>\n",
       "      <th>75%</th>\n",
       "      <td>1372.750000</td>\n",
       "      <td>2190.140000</td>\n",
       "      <td>3.975347</td>\n",
       "    </tr>\n",
       "    <tr>\n",
       "      <th>max</th>\n",
       "      <td>80995.000000</td>\n",
       "      <td>206248.770000</td>\n",
       "      <td>11062.060000</td>\n",
       "    </tr>\n",
       "  </tbody>\n",
       "</table>\n",
       "</div>"
      ],
      "text/plain": [
       "           Quantity        Revenue           ASP\n",
       "count   4026.000000    4026.000000   4026.000000\n",
       "mean    1388.071535    2649.449713      8.122115\n",
       "std     3465.395806    7815.336619    205.624154\n",
       "min        1.000000       0.003000      0.001000\n",
       "25%       56.000000     126.757500      1.025689\n",
       "50%      358.000000     666.900000      1.969831\n",
       "75%     1372.750000    2190.140000      3.975347\n",
       "max    80995.000000  206248.770000  11062.060000"
      ]
     },
     "execution_count": 33,
     "metadata": {},
     "output_type": "execute_result"
    }
   ],
   "source": [
    "product_grouped.describe()"
   ]
  },
  {
   "cell_type": "code",
   "execution_count": 47,
   "metadata": {
    "scrolled": true
   },
   "outputs": [
    {
     "data": {
      "text/html": [
       "<div>\n",
       "<style scoped>\n",
       "    .dataframe tbody tr th:only-of-type {\n",
       "        vertical-align: middle;\n",
       "    }\n",
       "\n",
       "    .dataframe tbody tr th {\n",
       "        vertical-align: top;\n",
       "    }\n",
       "\n",
       "    .dataframe thead th {\n",
       "        text-align: right;\n",
       "    }\n",
       "</style>\n",
       "<table border=\"1\" class=\"dataframe\">\n",
       "  <thead>\n",
       "    <tr style=\"text-align: right;\">\n",
       "      <th></th>\n",
       "      <th>Quantity</th>\n",
       "      <th>Revenue</th>\n",
       "      <th>ASP</th>\n",
       "    </tr>\n",
       "    <tr>\n",
       "      <th>Description</th>\n",
       "      <th></th>\n",
       "      <th></th>\n",
       "      <th></th>\n",
       "    </tr>\n",
       "  </thead>\n",
       "  <tbody>\n",
       "    <tr>\n",
       "      <th>DOTCOM POSTAGE</th>\n",
       "      <td>706</td>\n",
       "      <td>206248.77</td>\n",
       "      <td>292.137068</td>\n",
       "    </tr>\n",
       "    <tr>\n",
       "      <th>REGENCY CAKESTAND 3 TIER</th>\n",
       "      <td>13879</td>\n",
       "      <td>174484.74</td>\n",
       "      <td>12.571852</td>\n",
       "    </tr>\n",
       "    <tr>\n",
       "      <th>PAPER CRAFT , LITTLE BIRDIE</th>\n",
       "      <td>80995</td>\n",
       "      <td>168469.60</td>\n",
       "      <td>2.080000</td>\n",
       "    </tr>\n",
       "    <tr>\n",
       "      <th>WHITE HANGING HEART T-LIGHT HOLDER</th>\n",
       "      <td>37891</td>\n",
       "      <td>106292.77</td>\n",
       "      <td>2.805225</td>\n",
       "    </tr>\n",
       "    <tr>\n",
       "      <th>PARTY BUNTING</th>\n",
       "      <td>18295</td>\n",
       "      <td>99504.33</td>\n",
       "      <td>5.438881</td>\n",
       "    </tr>\n",
       "    <tr>\n",
       "      <th>JUMBO BAG RED RETROSPOT</th>\n",
       "      <td>48474</td>\n",
       "      <td>94340.05</td>\n",
       "      <td>1.946199</td>\n",
       "    </tr>\n",
       "    <tr>\n",
       "      <th>MEDIUM CERAMIC TOP STORAGE JAR</th>\n",
       "      <td>78033</td>\n",
       "      <td>81700.92</td>\n",
       "      <td>1.047005</td>\n",
       "    </tr>\n",
       "    <tr>\n",
       "      <th>Manual</th>\n",
       "      <td>7225</td>\n",
       "      <td>78112.82</td>\n",
       "      <td>10.811463</td>\n",
       "    </tr>\n",
       "    <tr>\n",
       "      <th>POSTAGE</th>\n",
       "      <td>3150</td>\n",
       "      <td>78101.88</td>\n",
       "      <td>24.794248</td>\n",
       "    </tr>\n",
       "    <tr>\n",
       "      <th>RABBIT NIGHT LIGHT</th>\n",
       "      <td>30788</td>\n",
       "      <td>66964.99</td>\n",
       "      <td>2.175035</td>\n",
       "    </tr>\n",
       "  </tbody>\n",
       "</table>\n",
       "</div>"
      ],
      "text/plain": [
       "                                    Quantity    Revenue         ASP\n",
       "Description                                                        \n",
       "DOTCOM POSTAGE                           706  206248.77  292.137068\n",
       "REGENCY CAKESTAND 3 TIER               13879  174484.74   12.571852\n",
       "PAPER CRAFT , LITTLE BIRDIE            80995  168469.60    2.080000\n",
       "WHITE HANGING HEART T-LIGHT HOLDER     37891  106292.77    2.805225\n",
       "PARTY BUNTING                          18295   99504.33    5.438881\n",
       "JUMBO BAG RED RETROSPOT                48474   94340.05    1.946199\n",
       "MEDIUM CERAMIC TOP STORAGE JAR         78033   81700.92    1.047005\n",
       "Manual                                  7225   78112.82   10.811463\n",
       "POSTAGE                                 3150   78101.88   24.794248\n",
       "RABBIT NIGHT LIGHT                     30788   66964.99    2.175035"
      ]
     },
     "execution_count": 47,
     "metadata": {},
     "output_type": "execute_result"
    }
   ],
   "source": [
    "# Top 20 Revenue Products\n",
    "product_grouped_revenue = product_grouped.sort_values(by=\"Revenue\", ascending=False)\n",
    "product_grouped_revenue.head(10)"
   ]
  },
  {
   "cell_type": "code",
   "execution_count": 45,
   "metadata": {
    "collapsed": true
   },
   "outputs": [],
   "source": [
    "top_10 = product_grouped_revenue.head(10)"
   ]
  },
  {
   "cell_type": "code",
   "execution_count": 46,
   "metadata": {},
   "outputs": [
    {
     "data": {
      "text/html": [
       "<div>\n",
       "<style scoped>\n",
       "    .dataframe tbody tr th:only-of-type {\n",
       "        vertical-align: middle;\n",
       "    }\n",
       "\n",
       "    .dataframe tbody tr th {\n",
       "        vertical-align: top;\n",
       "    }\n",
       "\n",
       "    .dataframe thead th {\n",
       "        text-align: right;\n",
       "    }\n",
       "</style>\n",
       "<table border=\"1\" class=\"dataframe\">\n",
       "  <thead>\n",
       "    <tr style=\"text-align: right;\">\n",
       "      <th></th>\n",
       "      <th>Quantity</th>\n",
       "      <th>Revenue</th>\n",
       "      <th>ASP</th>\n",
       "    </tr>\n",
       "    <tr>\n",
       "      <th>Description</th>\n",
       "      <th></th>\n",
       "      <th></th>\n",
       "      <th></th>\n",
       "    </tr>\n",
       "  </thead>\n",
       "  <tbody>\n",
       "    <tr>\n",
       "      <th>DOTCOM POSTAGE</th>\n",
       "      <td>706</td>\n",
       "      <td>206248.77</td>\n",
       "      <td>292.137068</td>\n",
       "    </tr>\n",
       "    <tr>\n",
       "      <th>REGENCY CAKESTAND 3 TIER</th>\n",
       "      <td>13879</td>\n",
       "      <td>174484.74</td>\n",
       "      <td>12.571852</td>\n",
       "    </tr>\n",
       "    <tr>\n",
       "      <th>PAPER CRAFT , LITTLE BIRDIE</th>\n",
       "      <td>80995</td>\n",
       "      <td>168469.60</td>\n",
       "      <td>2.080000</td>\n",
       "    </tr>\n",
       "    <tr>\n",
       "      <th>WHITE HANGING HEART T-LIGHT HOLDER</th>\n",
       "      <td>37891</td>\n",
       "      <td>106292.77</td>\n",
       "      <td>2.805225</td>\n",
       "    </tr>\n",
       "    <tr>\n",
       "      <th>PARTY BUNTING</th>\n",
       "      <td>18295</td>\n",
       "      <td>99504.33</td>\n",
       "      <td>5.438881</td>\n",
       "    </tr>\n",
       "    <tr>\n",
       "      <th>JUMBO BAG RED RETROSPOT</th>\n",
       "      <td>48474</td>\n",
       "      <td>94340.05</td>\n",
       "      <td>1.946199</td>\n",
       "    </tr>\n",
       "    <tr>\n",
       "      <th>MEDIUM CERAMIC TOP STORAGE JAR</th>\n",
       "      <td>78033</td>\n",
       "      <td>81700.92</td>\n",
       "      <td>1.047005</td>\n",
       "    </tr>\n",
       "    <tr>\n",
       "      <th>Manual</th>\n",
       "      <td>7225</td>\n",
       "      <td>78112.82</td>\n",
       "      <td>10.811463</td>\n",
       "    </tr>\n",
       "    <tr>\n",
       "      <th>POSTAGE</th>\n",
       "      <td>3150</td>\n",
       "      <td>78101.88</td>\n",
       "      <td>24.794248</td>\n",
       "    </tr>\n",
       "    <tr>\n",
       "      <th>RABBIT NIGHT LIGHT</th>\n",
       "      <td>30788</td>\n",
       "      <td>66964.99</td>\n",
       "      <td>2.175035</td>\n",
       "    </tr>\n",
       "  </tbody>\n",
       "</table>\n",
       "</div>"
      ],
      "text/plain": [
       "                                    Quantity    Revenue         ASP\n",
       "Description                                                        \n",
       "DOTCOM POSTAGE                           706  206248.77  292.137068\n",
       "REGENCY CAKESTAND 3 TIER               13879  174484.74   12.571852\n",
       "PAPER CRAFT , LITTLE BIRDIE            80995  168469.60    2.080000\n",
       "WHITE HANGING HEART T-LIGHT HOLDER     37891  106292.77    2.805225\n",
       "PARTY BUNTING                          18295   99504.33    5.438881\n",
       "JUMBO BAG RED RETROSPOT                48474   94340.05    1.946199\n",
       "MEDIUM CERAMIC TOP STORAGE JAR         78033   81700.92    1.047005\n",
       "Manual                                  7225   78112.82   10.811463\n",
       "POSTAGE                                 3150   78101.88   24.794248\n",
       "RABBIT NIGHT LIGHT                     30788   66964.99    2.175035"
      ]
     },
     "execution_count": 46,
     "metadata": {},
     "output_type": "execute_result"
    }
   ],
   "source": [
    "top_10"
   ]
  },
  {
   "cell_type": "code",
   "execution_count": 43,
   "metadata": {
    "scrolled": true
   },
   "outputs": [
    {
     "data": {
      "text/html": [
       "<div>\n",
       "<style scoped>\n",
       "    .dataframe tbody tr th:only-of-type {\n",
       "        vertical-align: middle;\n",
       "    }\n",
       "\n",
       "    .dataframe tbody tr th {\n",
       "        vertical-align: top;\n",
       "    }\n",
       "\n",
       "    .dataframe thead th {\n",
       "        text-align: right;\n",
       "    }\n",
       "</style>\n",
       "<table border=\"1\" class=\"dataframe\">\n",
       "  <thead>\n",
       "    <tr style=\"text-align: right;\">\n",
       "      <th></th>\n",
       "      <th>Quantity</th>\n",
       "      <th>Revenue</th>\n",
       "      <th>ASP</th>\n",
       "    </tr>\n",
       "  </thead>\n",
       "  <tbody>\n",
       "    <tr>\n",
       "      <th>count</th>\n",
       "      <td>4026.000000</td>\n",
       "      <td>4026.000000</td>\n",
       "      <td>4026.000000</td>\n",
       "    </tr>\n",
       "    <tr>\n",
       "      <th>mean</th>\n",
       "      <td>1388.071535</td>\n",
       "      <td>2649.449713</td>\n",
       "      <td>8.122115</td>\n",
       "    </tr>\n",
       "    <tr>\n",
       "      <th>std</th>\n",
       "      <td>3465.395806</td>\n",
       "      <td>7815.336619</td>\n",
       "      <td>205.624154</td>\n",
       "    </tr>\n",
       "    <tr>\n",
       "      <th>min</th>\n",
       "      <td>1.000000</td>\n",
       "      <td>0.003000</td>\n",
       "      <td>0.001000</td>\n",
       "    </tr>\n",
       "    <tr>\n",
       "      <th>25%</th>\n",
       "      <td>56.000000</td>\n",
       "      <td>126.757500</td>\n",
       "      <td>1.025689</td>\n",
       "    </tr>\n",
       "    <tr>\n",
       "      <th>50%</th>\n",
       "      <td>358.000000</td>\n",
       "      <td>666.900000</td>\n",
       "      <td>1.969831</td>\n",
       "    </tr>\n",
       "    <tr>\n",
       "      <th>75%</th>\n",
       "      <td>1372.750000</td>\n",
       "      <td>2190.140000</td>\n",
       "      <td>3.975347</td>\n",
       "    </tr>\n",
       "    <tr>\n",
       "      <th>max</th>\n",
       "      <td>80995.000000</td>\n",
       "      <td>206248.770000</td>\n",
       "      <td>11062.060000</td>\n",
       "    </tr>\n",
       "  </tbody>\n",
       "</table>\n",
       "</div>"
      ],
      "text/plain": [
       "           Quantity        Revenue           ASP\n",
       "count   4026.000000    4026.000000   4026.000000\n",
       "mean    1388.071535    2649.449713      8.122115\n",
       "std     3465.395806    7815.336619    205.624154\n",
       "min        1.000000       0.003000      0.001000\n",
       "25%       56.000000     126.757500      1.025689\n",
       "50%      358.000000     666.900000      1.969831\n",
       "75%     1372.750000    2190.140000      3.975347\n",
       "max    80995.000000  206248.770000  11062.060000"
      ]
     },
     "execution_count": 43,
     "metadata": {},
     "output_type": "execute_result"
    }
   ],
   "source": [
    "product_grouped_quantity.describe()"
   ]
  },
  {
   "cell_type": "code",
   "execution_count": 35,
   "metadata": {
    "scrolled": true
   },
   "outputs": [
    {
     "data": {
      "text/html": [
       "<div>\n",
       "<style scoped>\n",
       "    .dataframe tbody tr th:only-of-type {\n",
       "        vertical-align: middle;\n",
       "    }\n",
       "\n",
       "    .dataframe tbody tr th {\n",
       "        vertical-align: top;\n",
       "    }\n",
       "\n",
       "    .dataframe thead th {\n",
       "        text-align: right;\n",
       "    }\n",
       "</style>\n",
       "<table border=\"1\" class=\"dataframe\">\n",
       "  <thead>\n",
       "    <tr style=\"text-align: right;\">\n",
       "      <th></th>\n",
       "      <th>Quantity</th>\n",
       "      <th>Revenue</th>\n",
       "      <th>ASP</th>\n",
       "    </tr>\n",
       "    <tr>\n",
       "      <th>Description</th>\n",
       "      <th></th>\n",
       "      <th></th>\n",
       "      <th></th>\n",
       "    </tr>\n",
       "  </thead>\n",
       "  <tbody>\n",
       "    <tr>\n",
       "      <th>PAPER CRAFT , LITTLE BIRDIE</th>\n",
       "      <td>80995</td>\n",
       "      <td>168469.60</td>\n",
       "      <td>2.080000</td>\n",
       "    </tr>\n",
       "    <tr>\n",
       "      <th>MEDIUM CERAMIC TOP STORAGE JAR</th>\n",
       "      <td>78033</td>\n",
       "      <td>81700.92</td>\n",
       "      <td>1.047005</td>\n",
       "    </tr>\n",
       "    <tr>\n",
       "      <th>WORLD WAR 2 GLIDERS ASSTD DESIGNS</th>\n",
       "      <td>55047</td>\n",
       "      <td>13841.85</td>\n",
       "      <td>0.251455</td>\n",
       "    </tr>\n",
       "    <tr>\n",
       "      <th>JUMBO BAG RED RETROSPOT</th>\n",
       "      <td>48474</td>\n",
       "      <td>94340.05</td>\n",
       "      <td>1.946199</td>\n",
       "    </tr>\n",
       "    <tr>\n",
       "      <th>WHITE HANGING HEART T-LIGHT HOLDER</th>\n",
       "      <td>37891</td>\n",
       "      <td>106292.77</td>\n",
       "      <td>2.805225</td>\n",
       "    </tr>\n",
       "    <tr>\n",
       "      <th>POPCORN HOLDER</th>\n",
       "      <td>36761</td>\n",
       "      <td>34298.87</td>\n",
       "      <td>0.933023</td>\n",
       "    </tr>\n",
       "    <tr>\n",
       "      <th>ASSORTED COLOUR BIRD ORNAMENT</th>\n",
       "      <td>36461</td>\n",
       "      <td>59094.93</td>\n",
       "      <td>1.620771</td>\n",
       "    </tr>\n",
       "    <tr>\n",
       "      <th>PACK OF 72 RETROSPOT CAKE CASES</th>\n",
       "      <td>36419</td>\n",
       "      <td>21259.10</td>\n",
       "      <td>0.583737</td>\n",
       "    </tr>\n",
       "    <tr>\n",
       "      <th>RABBIT NIGHT LIGHT</th>\n",
       "      <td>30788</td>\n",
       "      <td>66964.99</td>\n",
       "      <td>2.175035</td>\n",
       "    </tr>\n",
       "    <tr>\n",
       "      <th>MINI PAINT SET VINTAGE</th>\n",
       "      <td>26633</td>\n",
       "      <td>16937.82</td>\n",
       "      <td>0.635971</td>\n",
       "    </tr>\n",
       "  </tbody>\n",
       "</table>\n",
       "</div>"
      ],
      "text/plain": [
       "                                    Quantity    Revenue       ASP\n",
       "Description                                                      \n",
       "PAPER CRAFT , LITTLE BIRDIE            80995  168469.60  2.080000\n",
       "MEDIUM CERAMIC TOP STORAGE JAR         78033   81700.92  1.047005\n",
       "WORLD WAR 2 GLIDERS ASSTD DESIGNS      55047   13841.85  0.251455\n",
       "JUMBO BAG RED RETROSPOT                48474   94340.05  1.946199\n",
       "WHITE HANGING HEART T-LIGHT HOLDER     37891  106292.77  2.805225\n",
       "POPCORN HOLDER                         36761   34298.87  0.933023\n",
       "ASSORTED COLOUR BIRD ORNAMENT          36461   59094.93  1.620771\n",
       "PACK OF 72 RETROSPOT CAKE CASES        36419   21259.10  0.583737\n",
       "RABBIT NIGHT LIGHT                     30788   66964.99  2.175035\n",
       "MINI PAINT SET VINTAGE                 26633   16937.82  0.635971"
      ]
     },
     "execution_count": 35,
     "metadata": {},
     "output_type": "execute_result"
    }
   ],
   "source": [
    "# Top 10 Quantity Products\n",
    "product_grouped_quantity = product_grouped.sort_values(by=\"Quantity\", ascending=False)\n",
    "product_grouped_quantity.head(10)"
   ]
  },
  {
   "cell_type": "code",
   "execution_count": 51,
   "metadata": {
    "collapsed": true
   },
   "outputs": [],
   "source": [
    "top_10 = product_grouped_quantity.head(10).reset_index()"
   ]
  },
  {
   "cell_type": "code",
   "execution_count": 62,
   "metadata": {},
   "outputs": [],
   "source": [
    "top_10 = top_10.sort_values(by='Quantity')"
   ]
  },
  {
   "cell_type": "code",
   "execution_count": 68,
   "metadata": {},
   "outputs": [
    {
     "data": {
      "image/png": "[encoded data removed]",
      "text/plain": [
       "<matplotlib.figure.Figure at 0x1f42dc22128>"
      ]
     },
     "metadata": {},
     "output_type": "display_data"
    }
   ],
   "source": [
    "top_10.plot(x='Description', y='Quantity', kind='barh', figsize=(10,10), legend=False)\n",
    "plt.title('Top 10 Products by Quantity')\n",
    "plt.show()"
   ]
  },
  {
   "cell_type": "code",
   "execution_count": 36,
   "metadata": {
    "scrolled": false
   },
   "outputs": [
    {
     "data": {
      "text/html": [
       "<div>\n",
       "<style scoped>\n",
       "    .dataframe tbody tr th:only-of-type {\n",
       "        vertical-align: middle;\n",
       "    }\n",
       "\n",
       "    .dataframe tbody tr th {\n",
       "        vertical-align: top;\n",
       "    }\n",
       "\n",
       "    .dataframe thead th {\n",
       "        text-align: right;\n",
       "    }\n",
       "</style>\n",
       "<table border=\"1\" class=\"dataframe\">\n",
       "  <thead>\n",
       "    <tr style=\"text-align: right;\">\n",
       "      <th></th>\n",
       "      <th>Quantity</th>\n",
       "      <th>Revenue</th>\n",
       "      <th>ASP</th>\n",
       "    </tr>\n",
       "  </thead>\n",
       "  <tbody>\n",
       "    <tr>\n",
       "      <th>count</th>\n",
       "      <td>4026.000000</td>\n",
       "      <td>4026.000000</td>\n",
       "      <td>4026.000000</td>\n",
       "    </tr>\n",
       "    <tr>\n",
       "      <th>mean</th>\n",
       "      <td>1388.071535</td>\n",
       "      <td>2649.449713</td>\n",
       "      <td>8.122115</td>\n",
       "    </tr>\n",
       "    <tr>\n",
       "      <th>std</th>\n",
       "      <td>3465.395806</td>\n",
       "      <td>7815.336619</td>\n",
       "      <td>205.624154</td>\n",
       "    </tr>\n",
       "    <tr>\n",
       "      <th>min</th>\n",
       "      <td>1.000000</td>\n",
       "      <td>0.003000</td>\n",
       "      <td>0.001000</td>\n",
       "    </tr>\n",
       "    <tr>\n",
       "      <th>25%</th>\n",
       "      <td>56.000000</td>\n",
       "      <td>126.757500</td>\n",
       "      <td>1.025689</td>\n",
       "    </tr>\n",
       "    <tr>\n",
       "      <th>50%</th>\n",
       "      <td>358.000000</td>\n",
       "      <td>666.900000</td>\n",
       "      <td>1.969831</td>\n",
       "    </tr>\n",
       "    <tr>\n",
       "      <th>75%</th>\n",
       "      <td>1372.750000</td>\n",
       "      <td>2190.140000</td>\n",
       "      <td>3.975347</td>\n",
       "    </tr>\n",
       "    <tr>\n",
       "      <th>max</th>\n",
       "      <td>80995.000000</td>\n",
       "      <td>206248.770000</td>\n",
       "      <td>11062.060000</td>\n",
       "    </tr>\n",
       "  </tbody>\n",
       "</table>\n",
       "</div>"
      ],
      "text/plain": [
       "           Quantity        Revenue           ASP\n",
       "count   4026.000000    4026.000000   4026.000000\n",
       "mean    1388.071535    2649.449713      8.122115\n",
       "std     3465.395806    7815.336619    205.624154\n",
       "min        1.000000       0.003000      0.001000\n",
       "25%       56.000000     126.757500      1.025689\n",
       "50%      358.000000     666.900000      1.969831\n",
       "75%     1372.750000    2190.140000      3.975347\n",
       "max    80995.000000  206248.770000  11062.060000"
      ]
     },
     "execution_count": 36,
     "metadata": {},
     "output_type": "execute_result"
    }
   ],
   "source": [
    "product_grouped.describe()"
   ]
  },
  {
   "cell_type": "code",
   "execution_count": 37,
   "metadata": {
    "collapsed": true
   },
   "outputs": [],
   "source": [
    "# Look at 75th percentile of product to exclude large outliers\n",
    "product_grouped_75_quantity = product_grouped.loc[product_grouped[\"Quantity\"] < product_grouped.Quantity.quantile(.75)]\n",
    "product_grouped_75_revenue = product_grouped.loc[product_grouped[\"Revenue\"] < product_grouped.Revenue.quantile(.75)]"
   ]
  },
  {
   "cell_type": "code",
   "execution_count": 38,
   "metadata": {},
   "outputs": [
    {
     "data": {
      "image/png": "[encoded data removed]",
      "text/plain": [
       "<matplotlib.figure.Figure at 0x1f42e02beb8>"
      ]
     },
     "metadata": {},
     "output_type": "display_data"
    }
   ],
   "source": [
    "product_grouped_75_quantity.hist(column='Quantity', bins=25, figsize=(10,10))\n",
    "plt.title('Product Quantity Histogram (75th Percentile)')\n",
    "plt.show()"
   ]
  },
  {
   "cell_type": "code",
   "execution_count": 39,
   "metadata": {},
   "outputs": [
    {
     "data": {
      "image/png": "[encoded data removed]",
      "text/plain": [
       "<matplotlib.figure.Figure at 0x1f428419d68>"
      ]
     },
     "metadata": {},
     "output_type": "display_data"
    }
   ],
   "source": [
    "product_grouped_75_quantity.boxplot(column='Quantity', figsize=(10,10))\n",
    "plt.title('Product Quantity Histogram (75th Percentile)')\n",
    "plt.show()"
   ]
  },
  {
   "cell_type": "code",
   "execution_count": 40,
   "metadata": {
    "scrolled": false
   },
   "outputs": [
    {
     "data": {
      "image/png": "[encoded data removed]",
      "text/plain": [
       "<matplotlib.figure.Figure at 0x1f431c86940>"
      ]
     },
     "metadata": {},
     "output_type": "display_data"
    }
   ],
   "source": [
    "product_grouped_75_revenue.hist(column='Revenue', bins=25, figsize=(10,10))\n",
    "plt.title('Product Revenue Histogram (75th Percentile)')\n",
    "plt.show()"
   ]
  },
  {
   "cell_type": "code",
   "execution_count": 41,
   "metadata": {},
   "outputs": [
    {
     "data": {
      "image/png": "[encoded data removed]",
      "text/plain": [
       "<matplotlib.figure.Figure at 0x1f431cbe550>"
      ]
     },
     "metadata": {},
     "output_type": "display_data"
    }
   ],
   "source": [
    "product_grouped_75_revenue.boxplot(column='Revenue', figsize=(10,10))\n",
    "plt.title('Product Revenue Histogram (75th Percentile)')\n",
    "plt.show()"
   ]
  }
 ],
 "metadata": {
  "kernelspec": {
   "display_name": "Python 3",
   "language": "python",
   "name": "python3"
  },
  "language_info": {
   "codemirror_mode": {
    "name": "ipython",
    "version": 3
   },
   "file_extension": ".py",
   "mimetype": "text/x-python",
   "name": "python",
   "nbconvert_exporter": "python",
   "pygments_lexer": "ipython3",
   "version": "3.6.3"
  }
 },
 "nbformat": 4,
 "nbformat_minor": 2
}
