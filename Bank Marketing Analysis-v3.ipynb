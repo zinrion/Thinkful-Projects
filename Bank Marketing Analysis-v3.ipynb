{
 "cells": [
  {
   "cell_type": "code",
   "execution_count": 109,
   "metadata": {},
   "outputs": [
    {
     "name": "stdout",
     "output_type": "stream",
     "text": [
      "height has been deprecated.\n",
      "\n"
     ]
    }
   ],
   "source": [
    "import pandas as pd\n",
    "import seaborn as sns\n",
    "import matplotlib.pyplot as plt\n",
    "%matplotlib inline\n",
    "from sklearn import ensemble\n",
    "from sklearn.model_selection import cross_val_score\n",
    "from sklearn.svm import SVC\n",
    "from sklearn.neighbors import KNeighborsClassifier\n",
    "from sklearn.linear_model import LogisticRegression\n",
    "from sklearn.naive_bayes import BernoulliNB\n",
    "from sklearn import ensemble\n",
    "import itertools\n",
    "from sklearn.model_selection import train_test_split\n",
    "import time\n",
    "import numpy as np\n",
    "from sklearn.ensemble import ExtraTreesClassifier\n",
    "from sklearn import linear_model\n",
    "from sklearn.decomposition import PCA \n",
    "from sklearn.metrics import confusion_matrix\n",
    "from sklearn.feature_selection import RFE\n",
    "\n",
    "pd.set_option('display.height', 1000)\n",
    "pd.set_option('display.max_rows', 500)\n",
    "pd.set_option('display.max_columns', 500)\n",
    "pd.set_option('display.width', 1000)"
   ]
  },
  {
   "cell_type": "code",
   "execution_count": 3,
   "metadata": {
    "collapsed": true
   },
   "outputs": [],
   "source": [
    "#Import data\n",
    "data = pd.read_csv(\"bank-additional-full.csv\", delimiter=\";\")"
   ]
  },
  {
   "cell_type": "code",
   "execution_count": 4,
   "metadata": {},
   "outputs": [
    {
     "data": {
      "text/plain": [
       "(41188, 21)"
      ]
     },
     "execution_count": 4,
     "metadata": {},
     "output_type": "execute_result"
    }
   ],
   "source": [
    "data.shape"
   ]
  },
  {
   "cell_type": "code",
   "execution_count": 5,
   "metadata": {
    "scrolled": true
   },
   "outputs": [
    {
     "name": "stdout",
     "output_type": "stream",
     "text": [
      "<class 'pandas.core.frame.DataFrame'>\n",
      "RangeIndex: 41188 entries, 0 to 41187\n",
      "Data columns (total 21 columns):\n",
      "age               41188 non-null int64\n",
      "job               41188 non-null object\n",
      "marital           41188 non-null object\n",
      "education         41188 non-null object\n",
      "default           41188 non-null object\n",
      "housing           41188 non-null object\n",
      "loan              41188 non-null object\n",
      "contact           41188 non-null object\n",
      "month             41188 non-null object\n",
      "day_of_week       41188 non-null object\n",
      "duration          41188 non-null int64\n",
      "campaign          41188 non-null int64\n",
      "pdays             41188 non-null int64\n",
      "previous          41188 non-null int64\n",
      "poutcome          41188 non-null object\n",
      "emp.var.rate      41188 non-null float64\n",
      "cons.price.idx    41188 non-null float64\n",
      "cons.conf.idx     41188 non-null float64\n",
      "euribor3m         41188 non-null float64\n",
      "nr.employed       41188 non-null float64\n",
      "y                 41188 non-null object\n",
      "dtypes: float64(5), int64(5), object(11)\n",
      "memory usage: 6.6+ MB\n"
     ]
    }
   ],
   "source": [
    "data.info()"
   ]
  },
  {
   "cell_type": "code",
   "execution_count": 125,
   "metadata": {
    "scrolled": true
   },
   "outputs": [
    {
     "data": {
      "text/html": [
       "<div>\n",
       "<style>\n",
       "    .dataframe thead tr:only-child th {\n",
       "        text-align: right;\n",
       "    }\n",
       "\n",
       "    .dataframe thead th {\n",
       "        text-align: left;\n",
       "    }\n",
       "\n",
       "    .dataframe tbody tr th {\n",
       "        vertical-align: top;\n",
       "    }\n",
       "</style>\n",
       "<table border=\"1\" class=\"dataframe\">\n",
       "  <thead>\n",
       "    <tr style=\"text-align: right;\">\n",
       "      <th></th>\n",
       "      <th>age</th>\n",
       "      <th>job</th>\n",
       "      <th>marital</th>\n",
       "      <th>education</th>\n",
       "      <th>default</th>\n",
       "      <th>housing</th>\n",
       "      <th>loan</th>\n",
       "      <th>contact</th>\n",
       "      <th>month</th>\n",
       "      <th>day_of_week</th>\n",
       "      <th>duration</th>\n",
       "      <th>campaign</th>\n",
       "      <th>pdays</th>\n",
       "      <th>previous</th>\n",
       "      <th>poutcome</th>\n",
       "      <th>emp.var.rate</th>\n",
       "      <th>cons.price.idx</th>\n",
       "      <th>cons.conf.idx</th>\n",
       "      <th>euribor3m</th>\n",
       "      <th>nr.employed</th>\n",
       "      <th>y</th>\n",
       "      <th>outcome</th>\n",
       "    </tr>\n",
       "  </thead>\n",
       "  <tbody>\n",
       "    <tr>\n",
       "      <th>0</th>\n",
       "      <td>56</td>\n",
       "      <td>housemaid</td>\n",
       "      <td>married</td>\n",
       "      <td>basic.4y</td>\n",
       "      <td>no</td>\n",
       "      <td>no</td>\n",
       "      <td>no</td>\n",
       "      <td>telephone</td>\n",
       "      <td>may</td>\n",
       "      <td>mon</td>\n",
       "      <td>261</td>\n",
       "      <td>1</td>\n",
       "      <td>999</td>\n",
       "      <td>0</td>\n",
       "      <td>nonexistent</td>\n",
       "      <td>1.1</td>\n",
       "      <td>93.994</td>\n",
       "      <td>-36.4</td>\n",
       "      <td>4.857</td>\n",
       "      <td>5191.0</td>\n",
       "      <td>no</td>\n",
       "      <td>0.0</td>\n",
       "    </tr>\n",
       "    <tr>\n",
       "      <th>1</th>\n",
       "      <td>57</td>\n",
       "      <td>services</td>\n",
       "      <td>married</td>\n",
       "      <td>high.school</td>\n",
       "      <td>unknown</td>\n",
       "      <td>no</td>\n",
       "      <td>no</td>\n",
       "      <td>telephone</td>\n",
       "      <td>may</td>\n",
       "      <td>mon</td>\n",
       "      <td>149</td>\n",
       "      <td>1</td>\n",
       "      <td>999</td>\n",
       "      <td>0</td>\n",
       "      <td>nonexistent</td>\n",
       "      <td>1.1</td>\n",
       "      <td>93.994</td>\n",
       "      <td>-36.4</td>\n",
       "      <td>4.857</td>\n",
       "      <td>5191.0</td>\n",
       "      <td>no</td>\n",
       "      <td>0.0</td>\n",
       "    </tr>\n",
       "    <tr>\n",
       "      <th>2</th>\n",
       "      <td>37</td>\n",
       "      <td>services</td>\n",
       "      <td>married</td>\n",
       "      <td>high.school</td>\n",
       "      <td>no</td>\n",
       "      <td>yes</td>\n",
       "      <td>no</td>\n",
       "      <td>telephone</td>\n",
       "      <td>may</td>\n",
       "      <td>mon</td>\n",
       "      <td>226</td>\n",
       "      <td>1</td>\n",
       "      <td>999</td>\n",
       "      <td>0</td>\n",
       "      <td>nonexistent</td>\n",
       "      <td>1.1</td>\n",
       "      <td>93.994</td>\n",
       "      <td>-36.4</td>\n",
       "      <td>4.857</td>\n",
       "      <td>5191.0</td>\n",
       "      <td>no</td>\n",
       "      <td>0.0</td>\n",
       "    </tr>\n",
       "    <tr>\n",
       "      <th>3</th>\n",
       "      <td>40</td>\n",
       "      <td>admin.</td>\n",
       "      <td>married</td>\n",
       "      <td>basic.6y</td>\n",
       "      <td>no</td>\n",
       "      <td>no</td>\n",
       "      <td>no</td>\n",
       "      <td>telephone</td>\n",
       "      <td>may</td>\n",
       "      <td>mon</td>\n",
       "      <td>151</td>\n",
       "      <td>1</td>\n",
       "      <td>999</td>\n",
       "      <td>0</td>\n",
       "      <td>nonexistent</td>\n",
       "      <td>1.1</td>\n",
       "      <td>93.994</td>\n",
       "      <td>-36.4</td>\n",
       "      <td>4.857</td>\n",
       "      <td>5191.0</td>\n",
       "      <td>no</td>\n",
       "      <td>0.0</td>\n",
       "    </tr>\n",
       "    <tr>\n",
       "      <th>4</th>\n",
       "      <td>56</td>\n",
       "      <td>services</td>\n",
       "      <td>married</td>\n",
       "      <td>high.school</td>\n",
       "      <td>no</td>\n",
       "      <td>no</td>\n",
       "      <td>yes</td>\n",
       "      <td>telephone</td>\n",
       "      <td>may</td>\n",
       "      <td>mon</td>\n",
       "      <td>307</td>\n",
       "      <td>1</td>\n",
       "      <td>999</td>\n",
       "      <td>0</td>\n",
       "      <td>nonexistent</td>\n",
       "      <td>1.1</td>\n",
       "      <td>93.994</td>\n",
       "      <td>-36.4</td>\n",
       "      <td>4.857</td>\n",
       "      <td>5191.0</td>\n",
       "      <td>no</td>\n",
       "      <td>0.0</td>\n",
       "    </tr>\n",
       "  </tbody>\n",
       "</table>\n",
       "</div>"
      ],
      "text/plain": [
       "   age        job  marital    education  default housing loan    contact month day_of_week  duration  campaign  pdays  previous     poutcome  emp.var.rate  cons.price.idx  cons.conf.idx  euribor3m  nr.employed   y  outcome\n",
       "0   56  housemaid  married     basic.4y       no      no   no  telephone   may         mon       261         1    999         0  nonexistent           1.1          93.994          -36.4      4.857       5191.0  no      0.0\n",
       "1   57   services  married  high.school  unknown      no   no  telephone   may         mon       149         1    999         0  nonexistent           1.1          93.994          -36.4      4.857       5191.0  no      0.0\n",
       "2   37   services  married  high.school       no     yes   no  telephone   may         mon       226         1    999         0  nonexistent           1.1          93.994          -36.4      4.857       5191.0  no      0.0\n",
       "3   40     admin.  married     basic.6y       no      no   no  telephone   may         mon       151         1    999         0  nonexistent           1.1          93.994          -36.4      4.857       5191.0  no      0.0\n",
       "4   56   services  married  high.school       no      no  yes  telephone   may         mon       307         1    999         0  nonexistent           1.1          93.994          -36.4      4.857       5191.0  no      0.0"
      ]
     },
     "execution_count": 125,
     "metadata": {},
     "output_type": "execute_result"
    }
   ],
   "source": [
    "data.head(5)"
   ]
  },
  {
   "cell_type": "markdown",
   "metadata": {},
   "source": [
    "### Feature Engineering and Selection"
   ]
  },
  {
   "cell_type": "code",
   "execution_count": 140,
   "metadata": {},
   "outputs": [],
   "source": [
    "# Final Model Features\n",
    "\n",
    "#Create Outcome\n",
    "data.loc[data.y == \"yes\", \"outcome\"] = 1\n",
    "data.loc[data.y == \"no\", \"outcome\"] = 0\n",
    "y = data[\"outcome\"]\n",
    "\n",
    "#Feature Engineering\n",
    "\n",
    "x[\"pdays\"] = data[\"pdays\"]\n",
    "x[\"previous\"] = data[\"previous\"]\n",
    "x[\"below 40\"] = np.where(data.age <40,1,0)\n",
    "x[\"prior_outcome\"] = np.where(data[\"poutcome\"] == \"yes\",1,0)\n",
    "x[\"single\"] = np.where(np.logical_or(data[\"marital\"] ==\"single\",data[\"marital\"] ==\"uknown\"),1,0)\n",
    "x[\"loan_yes\"] = np.where(data[\"loan\"] == \"yes\",1,0)\n",
    "x[\"default_no\"] = np.where(data[\"default\"] == \"yes\",1,0)\n",
    "\n",
    "#Split for modeling\n",
    "x_train, x_test, y_train, y_test = train_test_split(x,y, random_state=22)"
   ]
  },
  {
   "cell_type": "code",
   "execution_count": 182,
   "metadata": {
    "collapsed": true
   },
   "outputs": [],
   "source": [
    "#Features for RFE and Random Forest Feature Importance - Will Include All Features\n",
    "\n",
    "# Create Outcome\n",
    "data.loc[data.y == \"yes\", \"outcome\"] = 1\n",
    "data.loc[data.y == \"no\", \"outcome\"] = 0\n",
    "\n",
    "x_full = pd.get_dummies(data[[\"loan\",\"contact\",\"day_of_week\",\"poutcome\",\"marital\",\"education\",\"default\",\"month\"]])\n",
    "x_full[\"duration\"] = data[\"duration\"]\n",
    "x_full[\"campaign\"] = data[\"campaign\"]\n",
    "x_full[\"pdays\"] = data[\"pdays\"]\n",
    "x_full[\"previous\"] = data[\"previous\"]\n",
    "y_full = data[\"outcome\"]\n",
    "\n",
    "x_train_full, x_test_full, y_train_full, y_test_full = train_test_split(x_full,y_full, random_state=22)"
   ]
  },
  {
   "cell_type": "code",
   "execution_count": 183,
   "metadata": {
    "scrolled": false
   },
   "outputs": [
    {
     "data": {
      "image/png": "[encoded data removed]",
      "text/plain": [
       "<matplotlib.figure.Figure at 0x1e45ab88e80>"
      ]
     },
     "metadata": {},
     "output_type": "display_data"
    }
   ],
   "source": [
    "#Random Forest for Feature Selection\n",
    "\n",
    "forest = ExtraTreesClassifier(n_estimators=20)\n",
    "forest.fit(x_train_full, y_train_full)\n",
    "feature_importances = forest.feature_importances_\n",
    "\n",
    "importances = pd.DataFrame({'Importance': feature_importances, 'Feature': x_train.columns}, \n",
    "                           index=x_train.columns).sort_values(by='Importance', ascending=False)\n",
    "\n",
    "sns.set(font_scale=1.50)\n",
    "plt.figure(figsize=(25, 18))\n",
    "plt.xticks(rotation=80)\n",
    "plot=sns.barplot(x='Feature', y='Importance', data=importances[0:20])\n",
    "fig = plot.get_figure()\n",
    "fig.savefig(\"output7.png\")\n",
    "plt.show()"
   ]
  },
  {
   "cell_type": "code",
   "execution_count": 168,
   "metadata": {},
   "outputs": [
    {
     "data": {
      "text/html": [
       "<div>\n",
       "<style>\n",
       "    .dataframe thead tr:only-child th {\n",
       "        text-align: right;\n",
       "    }\n",
       "\n",
       "    .dataframe thead th {\n",
       "        text-align: left;\n",
       "    }\n",
       "\n",
       "    .dataframe tbody tr th {\n",
       "        vertical-align: top;\n",
       "    }\n",
       "</style>\n",
       "<table border=\"1\" class=\"dataframe\">\n",
       "  <thead>\n",
       "    <tr style=\"text-align: right;\">\n",
       "      <th></th>\n",
       "      <th>Features</th>\n",
       "      <th>Ranking</th>\n",
       "    </tr>\n",
       "  </thead>\n",
       "  <tbody>\n",
       "    <tr>\n",
       "      <th>41</th>\n",
       "      <td>previous</td>\n",
       "      <td>1</td>\n",
       "    </tr>\n",
       "    <tr>\n",
       "      <th>19</th>\n",
       "      <td>education_basic.9y</td>\n",
       "      <td>1</td>\n",
       "    </tr>\n",
       "    <tr>\n",
       "      <th>26</th>\n",
       "      <td>default_unknown</td>\n",
       "      <td>1</td>\n",
       "    </tr>\n",
       "    <tr>\n",
       "      <th>27</th>\n",
       "      <td>default_yes</td>\n",
       "      <td>1</td>\n",
       "    </tr>\n",
       "    <tr>\n",
       "      <th>29</th>\n",
       "      <td>month_aug</td>\n",
       "      <td>1</td>\n",
       "    </tr>\n",
       "    <tr>\n",
       "      <th>30</th>\n",
       "      <td>month_dec</td>\n",
       "      <td>1</td>\n",
       "    </tr>\n",
       "    <tr>\n",
       "      <th>31</th>\n",
       "      <td>month_jul</td>\n",
       "      <td>1</td>\n",
       "    </tr>\n",
       "    <tr>\n",
       "      <th>33</th>\n",
       "      <td>month_mar</td>\n",
       "      <td>1</td>\n",
       "    </tr>\n",
       "    <tr>\n",
       "      <th>12</th>\n",
       "      <td>poutcome_success</td>\n",
       "      <td>1</td>\n",
       "    </tr>\n",
       "    <tr>\n",
       "      <th>11</th>\n",
       "      <td>poutcome_nonexistent</td>\n",
       "      <td>1</td>\n",
       "    </tr>\n",
       "    <tr>\n",
       "      <th>10</th>\n",
       "      <td>poutcome_failure</td>\n",
       "      <td>1</td>\n",
       "    </tr>\n",
       "    <tr>\n",
       "      <th>34</th>\n",
       "      <td>month_may</td>\n",
       "      <td>1</td>\n",
       "    </tr>\n",
       "    <tr>\n",
       "      <th>35</th>\n",
       "      <td>month_nov</td>\n",
       "      <td>1</td>\n",
       "    </tr>\n",
       "    <tr>\n",
       "      <th>36</th>\n",
       "      <td>month_oct</td>\n",
       "      <td>1</td>\n",
       "    </tr>\n",
       "    <tr>\n",
       "      <th>6</th>\n",
       "      <td>day_of_week_mon</td>\n",
       "      <td>1</td>\n",
       "    </tr>\n",
       "    <tr>\n",
       "      <th>37</th>\n",
       "      <td>month_sep</td>\n",
       "      <td>1</td>\n",
       "    </tr>\n",
       "    <tr>\n",
       "      <th>4</th>\n",
       "      <td>contact_telephone</td>\n",
       "      <td>1</td>\n",
       "    </tr>\n",
       "    <tr>\n",
       "      <th>3</th>\n",
       "      <td>contact_cellular</td>\n",
       "      <td>1</td>\n",
       "    </tr>\n",
       "    <tr>\n",
       "      <th>2</th>\n",
       "      <td>loan_yes</td>\n",
       "      <td>1</td>\n",
       "    </tr>\n",
       "    <tr>\n",
       "      <th>24</th>\n",
       "      <td>education_unknown</td>\n",
       "      <td>1</td>\n",
       "    </tr>\n",
       "    <tr>\n",
       "      <th>21</th>\n",
       "      <td>education_illiterate</td>\n",
       "      <td>1</td>\n",
       "    </tr>\n",
       "    <tr>\n",
       "      <th>1</th>\n",
       "      <td>loan_unknown</td>\n",
       "      <td>2</td>\n",
       "    </tr>\n",
       "    <tr>\n",
       "      <th>0</th>\n",
       "      <td>loan_no</td>\n",
       "      <td>3</td>\n",
       "    </tr>\n",
       "    <tr>\n",
       "      <th>13</th>\n",
       "      <td>marital_divorced</td>\n",
       "      <td>4</td>\n",
       "    </tr>\n",
       "    <tr>\n",
       "      <th>14</th>\n",
       "      <td>marital_married</td>\n",
       "      <td>5</td>\n",
       "    </tr>\n",
       "    <tr>\n",
       "      <th>22</th>\n",
       "      <td>education_professional.course</td>\n",
       "      <td>6</td>\n",
       "    </tr>\n",
       "    <tr>\n",
       "      <th>18</th>\n",
       "      <td>education_basic.6y</td>\n",
       "      <td>7</td>\n",
       "    </tr>\n",
       "    <tr>\n",
       "      <th>20</th>\n",
       "      <td>education_high.school</td>\n",
       "      <td>8</td>\n",
       "    </tr>\n",
       "    <tr>\n",
       "      <th>25</th>\n",
       "      <td>default_no</td>\n",
       "      <td>9</td>\n",
       "    </tr>\n",
       "    <tr>\n",
       "      <th>32</th>\n",
       "      <td>month_jun</td>\n",
       "      <td>10</td>\n",
       "    </tr>\n",
       "    <tr>\n",
       "      <th>28</th>\n",
       "      <td>month_apr</td>\n",
       "      <td>11</td>\n",
       "    </tr>\n",
       "    <tr>\n",
       "      <th>39</th>\n",
       "      <td>campaign</td>\n",
       "      <td>12</td>\n",
       "    </tr>\n",
       "    <tr>\n",
       "      <th>5</th>\n",
       "      <td>day_of_week_fri</td>\n",
       "      <td>13</td>\n",
       "    </tr>\n",
       "    <tr>\n",
       "      <th>7</th>\n",
       "      <td>day_of_week_thu</td>\n",
       "      <td>14</td>\n",
       "    </tr>\n",
       "    <tr>\n",
       "      <th>8</th>\n",
       "      <td>day_of_week_tue</td>\n",
       "      <td>15</td>\n",
       "    </tr>\n",
       "    <tr>\n",
       "      <th>17</th>\n",
       "      <td>education_basic.4y</td>\n",
       "      <td>16</td>\n",
       "    </tr>\n",
       "    <tr>\n",
       "      <th>15</th>\n",
       "      <td>marital_single</td>\n",
       "      <td>17</td>\n",
       "    </tr>\n",
       "    <tr>\n",
       "      <th>16</th>\n",
       "      <td>marital_unknown</td>\n",
       "      <td>18</td>\n",
       "    </tr>\n",
       "    <tr>\n",
       "      <th>9</th>\n",
       "      <td>day_of_week_wed</td>\n",
       "      <td>19</td>\n",
       "    </tr>\n",
       "    <tr>\n",
       "      <th>38</th>\n",
       "      <td>duration</td>\n",
       "      <td>20</td>\n",
       "    </tr>\n",
       "    <tr>\n",
       "      <th>23</th>\n",
       "      <td>education_university.degree</td>\n",
       "      <td>21</td>\n",
       "    </tr>\n",
       "    <tr>\n",
       "      <th>40</th>\n",
       "      <td>pdays</td>\n",
       "      <td>22</td>\n",
       "    </tr>\n",
       "  </tbody>\n",
       "</table>\n",
       "</div>"
      ],
      "text/plain": [
       "                         Features  Ranking\n",
       "41                       previous        1\n",
       "19             education_basic.9y        1\n",
       "26                default_unknown        1\n",
       "27                    default_yes        1\n",
       "29                      month_aug        1\n",
       "30                      month_dec        1\n",
       "31                      month_jul        1\n",
       "33                      month_mar        1\n",
       "12               poutcome_success        1\n",
       "11           poutcome_nonexistent        1\n",
       "10               poutcome_failure        1\n",
       "34                      month_may        1\n",
       "35                      month_nov        1\n",
       "36                      month_oct        1\n",
       "6                 day_of_week_mon        1\n",
       "37                      month_sep        1\n",
       "4               contact_telephone        1\n",
       "3                contact_cellular        1\n",
       "2                        loan_yes        1\n",
       "24              education_unknown        1\n",
       "21           education_illiterate        1\n",
       "1                    loan_unknown        2\n",
       "0                         loan_no        3\n",
       "13               marital_divorced        4\n",
       "14                marital_married        5\n",
       "22  education_professional.course        6\n",
       "18             education_basic.6y        7\n",
       "20          education_high.school        8\n",
       "25                     default_no        9\n",
       "32                      month_jun       10\n",
       "28                      month_apr       11\n",
       "39                       campaign       12\n",
       "5                 day_of_week_fri       13\n",
       "7                 day_of_week_thu       14\n",
       "8                 day_of_week_tue       15\n",
       "17             education_basic.4y       16\n",
       "15                 marital_single       17\n",
       "16                marital_unknown       18\n",
       "9                 day_of_week_wed       19\n",
       "38                       duration       20\n",
       "23    education_university.degree       21\n",
       "40                          pdays       22"
      ]
     },
     "execution_count": 168,
     "metadata": {},
     "output_type": "execute_result"
    }
   ],
   "source": [
    "#Try without dummy variables - then feature engineered - try other models\n",
    "#RFE for feature selectiondd\n",
    "selector = RFE(LogisticRegression())\n",
    "selector = selector.fit(x_full,y_full)\n",
    "rankings = pd.DataFrame({'Features': x_full.columns, 'Ranking' : selector.ranking_})\n",
    "rankings.sort_values('Ranking')"
   ]
  },
  {
   "cell_type": "markdown",
   "metadata": {},
   "source": [
    "## Modeling"
   ]
  },
  {
   "cell_type": "code",
   "execution_count": 12,
   "metadata": {
    "collapsed": true
   },
   "outputs": [],
   "source": [
    "def print_model_output(input_model):\n",
    "    start_time = time.time()\n",
    "    model=input_model\n",
    "    model.fit(x_train,y_train)\n",
    "    train_score=model.score(x_train,y_train)\n",
    "    test_score=model.score(x_test,y_test)\n",
    "    predict_test=model.predict(x_test)\n",
    "    #print(confusion_matrix(y_test,predict_test))\n",
    "    matrix = confusion_matrix(y_test,predict_test)\n",
    "    test_accuracy=matrix[0][0]/(matrix[0][0]+matrix[0][1])\n",
    "    test_specificity = matrix[1][1]/(matrix[1][0]+matrix[1][1])\n",
    "    #print(\"Train Score %0.6f\" % (train_score))\n",
    "    #print(\"Test Score %0.6f\" % (test_score)) \n",
    "    #print(\"Test Sensitivity %0.6f\" % (test_accuracy))\n",
    "    #print(\"Test Specificity %0.6f\" % (test_specificity))\n",
    "    #print(\"Cross-Val-Score:\")\n",
    "    #print(cross_val_score(model,x_train,y_train))\n",
    "    return train_score, test_score,test_accuracy,test_specificity"
   ]
  },
  {
   "cell_type": "code",
   "execution_count": 158,
   "metadata": {
    "collapsed": true
   },
   "outputs": [],
   "source": [
    "def print_model_output_single(input_model):\n",
    "    start_time = time.time()\n",
    "    model=input_model\n",
    "    model.fit(x_train,y_train)\n",
    "    train_score=model.score(x_train,y_train)\n",
    "    test_score=model.score(x_test,y_test)\n",
    "    predict_test=model.predict(x_test)\n",
    "    matrix = confusion_matrix(y_test,predict_test)\n",
    "    print(matrix)\n",
    "    test_accuracy=matrix[0][0]/(matrix[0][0]+matrix[0][1])\n",
    "    test_specificity = matrix[1][1]/(matrix[1][0]+matrix[1][1])\n",
    "    print(\"Train Score %0.6f\" % (train_score))\n",
    "    print(\"Test Score %0.6f\" % (test_score)) \n",
    "    print(\"Test Sensitivity %0.6f\" % (test_accuracy))\n",
    "    print(\"Test Specificity %0.6f\" % (test_specificity))\n",
    "    #print(\"Cross-Val-Score:\")\n",
    "    #print(cross_val_score(model,x_train,y_train))\n",
    "    return train_score, test_score,test_accuracy,test_specificity"
   ]
  },
  {
   "cell_type": "code",
   "execution_count": 72,
   "metadata": {
    "collapsed": true
   },
   "outputs": [],
   "source": [
    "def print_model_output_single(input_model):\n",
    "    start_time = time.time()\n",
    "    model=input_model\n",
    "    model.fit(x_train,y_train)\n",
    "    train_score=model.score(x_train,y_train)\n",
    "    test_score=model.score(x_test,y_test)\n",
    "    predict_test=model.predict(x_test)\n",
    "    #matrix = confusion_matrix(y_test,predict_test)\n",
    "    #test_accuracy=matrix[0][0]/(matrix[0][0]+matrix[0][1])\n",
    "    #test_specificity = matrix[1][1]/(matrix[1][0]+matrix[1][1])\n",
    "    print(\"Train Score %0.6f\" % (train_score))\n",
    "    print(\"Test Score %0.6f\" % (test_score)) \n",
    "    #print(\"Test Sensitivity %0.6f\" % (test_accuracy))\n",
    "    #print(\"Test Specificity %0.6f\" % (test_specificity))\n",
    "    #print(\"Cross-Val-Score:\")\n",
    "    #print(cross_val_score(model,x_train,y_train))\n",
    "    return train_score, test_score,test_accuracy,test_specificity"
   ]
  },
  {
   "cell_type": "code",
   "execution_count": 169,
   "metadata": {
    "collapsed": true
   },
   "outputs": [],
   "source": [
    "def print_model_output_backwards(input_model):\n",
    "    start_time = time.time()\n",
    "    model=input_model\n",
    "    model.fit(x_train,y_train)\n",
    "    test_score=model.score(x_test,y_test)\n",
    "    print(\"Test Score %0.6f\" % (test_score)) "
   ]
  },
  {
   "cell_type": "code",
   "execution_count": 144,
   "metadata": {
    "scrolled": false
   },
   "outputs": [
    {
     "name": "stdout",
     "output_type": "stream",
     "text": [
      "Train Score 0.898320\n",
      "Test Score 0.892202\n",
      "Test Sensitivity 0.989906\n",
      "Test Specificity 0.139476\n",
      "Runtime: 10 seconds\n"
     ]
    }
   ],
   "source": [
    "# KNN with Default settings\n",
    "start_time = time.time()\n",
    "print_model_output_single(KNeighborsClassifier())\n",
    "print(\"Runtime: %0.f seconds\" % (time.time()- start_time))"
   ]
  },
  {
   "cell_type": "code",
   "execution_count": null,
   "metadata": {},
   "outputs": [
    {
     "name": "stdout",
     "output_type": "stream",
     "text": [
      "     Number Neighbors  Train Score  Test Score  Test Sensitivity  Test Specificity\n",
      "2                 3.0     0.861675    0.852870          0.938337          0.194421\n",
      "4                 5.0     0.864103    0.856075          0.942177          0.192730\n",
      "0                 1.0     0.858308    0.848208          0.934826          0.180896\n",
      "95               96.0     0.905474    0.894824          0.988918          0.169907\n",
      "99              100.0     0.905474    0.894824          0.988918          0.169907\n",
      "97               98.0     0.905474    0.894824          0.988918          0.169907\n",
      "96               97.0     0.905474    0.894824          0.988918          0.169907\n",
      "100             101.0     0.905474    0.894824          0.988918          0.169907\n",
      "3                 4.0     0.863326    0.855103          0.944042          0.169907\n",
      "98               99.0     0.905474    0.894630          0.988918          0.168216\n",
      "88               89.0     0.905474    0.894435          0.988808          0.167371\n",
      "89               90.0     0.905474    0.894532          0.988918          0.167371\n",
      "82               83.0     0.905474    0.894532          0.988918          0.167371\n",
      "84               85.0     0.905474    0.894532          0.988918          0.167371\n",
      "85               86.0     0.905474    0.894532          0.988918          0.167371\n",
      "87               88.0     0.905474    0.894435          0.988808          0.167371\n",
      "76               77.0     0.905474    0.894532          0.988918          0.167371\n",
      "90               91.0     0.905474    0.894532          0.988918          0.167371\n",
      "91               92.0     0.905474    0.894532          0.988918          0.167371\n",
      "92               93.0     0.905474    0.894532          0.988918          0.167371\n",
      "93               94.0     0.905474    0.894532          0.988918          0.167371\n",
      "94               95.0     0.905474    0.894532          0.988918          0.167371\n",
      "77               78.0     0.905474    0.894532          0.989028          0.166526\n",
      "59               60.0     0.905474    0.894921          0.989467          0.166526\n",
      "65               66.0     0.905474    0.894435          0.988918          0.166526\n",
      "71               72.0     0.905474    0.894338          0.988808          0.166526\n",
      "73               74.0     0.905474    0.894338          0.988808          0.166526\n",
      "75               76.0     0.905474    0.894435          0.988918          0.166526\n",
      "79               80.0     0.905474    0.894435          0.988918          0.166526\n",
      "78               79.0     0.905474    0.894532          0.989028          0.166526\n",
      "80               81.0     0.905474    0.894338          0.988808          0.166526\n",
      "86               87.0     0.905474    0.894435          0.988918          0.166526\n",
      "81               82.0     0.905474    0.894338          0.988808          0.166526\n",
      "83               84.0     0.905474    0.894435          0.988918          0.166526\n",
      "67               68.0     0.905474    0.894338          0.988918          0.165680\n",
      "61               62.0     0.905474    0.894630          0.989247          0.165680\n",
      "62               63.0     0.905474    0.894435          0.989028          0.165680\n",
      "64               65.0     0.905474    0.894532          0.989138          0.165680\n",
      "68               69.0     0.905474    0.894435          0.989028          0.165680\n",
      "69               70.0     0.905474    0.894338          0.988918          0.165680\n",
      "70               71.0     0.905474    0.894338          0.988918          0.165680\n",
      "72               73.0     0.905474    0.894338          0.988918          0.165680\n",
      "74               75.0     0.905474    0.894241          0.988808          0.165680\n",
      "57               58.0     0.905474    0.894824          0.989467          0.165680\n",
      "60               61.0     0.905474    0.894532          0.989247          0.164835\n",
      "58               59.0     0.905474    0.894727          0.989467          0.164835\n",
      "48               49.0     0.905474    0.894921          0.989686          0.164835\n",
      "54               55.0     0.905474    0.894824          0.989576          0.164835\n",
      "63               64.0     0.905474    0.894435          0.989138          0.164835\n",
      "66               67.0     0.905474    0.894241          0.988918          0.164835\n",
      "55               56.0     0.905474    0.894727          0.989467          0.164835\n",
      "56               57.0     0.905474    0.894824          0.989576          0.164835\n",
      "46               47.0     0.905474    0.894727          0.989576          0.163990\n",
      "49               50.0     0.905474    0.894727          0.989576          0.163990\n",
      "50               51.0     0.905474    0.894630          0.989576          0.163145\n",
      "52               53.0     0.905474    0.894630          0.989576          0.163145\n",
      "51               52.0     0.905474    0.894630          0.989576          0.163145\n",
      "53               54.0     0.905474    0.894727          0.989686          0.163145\n",
      "47               48.0     0.905474    0.894727          0.989686          0.163145\n",
      "45               46.0     0.905474    0.894630          0.989576          0.163145\n",
      "44               45.0     0.905474    0.894630          0.989686          0.162299\n",
      "43               44.0     0.905474    0.894630          0.989686          0.162299\n",
      "42               43.0     0.905474    0.894727          0.989796          0.162299\n",
      "41               42.0     0.905474    0.894435          0.989576          0.161454\n",
      "38               39.0     0.905474    0.894532          0.989686          0.161454\n",
      "39               40.0     0.905474    0.894532          0.989686          0.161454\n",
      "35               36.0     0.905474    0.894435          0.989686          0.160609\n",
      "37               38.0     0.905474    0.894338          0.989576          0.160609\n",
      "31               32.0     0.905474    0.894241          0.989467          0.160609\n",
      "40               41.0     0.905474    0.894435          0.989686          0.160609\n",
      "30               31.0     0.905474    0.894435          0.989686          0.160609\n",
      "29               30.0     0.905474    0.894435          0.989686          0.160609\n",
      "18               19.0     0.905474    0.894338          0.989686          0.159763\n",
      "22               23.0     0.905474    0.894241          0.989576          0.159763\n",
      "27               28.0     0.905474    0.894338          0.989686          0.159763\n",
      "16               17.0     0.905474    0.894338          0.989686          0.159763\n",
      "28               29.0     0.905474    0.894338          0.989686          0.159763\n",
      "33               34.0     0.905474    0.894241          0.989576          0.159763\n",
      "36               37.0     0.905474    0.894338          0.989686          0.159763\n",
      "20               21.0     0.905474    0.894144          0.989576          0.158918\n",
      "26               27.0     0.905474    0.894144          0.989576          0.158918\n",
      "25               26.0     0.905474    0.894047          0.989467          0.158918\n",
      "23               24.0     0.905474    0.894338          0.989796          0.158918\n",
      "34               35.0     0.905474    0.894241          0.989686          0.158918\n",
      "21               22.0     0.905474    0.894144          0.989576          0.158918\n",
      "32               33.0     0.905474    0.894241          0.989686          0.158918\n",
      "24               25.0     0.905474    0.894241          0.989796          0.158073\n",
      "17               18.0     0.905474    0.894047          0.989576          0.158073\n",
      "15               16.0     0.905474    0.894047          0.989576          0.158073\n",
      "14               15.0     0.905474    0.894144          0.989796          0.157227\n",
      "19               20.0     0.905474    0.893950          0.989576          0.157227\n",
      "12               13.0     0.905474    0.893755          0.989796          0.153846\n",
      "6                 7.0     0.905442    0.894241          0.990345          0.153846\n",
      "10               11.0     0.905474    0.893853          0.989906          0.153846\n",
      "13               14.0     0.905377    0.893658          0.990015          0.151310\n",
      "11               12.0     0.905377    0.893464          0.990235          0.147929\n",
      "8                 9.0     0.905345    0.893367          0.990235          0.147084\n",
      "7                 8.0     0.905312    0.892979          0.990345          0.142857\n",
      "1                 2.0     0.860963    0.851413          0.943384          0.142857\n",
      "9                10.0     0.905053    0.892881          0.990345          0.142012\n",
      "5                 6.0     0.905118    0.893076          0.990783          0.140321\n",
      "Runtime: 992 seconds\n"
     ]
    }
   ],
   "source": [
    "#Tuned KNN with weights\n",
    "neighbors=range(1,102)\n",
    "start_time = time.time()\n",
    "knn_1_results = pd.DataFrame(columns=[\"Number Neighbors\",\"Train Score\",\"Test Score\",\"Test Sensitivity\",\"Test Specificity\"])\n",
    "for neighbor in neighbors:\n",
    "    #print(\"Number of Neighbors %0.f\" %(neighbor))\n",
    "    train_score, test_score,test_accuracy,test_specificity=print_model_output(KNeighborsClassifier(n_neighbors=neighbor,weights=\"distance\"))\n",
    "    knn_1_results =  knn_1_results.append({\"Number Neighbors\":neighbor, \"Train Score\":train_score, \"Test Score\":test_score,\"Test Sensitivity\":test_accuracy,\"Test Specificity\":test_specificity}, ignore_index=True)\n",
    "knn_1_results = knn_1_results.sort_values(by=\"Test Specificity\", ascending=False)\n",
    "print(knn_1_results)\n",
    "print(\"Runtime: %0.f seconds\" % (time.time()- start_time))"
   ]
  },
  {
   "cell_type": "code",
   "execution_count": 14,
   "metadata": {},
   "outputs": [
    {
     "name": "stdout",
     "output_type": "stream",
     "text": [
      "     Number Neighbors  Train Score  Test Score  Test Sensitivity  Test Specificity\n",
      "96               97.0     0.898255    0.895309          0.984420          0.208791\n",
      "94               95.0     0.898158    0.895309          0.984420          0.208791\n",
      "92               93.0     0.898223    0.895309          0.984420          0.208791\n",
      "91               92.0     0.898255    0.895309          0.984420          0.208791\n",
      "90               91.0     0.898255    0.895309          0.984420          0.208791\n",
      "84               85.0     0.898352    0.895504          0.984749          0.207946\n",
      "95               96.0     0.898320    0.895212          0.984420          0.207946\n",
      "93               94.0     0.898288    0.895212          0.984420          0.207946\n",
      "100             101.0     0.898288    0.895212          0.984529          0.207101\n",
      "99              100.0     0.898288    0.895212          0.984529          0.207101\n",
      "98               99.0     0.898255    0.895212          0.984529          0.207101\n",
      "97               98.0     0.898255    0.895115          0.984529          0.206255\n",
      "89               90.0     0.898352    0.895309          0.984749          0.206255\n",
      "82               83.0     0.898385    0.895309          0.984749          0.206255\n",
      "83               84.0     0.898385    0.895406          0.984858          0.206255\n",
      "86               87.0     0.898417    0.895309          0.984749          0.206255\n",
      "88               89.0     0.898223    0.894921          0.984420          0.205410\n",
      "85               86.0     0.898385    0.895212          0.984749          0.205410\n",
      "72               73.0     0.898482    0.895406          0.984968          0.205410\n",
      "87               88.0     0.898385    0.895115          0.984749          0.204565\n",
      "74               75.0     0.898417    0.895309          0.984968          0.204565\n",
      "81               82.0     0.898417    0.895212          0.984858          0.204565\n",
      "68               69.0     0.898190    0.895406          0.985078          0.204565\n",
      "78               79.0     0.898417    0.895309          0.984968          0.204565\n",
      "76               77.0     0.898417    0.895309          0.984968          0.204565\n",
      "66               67.0     0.898320    0.895309          0.985078          0.203719\n",
      "70               71.0     0.898352    0.895212          0.984968          0.203719\n",
      "75               76.0     0.898385    0.895212          0.984968          0.203719\n",
      "79               80.0     0.898385    0.895212          0.984968          0.203719\n",
      "80               81.0     0.898352    0.895115          0.984858          0.203719\n",
      "77               78.0     0.898417    0.895115          0.984968          0.202874\n",
      "73               74.0     0.898449    0.895115          0.985078          0.202029\n",
      "69               70.0     0.898223    0.895309          0.985297          0.202029\n",
      "67               68.0     0.898417    0.895406          0.985407          0.202029\n",
      "64               65.0     0.898514    0.895406          0.985407          0.202029\n",
      "54               55.0     0.898579    0.895795          0.985846          0.202029\n",
      "60               61.0     0.898288    0.895504          0.985517          0.202029\n",
      "61               62.0     0.898255    0.895406          0.985517          0.201183\n",
      "71               72.0     0.898288    0.895115          0.985188          0.201183\n",
      "56               57.0     0.898385    0.895504          0.985627          0.201183\n",
      "58               59.0     0.898320    0.895504          0.985627          0.201183\n",
      "62               63.0     0.898352    0.895406          0.985517          0.201183\n",
      "57               58.0     0.898417    0.895406          0.985627          0.200338\n",
      "65               66.0     0.898514    0.895309          0.985517          0.200338\n",
      "42               43.0     0.898385    0.896086          0.986395          0.200338\n",
      "63               64.0     0.898449    0.895601          0.985846          0.200338\n",
      "48               49.0     0.898644    0.895504          0.985846          0.199493\n",
      "40               41.0     0.898644    0.895795          0.986175          0.199493\n",
      "46               47.0     0.898676    0.896086          0.986504          0.199493\n",
      "59               60.0     0.898352    0.895309          0.985627          0.199493\n",
      "32               33.0     0.899000    0.896086          0.986504          0.199493\n",
      "52               53.0     0.898805    0.895698          0.986065          0.199493\n",
      "55               56.0     0.898547    0.895698          0.986175          0.198648\n",
      "50               51.0     0.898838    0.895601          0.986065          0.198648\n",
      "53               54.0     0.898547    0.895504          0.985956          0.198648\n",
      "44               45.0     0.898676    0.895989          0.986504          0.198648\n",
      "43               44.0     0.898676    0.896183          0.986724          0.198648\n",
      "39               40.0     0.898708    0.896086          0.986614          0.198648\n",
      "38               39.0     0.898741    0.895795          0.986395          0.197802\n",
      "34               35.0     0.898805    0.895892          0.986504          0.197802\n",
      "51               52.0     0.898838    0.895406          0.986065          0.196957\n",
      "49               50.0     0.898676    0.895212          0.985956          0.196112\n",
      "41               42.0     0.898773    0.895795          0.986724          0.195266\n",
      "28               29.0     0.899162    0.895892          0.986833          0.195266\n",
      "30               31.0     0.899097    0.896086          0.987053          0.195266\n",
      "45               46.0     0.898482    0.896280          0.987382          0.194421\n",
      "26               27.0     0.899000    0.895601          0.986614          0.194421\n",
      "47               48.0     0.898676    0.896086          0.987272          0.193576\n",
      "37               38.0     0.898644    0.895601          0.986724          0.193576\n",
      "36               37.0     0.898644    0.895504          0.986724          0.192730\n",
      "35               36.0     0.898870    0.895601          0.987053          0.191040\n",
      "31               32.0     0.898870    0.895989          0.987492          0.191040\n",
      "24               25.0     0.898935    0.895795          0.987382          0.190194\n",
      "29               30.0     0.899000    0.895795          0.987492          0.189349\n",
      "33               34.0     0.898741    0.895795          0.987492          0.189349\n",
      "25               26.0     0.899097    0.895698          0.987382          0.189349\n",
      "27               28.0     0.899032    0.895892          0.987821          0.187658\n",
      "22               23.0     0.898838    0.895406          0.987272          0.187658\n",
      "16               17.0     0.899518    0.895406          0.987272          0.187658\n",
      "18               19.0     0.898967    0.895018          0.987272          0.184277\n",
      "12               13.0     0.899356    0.895212          0.987601          0.183432\n",
      "14               15.0     0.899000    0.894727          0.987163          0.182587\n",
      "20               21.0     0.899000    0.894532          0.986943          0.182587\n",
      "19               20.0     0.898935    0.894921          0.987492          0.181741\n",
      "17               18.0     0.899194    0.895406          0.988150          0.180896\n",
      "13               14.0     0.899162    0.895115          0.987931          0.180051\n",
      "10               11.0     0.899453    0.895212          0.988040          0.180051\n",
      "21               22.0     0.898903    0.894532          0.987492          0.178360\n",
      "15               16.0     0.899194    0.895309          0.988479          0.177515\n",
      "23               24.0     0.898838    0.894630          0.987821          0.176669\n",
      "11               12.0     0.899421    0.894630          0.988918          0.168216\n",
      "8                 9.0     0.898967    0.894921          0.990125          0.161454\n",
      "6                 7.0     0.898449    0.893853          0.990674          0.147929\n",
      "4                 5.0     0.898320    0.892202          0.989906          0.139476\n",
      "9                10.0     0.898061    0.893464          0.991990          0.134404\n",
      "7                 8.0     0.898255    0.893658          0.992868          0.129332\n",
      "2                 3.0     0.898158    0.891133          0.990235          0.127642\n",
      "5                 6.0     0.897413    0.891133          0.992539          0.109890\n",
      "0                 1.0     0.898093    0.889482          0.991332          0.104818\n",
      "3                 4.0     0.896960    0.889094          0.992429          0.092984\n",
      "1                 2.0     0.896604    0.889871          0.994404          0.084531\n",
      "Runtime: 872 seconds\n"
     ]
    }
   ],
   "source": [
    "#Tuned KNN without weights\n",
    "neighbors=range(1,102)\n",
    "start_time = time.time()\n",
    "knn_1_results = pd.DataFrame(columns=[\"Number Neighbors\",\"Train Score\",\"Test Score\",\"Test Sensitivity\",\"Test Specificity\"])\n",
    "for neighbor in neighbors:\n",
    "    #print(\"Number of Neighbors %0.f\" %(neighbor))\n",
    "    train_score, test_score,test_accuracy,test_specificity=print_model_output(KNeighborsClassifier(n_neighbors=neighbor))\n",
    "    knn_1_results =  knn_1_results.append({\"Number Neighbors\":neighbor, \"Train Score\":train_score, \"Test Score\":test_score,\"Test Sensitivity\":test_accuracy,\"Test Specificity\":test_specificity}, ignore_index=True)\n",
    "knn_1_results = knn_1_results.sort_values(by=\"Test Specificity\", ascending=False)\n",
    "print(knn_1_results)\n",
    "print(\"Runtime: %0.f seconds\" % (time.time()- start_time))"
   ]
  },
  {
   "cell_type": "markdown",
   "metadata": {},
   "source": [
    "### Logistic Regression"
   ]
  },
  {
   "cell_type": "code",
   "execution_count": 159,
   "metadata": {
    "scrolled": true
   },
   "outputs": [
    {
     "name": "stdout",
     "output_type": "stream",
     "text": [
      "[[8972  142]\n",
      " [ 936  247]]\n",
      "Train Score 0.898255\n",
      "Test Score 0.895309\n",
      "Test Sensitivity 0.984420\n",
      "Test Specificity 0.208791\n",
      "Runtime: 0 seconds\n"
     ]
    }
   ],
   "source": [
    "#Logistic Regression\n",
    "start_time = time.time()\n",
    "print_model_output_single(LogisticRegression(C=1e09,penalty=\"l2\"))\n",
    "print(\"Runtime: %0.f seconds\" % (time.time()- start_time))"
   ]
  },
  {
   "cell_type": "code",
   "execution_count": 149,
   "metadata": {
    "scrolled": true
   },
   "outputs": [
    {
     "name": "stdout",
     "output_type": "stream",
     "text": [
      "Train Score 0.822149\n",
      "Test Score 0.821404\n",
      "Test Sensitivity 0.887755\n",
      "Test Specificity 0.310228\n",
      "Runtime: 0 seconds\n"
     ]
    }
   ],
   "source": [
    "#Logistic Regression With Weights\n",
    "start_time = time.time()\n",
    "print_model_output_single(LogisticRegression(C=1e09,penalty=\"l2\",class_weight=\"balanced\"))\n",
    "print(\"Runtime: %0.f seconds\" % (time.time()- start_time))"
   ]
  },
  {
   "cell_type": "code",
   "execution_count": 104,
   "metadata": {
    "scrolled": true
   },
   "outputs": [
    {
     "name": "stdout",
     "output_type": "stream",
     "text": [
      "Train Score 0.898255\n",
      "Test Score 0.895309\n",
      "Test Sensitivity 0.984420\n",
      "Test Specificity 0.208791\n",
      "Cross-Val-Score:\n",
      "[ 0.89745582  0.89841701  0.89889277]\n",
      "Runtime: 0 seconds\n"
     ]
    }
   ],
   "source": [
    "#Ridge Regression No Weights\n",
    "start_time = time.time()\n",
    "print_model_output_single(LogisticRegression(C=1,penalty=\"l2\"))\n",
    "print(\"Runtime: %0.f seconds\" % (time.time()- start_time))"
   ]
  },
  {
   "cell_type": "code",
   "execution_count": 105,
   "metadata": {
    "scrolled": true
   },
   "outputs": [
    {
     "name": "stdout",
     "output_type": "stream",
     "text": [
      "Train Score 0.822149\n",
      "Test Score 0.821404\n",
      "Test Sensitivity 0.887755\n",
      "Test Specificity 0.310228\n",
      "Cross-Val-Score:\n",
      "[ 0.86851816  0.82286103  0.8235237 ]\n",
      "Runtime: 0 seconds\n"
     ]
    }
   ],
   "source": [
    "#Ridge Regression with weights\n",
    "start_time = time.time()\n",
    "print_model_output_single(LogisticRegression(C=1,penalty=\"l2\",class_weight=\"balanced\"))\n",
    "print(\"Runtime: %0.f seconds\" % (time.time()- start_time))"
   ]
  },
  {
   "cell_type": "code",
   "execution_count": 151,
   "metadata": {
    "scrolled": true
   },
   "outputs": [
    {
     "name": "stdout",
     "output_type": "stream",
     "text": [
      "Train Score 0.898255\n",
      "Test Score 0.895309\n",
      "Test Sensitivity 0.984420\n",
      "Test Specificity 0.208791\n",
      "Runtime: 0 seconds\n"
     ]
    }
   ],
   "source": [
    "#Lasso Regression No Weights\n",
    "start_time = time.time()\n",
    "print_model_output_single(LogisticRegression(C=1,penalty=\"l1\"))\n",
    "print(\"Runtime: %0.f seconds\" % (time.time()- start_time))"
   ]
  },
  {
   "cell_type": "code",
   "execution_count": 150,
   "metadata": {
    "scrolled": true
   },
   "outputs": [
    {
     "name": "stdout",
     "output_type": "stream",
     "text": [
      "Train Score 0.822149\n",
      "Test Score 0.821404\n",
      "Test Sensitivity 0.887755\n",
      "Test Specificity 0.310228\n",
      "Runtime: 0 seconds\n"
     ]
    }
   ],
   "source": [
    "#Lasso Regression with Weights\n",
    "start_time = time.time()\n",
    "print_model_output_single(LogisticRegression(C=1,penalty=\"l1\",class_weight=\"balanced\"))\n",
    "print(\"Runtime: %0.f seconds\" % (time.time()- start_time))"
   ]
  },
  {
   "cell_type": "code",
   "execution_count": 73,
   "metadata": {
    "scrolled": true
   },
   "outputs": [
    {
     "name": "stdout",
     "output_type": "stream",
     "text": [
      "Train Score 0.105649\n",
      "Test Score 0.104255\n",
      "Runtime: 0 seconds\n"
     ]
    }
   ],
   "source": [
    "#Lasso Regression - Using Lasso Function\n",
    "start_time = time.time()\n",
    "print_model_output_single(lass)\n",
    "print(\"Runtime: %0.f seconds\" % (time.time()- start_time))"
   ]
  },
  {
   "cell_type": "code",
   "execution_count": 74,
   "metadata": {
    "scrolled": true
   },
   "outputs": [
    {
     "name": "stdout",
     "output_type": "stream",
     "text": [
      "Score: 0.105649\n",
      "Test Score: 0.104255\n",
      "[ -5.22494858e-04   0.00000000e+00   0.00000000e+00   0.00000000e+00\n",
      "   0.00000000e+00  -0.00000000e+00  -0.00000000e+00   6.14969717e-01]\n"
     ]
    }
   ],
   "source": [
    "#Manual lasso model with coefficients\n",
    "lass = linear_model.Lasso(alpha=1)\n",
    "lassfit = lass.fit(x_train,y_train)\n",
    "lass_score=lass.score(x_train,y_train)\n",
    "lass_test_score=lass.score(x_test,y_test)\n",
    "print(\"Score: %0.6f\" % (lass_score))\n",
    "print(\"Test Score: %0.6f\" % (lass_test_score))\n",
    "origparams = np.append(lassfit.coef_,lassfit.intercept_)\n",
    "print(origparams)"
   ]
  },
  {
   "cell_type": "markdown",
   "metadata": {},
   "source": [
    "### Random Forest"
   ]
  },
  {
   "cell_type": "code",
   "execution_count": 18,
   "metadata": {
    "scrolled": true
   },
   "outputs": [
    {
     "name": "stdout",
     "output_type": "stream",
     "text": [
      "    index  Estimators  Train Score  Test Score  Test Sensitivity  Test Specificity\n",
      "0       6      1000.0     0.901266    0.895309          0.988370          0.178360\n",
      "1       9      4000.0     0.901266    0.894921          0.987931          0.178360\n",
      "2       7      2000.0     0.901266    0.895212          0.988370          0.177515\n",
      "3       1        10.0     0.900974    0.895115          0.988370          0.176669\n",
      "4      11     10000.0     0.901266    0.894921          0.988150          0.176669\n",
      "5       2        50.0     0.901266    0.895115          0.988479          0.175824\n",
      "6       3       100.0     0.901266    0.895115          0.988479          0.175824\n",
      "7       8      3000.0     0.901266    0.895115          0.988479          0.175824\n",
      "8      10      5000.0     0.901266    0.895018          0.988370          0.175824\n",
      "9       4       250.0     0.901266    0.894727          0.988260          0.174134\n",
      "10      5       500.0     0.901266    0.894824          0.988370          0.174134\n",
      "11      0         5.0     0.900651    0.894532          0.988589          0.169907\n",
      "Runtime: 225 seconds\n"
     ]
    }
   ],
   "source": [
    "#Random Forest\n",
    "estimators= (5,10,50,100,250,500,1000,2000,3000,4000,5000,10000)\n",
    "start_time = time.time()\n",
    "rf_results = pd.DataFrame(columns=[\"Estimators\",\"Train Score\",\"Test Score\",\"Test Sensitivity\",\"Test Specificity\"])\n",
    "for estimator in estimators:\n",
    "    #print(\"Estimator: %0.f\" %(estimator))\n",
    "    train_score, test_score,test_accuracy,test_specificity=print_model_output(ensemble.RandomForestClassifier(n_estimators=estimator,max_features=\"auto\"))\n",
    "    rf_results =  rf_results.append({\"Estimators\":estimator, \"Train Score\":train_score, \"Test Score\":test_score,\"Test Sensitivity\":test_accuracy,\"Test Specificity\":test_specificity}, ignore_index=True)\n",
    "rf_results = rf_results.sort_values(by=\"Test Specificity\", ascending=False).reset_index()\n",
    "print(rf_results)\n",
    "print(\"Runtime: %0.f seconds\" % (time.time()- start_time))"
   ]
  },
  {
   "cell_type": "markdown",
   "metadata": {},
   "source": [
    "### KNN"
   ]
  },
  {
   "cell_type": "code",
   "execution_count": null,
   "metadata": {
    "collapsed": true
   },
   "outputs": [],
   "source": [
    "#Tuned KNN without weights\n",
    "neighbors=range(1,5)\n",
    "start_time = time.time()\n",
    "results = pd.DataFrame(columns=[\"Number Neighbors\",\"Train Score\",\"Test Score\",\"Test Sensitivity\",\"Test Specificty\"])\n",
    "for neighbor in neighbors:\n",
    "    #print(\"Number of Neighbors %0.f\" %(neighbor))\n",
    "    train_score, test_score,test_accuracy,test_specificity=print_model_output(KNeighborsClassifier(n_neighbors=neighbor))\n",
    "    knn_1_results =  knn_1_results.append({\"Number Neighbors\":neighbor, \"Train Score\":train_score, \"Test Score\":test_score,\"Test Sensitivity\":test_accuracy,\"Test Specificty\":test_specificity}, ignore_index=True)\n",
    "knn_1_results = knn_1_results.sort_values(by=\"Test Specificity\", ascending=False)\n",
    "print(knn_1_results)\n",
    "print(\"Runtime: %0.f seconds\" % (time.time()- start_time))"
   ]
  },
  {
   "cell_type": "code",
   "execution_count": 106,
   "metadata": {},
   "outputs": [
    {
     "name": "stdout",
     "output_type": "stream",
     "text": [
      "    level_0  index  Estimators  Train Score  Test Score  Test Sensitivity  Test Specificity\n",
      "0         0      6      1000.0     0.901266    0.895309          0.988370          0.178360\n",
      "1         2      7      2000.0     0.901266    0.895212          0.988370          0.177515\n",
      "2         3      1        10.0     0.900974    0.895115          0.988370          0.176669\n",
      "3         5      2        50.0     0.901266    0.895115          0.988479          0.175824\n",
      "4         6      3       100.0     0.901266    0.895115          0.988479          0.175824\n",
      "5         7      8      3000.0     0.901266    0.895115          0.988479          0.175824\n",
      "6         8     10      5000.0     0.901266    0.895018          0.988370          0.175824\n",
      "7         1      9      4000.0     0.901266    0.894921          0.987931          0.178360\n",
      "8         4     11     10000.0     0.901266    0.894921          0.988150          0.176669\n",
      "9        10      5       500.0     0.901266    0.894824          0.988370          0.174134\n",
      "10        9      4       250.0     0.901266    0.894727          0.988260          0.174134\n",
      "11       11      0         5.0     0.900651    0.894532          0.988589          0.169907\n"
     ]
    }
   ],
   "source": [
    "rf_results_2 = rf_results.sort_values(by=\"Test Score\", ascending=False).reset_index()\n",
    "print(rf_results_2)"
   ]
  },
  {
   "cell_type": "markdown",
   "metadata": {},
   "source": [
    "### Gradient Boost Model"
   ]
  },
  {
   "cell_type": "code",
   "execution_count": 19,
   "metadata": {
    "collapsed": true
   },
   "outputs": [],
   "source": [
    "def boosted_model(loss,estimators,depth):\n",
    "    model = ensemble.GradientBoostingClassifier(loss=loss,n_estimators=estimators,max_depth=depth)\n",
    "    return model"
   ]
  },
  {
   "cell_type": "code",
   "execution_count": 33,
   "metadata": {
    "scrolled": false
   },
   "outputs": [
    {
     "name": "stdout",
     "output_type": "stream",
     "text": [
      "     index         Loss Depth Estimators  Train Score  Test Score  Test Sensitivity  Test Specificity\n",
      "0       67     deviance     4        100     0.900197    0.895406          0.987053          0.189349\n",
      "1       61     deviance     4         50     0.899809    0.895018          0.986724          0.188504\n",
      "2      193  exponential     4        100     0.900003    0.894824          0.986614          0.187658\n",
      "3       60     deviance     3         50     0.899518    0.895115          0.987163          0.185968\n",
      "4      187  exponential     4         50     0.899615    0.894921          0.986943          0.185968\n",
      "5      192  exponential     3        100     0.899550    0.895115          0.987163          0.185968\n",
      "6      188  exponential     5         50     0.900165    0.894727          0.986833          0.185123\n",
      "7      189  exponential     6         50     0.900521    0.895018          0.987163          0.185123\n",
      "8      198  exponential     3        200     0.899841    0.895309          0.987492          0.185123\n",
      "9      186  exponential     3         50     0.899356    0.894727          0.986943          0.184277\n",
      "10      72     deviance     3        200     0.899841    0.895309          0.987601          0.184277\n",
      "11      66     deviance     3        100     0.899518    0.895018          0.987272          0.184277\n",
      "12      63     deviance     6         50     0.900683    0.895309          0.987601          0.184277\n",
      "13     204  exponential     3        300     0.899874    0.894921          0.987272          0.183432\n",
      "14      79     deviance     4        300     0.901007    0.895601          0.988040          0.183432\n",
      "15     199  exponential     4        200     0.900748    0.895406          0.987821          0.183432\n",
      "16     190  exponential     7         50     0.900683    0.895018          0.987382          0.183432\n",
      "17      62     deviance     5         50     0.900295    0.895018          0.987382          0.183432\n",
      "18      78     deviance     3        300     0.900100    0.895115          0.987601          0.182587\n",
      "19      73     deviance     4        200     0.900715    0.895309          0.987821          0.182587\n",
      "20     229  exponential     4        700     0.901136    0.895504          0.988150          0.181741\n",
      "21     223  exponential     4        600     0.901007    0.895795          0.988479          0.181741\n",
      "22      68     deviance     5        100     0.900813    0.895309          0.987931          0.181741\n",
      "23     210  exponential     3        400     0.900165    0.895115          0.987711          0.181741\n",
      "24     217  exponential     4        500     0.901007    0.895504          0.988260          0.180896\n",
      "25     120     deviance     3       1000     0.900618    0.895406          0.988150          0.180896\n",
      "26     235  exponential     4        800     0.901169    0.895406          0.988150          0.180896\n",
      "27     234  exponential     3        800     0.900489    0.895115          0.987821          0.180896\n",
      "28     102     deviance     3        700     0.900554    0.895504          0.988260          0.180896\n",
      "29      64     deviance     7         50     0.901039    0.895115          0.987821          0.180896\n",
      "30      85     deviance     4        400     0.901039    0.895406          0.988150          0.180896\n",
      "31     222  exponential     3        600     0.900327    0.895212          0.988040          0.180051\n",
      "32      74     deviance     5        200     0.901072    0.895601          0.988479          0.180051\n",
      "33     108     deviance     3        800     0.900554    0.895504          0.988370          0.180051\n",
      "34      96     deviance     3        600     0.900489    0.895406          0.988260          0.180051\n",
      "35     247  exponential     4       1000     0.901233    0.895309          0.988150          0.180051\n",
      "36     114     deviance     3        900     0.900586    0.895406          0.988260          0.180051\n",
      "37     228  exponential     3        700     0.900521    0.895018          0.987821          0.180051\n",
      "38     194  exponential     5        100     0.900586    0.895212          0.988040          0.180051\n",
      "39      91     deviance     4        500     0.901072    0.895504          0.988370          0.180051\n",
      "40     246  exponential     3       1000     0.900521    0.895212          0.988150          0.179205\n",
      "41      69     deviance     6        100     0.901169    0.895309          0.988260          0.179205\n",
      "42     216  exponential     3        500     0.900327    0.894921          0.987821          0.179205\n",
      "43     205  exponential     4        300     0.900974    0.895309          0.988260          0.179205\n",
      "44     211  exponential     4        400     0.901007    0.895504          0.988479          0.179205\n",
      "45     240  exponential     3        900     0.900456    0.895018          0.987931          0.179205\n",
      "46     241  exponential     4        900     0.901201    0.895309          0.988260          0.179205\n",
      "47      75     deviance     6        200     0.901266    0.895212          0.988260          0.178360\n",
      "48     224  exponential     5        600     0.901266    0.895115          0.988150          0.178360\n",
      "49     115     deviance     4        900     0.901169    0.895212          0.988260          0.178360\n",
      "50      84     deviance     3        400     0.900165    0.895018          0.988040          0.178360\n",
      "51      90     deviance     3        500     0.900262    0.895018          0.988040          0.178360\n",
      "52     218  exponential     5        500     0.901266    0.895212          0.988260          0.178360\n",
      "53     121     deviance     4       1000     0.901201    0.895212          0.988260          0.178360\n",
      "54      97     deviance     4        600     0.901104    0.895212          0.988260          0.178360\n",
      "55     122     deviance     5       1000     0.901266    0.895115          0.988150          0.178360\n",
      "56     103     deviance     4        700     0.901104    0.895115          0.988260          0.177515\n",
      "57     200  exponential     5        200     0.901072    0.895115          0.988260          0.177515\n",
      "58     109     deviance     4        800     0.901104    0.895115          0.988260          0.177515\n",
      "59      92     deviance     5        500     0.901266    0.895212          0.988370          0.177515\n",
      "60     212  exponential     5        400     0.901266    0.895115          0.988260          0.177515\n",
      "61      80     deviance     5        300     0.901266    0.895504          0.988699          0.177515\n",
      "62     206  exponential     5        300     0.901233    0.895406          0.988589          0.177515\n",
      "63     196  exponential     7        100     0.901266    0.895406          0.988589          0.177515\n",
      "64      98     deviance     5        600     0.901266    0.894824          0.988040          0.176669\n",
      "65      77     deviance     8        200     0.901266    0.894727          0.987931          0.176669\n",
      "66     195  exponential     6        100     0.901104    0.895212          0.988479          0.176669\n",
      "67      82     deviance     7        300     0.901266    0.895115          0.988370          0.176669\n",
      "68     104     deviance     5        700     0.901266    0.894824          0.988040          0.176669\n",
      "69     110     deviance     5        800     0.901266    0.894824          0.988040          0.176669\n",
      "70      86     deviance     5        400     0.901266    0.895212          0.988589          0.175824\n",
      "71     251  exponential     8       1000     0.901266    0.894921          0.988260          0.175824\n",
      "72     230  exponential     5        700     0.901266    0.894824          0.988150          0.175824\n",
      "73      71     deviance     8        100     0.901266    0.895115          0.988589          0.174979\n",
      "74     201  exponential     6        200     0.901266    0.894824          0.988260          0.174979\n",
      "75     249  exponential     6       1000     0.901266    0.894630          0.988040          0.174979\n",
      "76     248  exponential     5       1000     0.901266    0.894824          0.988260          0.174979\n",
      "77     242  exponential     5        900     0.901266    0.894824          0.988260          0.174979\n",
      "78     236  exponential     5        800     0.901266    0.894824          0.988260          0.174979\n",
      "79     233  exponential     8        700     0.901266    0.894630          0.988040          0.174979\n",
      "80     232  exponential     7        700     0.901266    0.895115          0.988589          0.174979\n",
      "81     116     deviance     5        900     0.901266    0.894727          0.988150          0.174979\n",
      "82      93     deviance     6        500     0.901266    0.894630          0.988040          0.174979\n",
      "83     191  exponential     8         50     0.901104    0.894824          0.988260          0.174979\n",
      "84      70     deviance     7        100     0.901266    0.895018          0.988479          0.174979\n",
      "85     225  exponential     6        600     0.901266    0.894532          0.987931          0.174979\n",
      "86     123     deviance     6       1000     0.901266    0.894727          0.988150          0.174979\n",
      "87     213  exponential     6        400     0.901266    0.894824          0.988260          0.174979\n",
      "88      83     deviance     8        300     0.901266    0.894532          0.987931          0.174979\n",
      "89     203  exponential     8        200     0.901266    0.894532          0.987931          0.174979\n",
      "90     219  exponential     6        500     0.901266    0.894435          0.987931          0.174134\n",
      "91     101     deviance     8        600     0.901266    0.894532          0.988040          0.174134\n",
      "92     237  exponential     6        800     0.901266    0.894630          0.988150          0.174134\n",
      "93     119     deviance     8        900     0.901266    0.894435          0.987931          0.174134\n",
      "94     231  exponential     6        700     0.901266    0.894532          0.988040          0.174134\n",
      "95     207  exponential     6        300     0.901266    0.894727          0.988260          0.174134\n",
      "96      94     deviance     7        500     0.901266    0.894435          0.987931          0.174134\n",
      "97      81     deviance     6        300     0.901266    0.894727          0.988260          0.174134\n",
      "98     202  exponential     7        200     0.901266    0.894824          0.988370          0.174134\n",
      "99     117     deviance     6        900     0.901266    0.894824          0.988370          0.174134\n",
      "100     65     deviance     8         50     0.901201    0.894921          0.988479          0.174134\n",
      "101    243  exponential     6        900     0.901266    0.894338          0.987821          0.174134\n",
      "102    111     deviance     6        800     0.901266    0.894727          0.988370          0.173288\n",
      "103    113     deviance     8        800     0.901266    0.894532          0.988150          0.173288\n",
      "104    197  exponential     8        100     0.901266    0.894921          0.988589          0.173288\n",
      "105    125     deviance     8       1000     0.901266    0.894532          0.988150          0.173288\n",
      "106    215  exponential     8        400     0.901266    0.894630          0.988260          0.173288\n",
      "107    118     deviance     7        900     0.901266    0.894532          0.988150          0.173288\n",
      "108    208  exponential     7        300     0.901266    0.894727          0.988370          0.173288\n",
      "109     87     deviance     6        400     0.901266    0.894532          0.988150          0.173288\n",
      "110     76     deviance     7        200     0.901266    0.894727          0.988370          0.173288\n",
      "111    105     deviance     6        700     0.901266    0.894532          0.988150          0.173288\n",
      "112    245  exponential     8        900     0.901266    0.894532          0.988150          0.173288\n",
      "113     99     deviance     6        600     0.901266    0.894727          0.988370          0.173288\n",
      "114     88     deviance     7        400     0.901266    0.894532          0.988150          0.173288\n",
      "115    227  exponential     8        600     0.901266    0.894435          0.988040          0.173288\n",
      "116    107     deviance     8        700     0.901266    0.894532          0.988260          0.172443\n",
      "117    226  exponential     7        600     0.901266    0.894532          0.988260          0.172443\n",
      "118    124     deviance     7       1000     0.901266    0.894338          0.988040          0.172443\n",
      "119    239  exponential     8        800     0.901266    0.894435          0.988150          0.172443\n",
      "120    106     deviance     7        700     0.901266    0.894435          0.988150          0.172443\n",
      "121     89     deviance     8        400     0.901266    0.894338          0.988040          0.172443\n",
      "122     95     deviance     8        500     0.901266    0.894338          0.988040          0.172443\n",
      "123    100     deviance     7        600     0.901266    0.894241          0.987931          0.172443\n",
      "124    244  exponential     7        900     0.901266    0.894630          0.988370          0.172443\n",
      "125    221  exponential     8        500     0.901266    0.894630          0.988370          0.172443\n",
      "126    238  exponential     7        800     0.901266    0.894435          0.988260          0.171598\n",
      "127    214  exponential     7        400     0.901266    0.894338          0.988150          0.171598\n",
      "128    209  exponential     8        300     0.901266    0.894435          0.988260          0.171598\n",
      "129    220  exponential     7        500     0.901266    0.894435          0.988370          0.170752\n",
      "130    250  exponential     7       1000     0.901266    0.894630          0.988589          0.170752\n",
      "131    112     deviance     7        800     0.901266    0.894144          0.988040          0.170752\n",
      "132     58     deviance     7         10     0.897996    0.892493          0.994624          0.105664\n",
      "133     59     deviance     8         10     0.897964    0.892493          0.994733          0.104818\n",
      "134     57     deviance     6         10     0.895698    0.890939          0.996708          0.076078\n",
      "135     55     deviance     4         10     0.894435    0.890162          0.996160          0.073542\n",
      "136     53     deviance     8          9     0.895568    0.890065          0.996160          0.072697\n",
      "137     56     deviance     5         10     0.894727    0.889385          0.995611          0.071006\n",
      "138     50     deviance     5          9     0.893594    0.888997          0.996708          0.059172\n",
      "139     51     deviance     6          9     0.893691    0.889191          0.997147          0.057481\n",
      "140     52     deviance     7          9     0.894241    0.887929          0.997257          0.045647\n",
      "141     54     deviance     3         10     0.892072    0.887734          0.997257          0.043956\n",
      "142     47     deviance     8          8     0.893238    0.887346          0.997696          0.037194\n",
      "143     46     deviance     7          8     0.892072    0.886375          0.997806          0.027895\n",
      "144     49     deviance     4          9     0.890939    0.886472          0.998574          0.022823\n",
      "145     41     deviance     8          7     0.891133    0.886083          0.998903          0.016906\n",
      "146     40     deviance     7          7     0.890486    0.885598          0.998793          0.013525\n",
      "147     34     deviance     7          6     0.889903    0.885598          0.999232          0.010144\n",
      "148     48     deviance     3          9     0.888932    0.885404          0.999122          0.009298\n",
      "149     35     deviance     8          6     0.890033    0.885306          0.999342          0.006762\n",
      "150     29     deviance     8          5     0.889709    0.885404          0.999561          0.005917\n",
      "151     28     deviance     7          5     0.888997    0.885209          0.999671          0.003381\n",
      "152     43     deviance     4          8     0.888900    0.885015          0.999451          0.003381\n",
      "153     37     deviance     4          7     0.888446    0.885209          0.999671          0.003381\n",
      "154     45     deviance     6          8     0.889321    0.885112          0.999561          0.003381\n",
      "155     27     deviance     6          5     0.888964    0.885015          0.999671          0.001691\n",
      "156     38     deviance     5          7     0.888997    0.884918          0.999561          0.001691\n",
      "157     39     deviance     6          7     0.888997    0.885015          0.999671          0.001691\n",
      "158     44     deviance     5          8     0.889191    0.884821          0.999451          0.001691\n",
      "159     33     deviance     6          6     0.888964    0.885015          0.999671          0.001691\n",
      "160     32     deviance     5          6     0.888414    0.885015          0.999781          0.000845\n",
      "161     26     deviance     5          5     0.888285    0.885112          0.999890          0.000845\n",
      "162    180  exponential     3         10     0.888090    0.885112          1.000000          0.000000\n",
      "163    176  exponential     5          9     0.888090    0.885112          1.000000          0.000000\n",
      "164    177  exponential     6          9     0.888090    0.885112          1.000000          0.000000\n",
      "165    178  exponential     7          9     0.888090    0.885112          1.000000          0.000000\n",
      "166    179  exponential     8          9     0.888090    0.885112          1.000000          0.000000\n",
      "167    185  exponential     8         10     0.888090    0.885112          1.000000          0.000000\n",
      "168    181  exponential     4         10     0.888090    0.885112          1.000000          0.000000\n",
      "169    182  exponential     5         10     0.888090    0.885112          1.000000          0.000000\n",
      "170    183  exponential     6         10     0.888090    0.885112          1.000000          0.000000\n",
      "171    184  exponential     7         10     0.888090    0.885112          1.000000          0.000000\n",
      "172    174  exponential     3          9     0.888090    0.885112          1.000000          0.000000\n",
      "173    175  exponential     4          9     0.888090    0.885112          1.000000          0.000000\n",
      "174      0     deviance     3          1     0.888090    0.885112          1.000000          0.000000\n",
      "175    173  exponential     8          8     0.888090    0.885112          1.000000          0.000000\n",
      "176     36     deviance     3          7     0.888090    0.885112          1.000000          0.000000\n",
      "177     21     deviance     6          4     0.888090    0.885112          1.000000          0.000000\n",
      "178     22     deviance     7          4     0.888090    0.885112          1.000000          0.000000\n",
      "179     23     deviance     8          4     0.888090    0.885112          1.000000          0.000000\n",
      "180     24     deviance     3          5     0.888090    0.885112          1.000000          0.000000\n",
      "181     25     deviance     4          5     0.888090    0.885112          1.000000          0.000000\n",
      "182     30     deviance     3          6     0.888090    0.885112          1.000000          0.000000\n",
      "183     31     deviance     4          6     0.888090    0.885112          1.000000          0.000000\n",
      "184     42     deviance     3          8     0.888090    0.885112          1.000000          0.000000\n",
      "185    134  exponential     5          2     0.888090    0.885112          1.000000          0.000000\n",
      "186      1     deviance     4          1     0.888090    0.885112          1.000000          0.000000\n",
      "187    127  exponential     4          1     0.888090    0.885112          1.000000          0.000000\n",
      "188    128  exponential     5          1     0.888090    0.885112          1.000000          0.000000\n",
      "189    129  exponential     6          1     0.888090    0.885112          1.000000          0.000000\n",
      "190    130  exponential     7          1     0.888090    0.885112          1.000000          0.000000\n",
      "191    131  exponential     8          1     0.888090    0.885112          1.000000          0.000000\n",
      "192    132  exponential     3          2     0.888090    0.885112          1.000000          0.000000\n",
      "193     20     deviance     5          4     0.888090    0.885112          1.000000          0.000000\n",
      "194     19     deviance     4          4     0.888090    0.885112          1.000000          0.000000\n",
      "195     18     deviance     3          4     0.888090    0.885112          1.000000          0.000000\n",
      "196     17     deviance     8          3     0.888090    0.885112          1.000000          0.000000\n",
      "197      2     deviance     5          1     0.888090    0.885112          1.000000          0.000000\n",
      "198      3     deviance     6          1     0.888090    0.885112          1.000000          0.000000\n",
      "199      4     deviance     7          1     0.888090    0.885112          1.000000          0.000000\n",
      "200      5     deviance     8          1     0.888090    0.885112          1.000000          0.000000\n",
      "201      6     deviance     3          2     0.888090    0.885112          1.000000          0.000000\n",
      "202      7     deviance     4          2     0.888090    0.885112          1.000000          0.000000\n",
      "203      8     deviance     5          2     0.888090    0.885112          1.000000          0.000000\n",
      "204      9     deviance     6          2     0.888090    0.885112          1.000000          0.000000\n",
      "205     10     deviance     7          2     0.888090    0.885112          1.000000          0.000000\n",
      "206     11     deviance     8          2     0.888090    0.885112          1.000000          0.000000\n",
      "207     12     deviance     3          3     0.888090    0.885112          1.000000          0.000000\n",
      "208     13     deviance     4          3     0.888090    0.885112          1.000000          0.000000\n",
      "209     14     deviance     5          3     0.888090    0.885112          1.000000          0.000000\n",
      "210     15     deviance     6          3     0.888090    0.885112          1.000000          0.000000\n",
      "211     16     deviance     7          3     0.888090    0.885112          1.000000          0.000000\n",
      "212    133  exponential     4          2     0.888090    0.885112          1.000000          0.000000\n",
      "213    135  exponential     6          2     0.888090    0.885112          1.000000          0.000000\n",
      "214    172  exponential     7          8     0.888090    0.885112          1.000000          0.000000\n",
      "215    163  exponential     4          7     0.888090    0.885112          1.000000          0.000000\n",
      "216    156  exponential     3          6     0.888090    0.885112          1.000000          0.000000\n",
      "217    157  exponential     4          6     0.888090    0.885112          1.000000          0.000000\n",
      "218    158  exponential     5          6     0.888090    0.885112          1.000000          0.000000\n",
      "219    159  exponential     6          6     0.888090    0.885112          1.000000          0.000000\n",
      "220    160  exponential     7          6     0.888090    0.885112          1.000000          0.000000\n",
      "221    161  exponential     8          6     0.888090    0.885112          1.000000          0.000000\n",
      "222    162  exponential     3          7     0.888090    0.885112          1.000000          0.000000\n",
      "223    164  exponential     5          7     0.888090    0.885112          1.000000          0.000000\n",
      "224    136  exponential     7          2     0.888090    0.885112          1.000000          0.000000\n",
      "225    165  exponential     6          7     0.888090    0.885112          1.000000          0.000000\n",
      "226    166  exponential     7          7     0.888090    0.885112          1.000000          0.000000\n",
      "227    167  exponential     8          7     0.888090    0.885112          1.000000          0.000000\n",
      "228    168  exponential     3          8     0.888090    0.885112          1.000000          0.000000\n",
      "229    169  exponential     4          8     0.888090    0.885112          1.000000          0.000000\n",
      "230    170  exponential     5          8     0.888090    0.885112          1.000000          0.000000\n",
      "231    171  exponential     6          8     0.888090    0.885112          1.000000          0.000000\n",
      "232    155  exponential     8          5     0.888090    0.885112          1.000000          0.000000\n",
      "233    154  exponential     7          5     0.888090    0.885112          1.000000          0.000000\n",
      "234    153  exponential     6          5     0.888090    0.885112          1.000000          0.000000\n",
      "235    152  exponential     5          5     0.888090    0.885112          1.000000          0.000000\n",
      "236    137  exponential     8          2     0.888090    0.885112          1.000000          0.000000\n",
      "237    138  exponential     3          3     0.888090    0.885112          1.000000          0.000000\n",
      "238    139  exponential     4          3     0.888090    0.885112          1.000000          0.000000\n",
      "239    140  exponential     5          3     0.888090    0.885112          1.000000          0.000000\n",
      "240    141  exponential     6          3     0.888090    0.885112          1.000000          0.000000\n",
      "241    142  exponential     7          3     0.888090    0.885112          1.000000          0.000000\n",
      "242    143  exponential     8          3     0.888090    0.885112          1.000000          0.000000\n",
      "243    144  exponential     3          4     0.888090    0.885112          1.000000          0.000000\n",
      "244    145  exponential     4          4     0.888090    0.885112          1.000000          0.000000\n",
      "245    146  exponential     5          4     0.888090    0.885112          1.000000          0.000000\n",
      "246    147  exponential     6          4     0.888090    0.885112          1.000000          0.000000\n",
      "247    148  exponential     7          4     0.888090    0.885112          1.000000          0.000000\n",
      "248    149  exponential     8          4     0.888090    0.885112          1.000000          0.000000\n",
      "249    150  exponential     3          5     0.888090    0.885112          1.000000          0.000000\n",
      "250    151  exponential     4          5     0.888090    0.885112          1.000000          0.000000\n",
      "251    126  exponential     3          1     0.888090    0.885112          1.000000          0.000000\n",
      "Runtime: 891 seconds\n"
     ]
    }
   ],
   "source": [
    "#Boosted Model\n",
    "loss_types=(\"deviance\",\"exponential\")\n",
    "max_depth_list = (3,4,5,6,7,8)\n",
    "estimators_list= (1,2,3,4,5,6,7,8,9,10,50,100,200,300,400,500,600,700,800,900,1000)\n",
    "start_time = time.time()\n",
    "boost_results = pd.DataFrame(columns=[\"Loss\",\"Depth\",\"Estimators\",\"Train Score\",\"Test Score\",\"Test Sensitivity\",\"Test Specificity\"])\n",
    "for (boost_loss,boost_estimators,boost_depth) in itertools.product(loss_types,estimators_list,max_depth_list):\n",
    "    train_score, test_score,test_accuracy,test_specificity=print_model_output(boosted_model(boost_loss,boost_estimators,boost_depth))\n",
    "    boost_results =  boost_results.append({\"Loss\":boost_loss,\"Depth\":boost_depth,\"Estimators\":boost_estimators, \"Train Score\":train_score, \"Test Score\":test_score,\"Test Sensitivity\":test_accuracy,\"Test Specificity\":test_specificity}, ignore_index=True)\n",
    "boost_results = boost_results.sort_values(by=\"Test Specificity\", ascending=False).reset_index()\n",
    "print(boost_results)\n",
    "print(\"Runtime: %0.f seconds\" % (time.time()- start_time))"
   ]
  },
  {
   "cell_type": "code",
   "execution_count": 102,
   "metadata": {
    "scrolled": true
   },
   "outputs": [
    {
     "name": "stdout",
     "output_type": "stream",
     "text": [
      "   index         Loss Depth Estimators  Train Score  Test Score  Test Sensitivity  Test Specificity\n",
      "0     67     deviance     4        100     0.900197    0.895406          0.987053          0.189349\n",
      "1     61     deviance     4         50     0.899809    0.895018          0.986724          0.188504\n",
      "2    193  exponential     4        100     0.900003    0.894824          0.986614          0.187658\n",
      "3     60     deviance     3         50     0.899518    0.895115          0.987163          0.185968\n",
      "4    187  exponential     4         50     0.899615    0.894921          0.986943          0.185968\n"
     ]
    }
   ],
   "source": [
    "boost_results_2 = boost_results.sort_values(by=\"Test Score\", ascending=False).reset_index()\n",
    "print(boost_results.head(5))"
   ]
  },
  {
   "cell_type": "markdown",
   "metadata": {},
   "source": [
    "### Support Vector"
   ]
  },
  {
   "cell_type": "code",
   "execution_count": 34,
   "metadata": {
    "collapsed": true
   },
   "outputs": [],
   "source": [
    "#SVC\n",
    "def SVC_model(k):\n",
    "    svc= SVC(kernel=k)\n",
    "    model = svc\n",
    "    return model"
   ]
  },
  {
   "cell_type": "code",
   "execution_count": 45,
   "metadata": {
    "scrolled": true
   },
   "outputs": [
    {
     "name": "stdout",
     "output_type": "stream",
     "text": [
      "Train Score 0.898255\n",
      "Test Score 0.895309\n",
      "Test Sensitivity 0.984420\n",
      "Test Specificity 0.208791\n",
      "Runtime: 111 seconds\n"
     ]
    }
   ],
   "source": [
    "start_time = time.time()\n",
    "print_model_output_single(SVC(kernel=\"linear\"))\n",
    "print(\"Runtime: %0.f seconds\" % (time.time()- start_time))"
   ]
  },
  {
   "cell_type": "markdown",
   "metadata": {},
   "source": [
    "### Logistic with PCA"
   ]
  },
  {
   "cell_type": "code",
   "execution_count": 161,
   "metadata": {},
   "outputs": [
    {
     "name": "stdout",
     "output_type": "stream",
     "text": [
      "The percentage of total variance in the dataset explained by each component from Sklearn PCA.\n",
      " [ 0.99997868]\n"
     ]
    }
   ],
   "source": [
    "sklearn_pca = PCA(n_components=1)\n",
    "x_train_pca = sklearn_pca.fit_transform(x_train)\n",
    "print('The percentage of total variance in the dataset explained by each','component from Sklearn PCA.\\n',sklearn_pca.explained_variance_ratio_\n",
    ")"
   ]
  },
  {
   "cell_type": "code",
   "execution_count": 85,
   "metadata": {
    "scrolled": true
   },
   "outputs": [
    {
     "name": "stdout",
     "output_type": "stream",
     "text": [
      "[[ -36.1962259 ]\n",
      " [ -36.19467782]\n",
      " [ 952.80403133]\n",
      " ..., \n",
      " [ -36.19632204]\n",
      " [ -36.19477853]\n",
      " [ -36.19633244]]\n"
     ]
    }
   ],
   "source": [
    "print(x_train_pca)"
   ]
  },
  {
   "cell_type": "code",
   "execution_count": 155,
   "metadata": {},
   "outputs": [
    {
     "name": "stdout",
     "output_type": "stream",
     "text": [
      "Test Score 0.895309\n",
      "Test Sensitivity 0.984420\n",
      "Test Specificity 0.208791\n"
     ]
    }
   ],
   "source": [
    "#Logistic with PCA feature\n",
    "log_model=LogisticRegression(C=1,penalty=\"l2\",class_weight=\"balanced\")\n",
    "log_model.fit(x_train_pca,y_train)\n",
    "x_test_pca = sklearn_pca.transform(x_test)\n",
    "\n",
    "log_predict_test=log_model.predict(x_test_pca)\n",
    "#train_score=model.score(x_train,y_train)\n",
    "log_test_score=log_model.score(x_test_pca,y_test)\n",
    "log_matrix = confusion_matrix(y_test,log_predict_test)\n",
    "log_test_accuracy=log_matrix[0][0]/(log_matrix[0][0]+log_matrix[0][1])\n",
    "log_test_specificity = log_matrix[1][1]/(log_matrix[1][0]+log_matrix[1][1])\n",
    "#print(\"Train Score %0.6f\" % (train_score))\n",
    "print(\"Test Score %0.6f\" % (log_test_score)) \n",
    "print(\"Test Sensitivity %0.6f\" % (log_test_accuracy))\n",
    "print(\"Test Specificity %0.6f\" % (log_test_specificity))"
   ]
  },
  {
   "cell_type": "code",
   "execution_count": 154,
   "metadata": {},
   "outputs": [
    {
     "name": "stdout",
     "output_type": "stream",
     "text": [
      "Test Score 0.821404\n",
      "Test Sensitivity 0.887755\n",
      "Test Specificity 0.310228\n"
     ]
    }
   ],
   "source": [
    "# Logistic with normal features for comparison\n",
    "log_model=LogisticRegression(C=1,penalty=\"l2\",class_weight=\"balanced\")\n",
    "log_model.fit(x_train,y_train)\n",
    "#x_test_pca = sklearn_pca.transform(x_test)\n",
    "\n",
    "log_predict_test=log_model.predict(x_test)\n",
    "#train_score=model.score(x_train,y_train)\n",
    "log_test_score=log_model.score(x_test,y_test)\n",
    "log_matrix = confusion_matrix(y_test,log_predict_test)\n",
    "log_test_accuracy=log_matrix[0][0]/(log_matrix[0][0]+log_matrix[0][1])\n",
    "log_test_specificity = log_matrix[1][1]/(log_matrix[1][0]+log_matrix[1][1])\n",
    "#print(\"Train Score %0.6f\" % (train_score))\n",
    "print(\"Test Score %0.6f\" % (log_test_score)) \n",
    "print(\"Test Sensitivity %0.6f\" % (log_test_accuracy))\n",
    "print(\"Test Specificity %0.6f\" % (log_test_specificity))"
   ]
  }
 ],
 "metadata": {
  "kernelspec": {
   "display_name": "Python 3",
   "language": "python",
   "name": "python3"
  },
  "language_info": {
   "codemirror_mode": {
    "name": "ipython",
    "version": 3
   },
   "file_extension": ".py",
   "mimetype": "text/x-python",
   "name": "python",
   "nbconvert_exporter": "python",
   "pygments_lexer": "ipython3",
   "version": "3.6.3"
  }
 },
 "nbformat": 4,
 "nbformat_minor": 2
}
