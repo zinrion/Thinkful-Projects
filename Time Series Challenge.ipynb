{
 "cells": [
  {
   "cell_type": "code",
   "execution_count": 73,
   "metadata": {},
   "outputs": [],
   "source": [
    "import pandas as pd\n",
    "import numpy as np\n",
    "import matplotlib.pyplot as plt\n",
    "from statsmodels.tsa.stattools import pacf\n",
    "from statsmodels.tsa.arima_model import ARIMA"
   ]
  },
  {
   "cell_type": "code",
   "execution_count": 37,
   "metadata": {
    "collapsed": true
   },
   "outputs": [],
   "source": [
    "data = pd.read_csv('DJIA.csv')\n"
   ]
  },
  {
   "cell_type": "code",
   "execution_count": 38,
   "metadata": {},
   "outputs": [
    {
     "data": {
      "text/plain": [
       "(2474, 2)"
      ]
     },
     "execution_count": 38,
     "metadata": {},
     "output_type": "execute_result"
    }
   ],
   "source": [
    "data.shape"
   ]
  },
  {
   "cell_type": "code",
   "execution_count": 39,
   "metadata": {
    "scrolled": true
   },
   "outputs": [
    {
     "data": {
      "text/html": [
       "<div>\n",
       "<style>\n",
       "    .dataframe thead tr:only-child th {\n",
       "        text-align: right;\n",
       "    }\n",
       "\n",
       "    .dataframe thead th {\n",
       "        text-align: left;\n",
       "    }\n",
       "\n",
       "    .dataframe tbody tr th {\n",
       "        vertical-align: top;\n",
       "    }\n",
       "</style>\n",
       "<table border=\"1\" class=\"dataframe\">\n",
       "  <thead>\n",
       "    <tr style=\"text-align: right;\">\n",
       "      <th></th>\n",
       "      <th>DATE</th>\n",
       "      <th>DJIA</th>\n",
       "    </tr>\n",
       "  </thead>\n",
       "  <tbody>\n",
       "    <tr>\n",
       "      <th>0</th>\n",
       "      <td>2009-01-02</td>\n",
       "      <td>9034.69</td>\n",
       "    </tr>\n",
       "    <tr>\n",
       "      <th>1</th>\n",
       "      <td>2009-01-05</td>\n",
       "      <td>8952.89</td>\n",
       "    </tr>\n",
       "    <tr>\n",
       "      <th>2</th>\n",
       "      <td>2009-01-06</td>\n",
       "      <td>9015.10</td>\n",
       "    </tr>\n",
       "    <tr>\n",
       "      <th>3</th>\n",
       "      <td>2009-01-07</td>\n",
       "      <td>8769.70</td>\n",
       "    </tr>\n",
       "    <tr>\n",
       "      <th>4</th>\n",
       "      <td>2009-01-08</td>\n",
       "      <td>8742.46</td>\n",
       "    </tr>\n",
       "  </tbody>\n",
       "</table>\n",
       "</div>"
      ],
      "text/plain": [
       "         DATE     DJIA\n",
       "0  2009-01-02  9034.69\n",
       "1  2009-01-05  8952.89\n",
       "2  2009-01-06  9015.10\n",
       "3  2009-01-07  8769.70\n",
       "4  2009-01-08  8742.46"
      ]
     },
     "execution_count": 39,
     "metadata": {},
     "output_type": "execute_result"
    }
   ],
   "source": [
    "data.head()"
   ]
  },
  {
   "cell_type": "code",
   "execution_count": 40,
   "metadata": {
    "scrolled": true
   },
   "outputs": [
    {
     "name": "stdout",
     "output_type": "stream",
     "text": [
      "<class 'pandas.core.frame.DataFrame'>\n",
      "RangeIndex: 2474 entries, 0 to 2473\n",
      "Data columns (total 2 columns):\n",
      "DATE    2474 non-null object\n",
      "DJIA    2474 non-null object\n",
      "dtypes: object(2)\n",
      "memory usage: 38.7+ KB\n"
     ]
    }
   ],
   "source": [
    "data.info()"
   ]
  },
  {
   "cell_type": "code",
   "execution_count": 41,
   "metadata": {},
   "outputs": [
    {
     "data": {
      "text/html": [
       "<div>\n",
       "<style>\n",
       "    .dataframe thead tr:only-child th {\n",
       "        text-align: right;\n",
       "    }\n",
       "\n",
       "    .dataframe thead th {\n",
       "        text-align: left;\n",
       "    }\n",
       "\n",
       "    .dataframe tbody tr th {\n",
       "        vertical-align: top;\n",
       "    }\n",
       "</style>\n",
       "<table border=\"1\" class=\"dataframe\">\n",
       "  <thead>\n",
       "    <tr style=\"text-align: right;\">\n",
       "      <th></th>\n",
       "      <th>DATE</th>\n",
       "      <th>DJIA</th>\n",
       "    </tr>\n",
       "  </thead>\n",
       "  <tbody>\n",
       "    <tr>\n",
       "      <th>count</th>\n",
       "      <td>2474</td>\n",
       "      <td>2474</td>\n",
       "    </tr>\n",
       "    <tr>\n",
       "      <th>unique</th>\n",
       "      <td>2474</td>\n",
       "      <td>2378</td>\n",
       "    </tr>\n",
       "    <tr>\n",
       "      <th>top</th>\n",
       "      <td>2014-07-16</td>\n",
       "      <td>.</td>\n",
       "    </tr>\n",
       "    <tr>\n",
       "      <th>freq</th>\n",
       "      <td>1</td>\n",
       "      <td>86</td>\n",
       "    </tr>\n",
       "  </tbody>\n",
       "</table>\n",
       "</div>"
      ],
      "text/plain": [
       "              DATE  DJIA\n",
       "count         2474  2474\n",
       "unique        2474  2378\n",
       "top     2014-07-16     .\n",
       "freq             1    86"
      ]
     },
     "execution_count": 41,
     "metadata": {},
     "output_type": "execute_result"
    }
   ],
   "source": [
    "# See descriptive statistics\n",
    "\n",
    "data.describe()"
   ]
  },
  {
   "cell_type": "code",
   "execution_count": 42,
   "metadata": {},
   "outputs": [
    {
     "data": {
      "text/plain": [
       "Index(['DATE', 'DJIA'], dtype='object')"
      ]
     },
     "execution_count": 42,
     "metadata": {},
     "output_type": "execute_result"
    }
   ],
   "source": [
    "data.columns"
   ]
  },
  {
   "cell_type": "code",
   "execution_count": 50,
   "metadata": {},
   "outputs": [
    {
     "data": {
      "text/html": [
       "<div>\n",
       "<style>\n",
       "    .dataframe thead tr:only-child th {\n",
       "        text-align: right;\n",
       "    }\n",
       "\n",
       "    .dataframe thead th {\n",
       "        text-align: left;\n",
       "    }\n",
       "\n",
       "    .dataframe tbody tr th {\n",
       "        vertical-align: top;\n",
       "    }\n",
       "</style>\n",
       "<table border=\"1\" class=\"dataframe\">\n",
       "  <thead>\n",
       "    <tr style=\"text-align: right;\">\n",
       "      <th></th>\n",
       "      <th>DATE</th>\n",
       "      <th>DJIA</th>\n",
       "    </tr>\n",
       "  </thead>\n",
       "  <tbody>\n",
       "    <tr>\n",
       "      <th>0</th>\n",
       "      <td>2009-01-02</td>\n",
       "      <td>9034.69</td>\n",
       "    </tr>\n",
       "    <tr>\n",
       "      <th>1</th>\n",
       "      <td>2009-01-05</td>\n",
       "      <td>8952.89</td>\n",
       "    </tr>\n",
       "    <tr>\n",
       "      <th>2</th>\n",
       "      <td>2009-01-06</td>\n",
       "      <td>9015.10</td>\n",
       "    </tr>\n",
       "    <tr>\n",
       "      <th>3</th>\n",
       "      <td>2009-01-07</td>\n",
       "      <td>8769.70</td>\n",
       "    </tr>\n",
       "    <tr>\n",
       "      <th>4</th>\n",
       "      <td>2009-01-08</td>\n",
       "      <td>8742.46</td>\n",
       "    </tr>\n",
       "    <tr>\n",
       "      <th>5</th>\n",
       "      <td>2009-01-09</td>\n",
       "      <td>8599.18</td>\n",
       "    </tr>\n",
       "    <tr>\n",
       "      <th>6</th>\n",
       "      <td>2009-01-12</td>\n",
       "      <td>8473.97</td>\n",
       "    </tr>\n",
       "    <tr>\n",
       "      <th>7</th>\n",
       "      <td>2009-01-13</td>\n",
       "      <td>8448.56</td>\n",
       "    </tr>\n",
       "    <tr>\n",
       "      <th>8</th>\n",
       "      <td>2009-01-14</td>\n",
       "      <td>8200.14</td>\n",
       "    </tr>\n",
       "    <tr>\n",
       "      <th>9</th>\n",
       "      <td>2009-01-15</td>\n",
       "      <td>8212.49</td>\n",
       "    </tr>\n",
       "    <tr>\n",
       "      <th>10</th>\n",
       "      <td>2009-01-16</td>\n",
       "      <td>8281.22</td>\n",
       "    </tr>\n",
       "    <tr>\n",
       "      <th>11</th>\n",
       "      <td>2009-01-19</td>\n",
       "      <td>NaN</td>\n",
       "    </tr>\n",
       "    <tr>\n",
       "      <th>12</th>\n",
       "      <td>2009-01-20</td>\n",
       "      <td>7949.09</td>\n",
       "    </tr>\n",
       "    <tr>\n",
       "      <th>13</th>\n",
       "      <td>2009-01-21</td>\n",
       "      <td>8228.10</td>\n",
       "    </tr>\n",
       "    <tr>\n",
       "      <th>14</th>\n",
       "      <td>2009-01-22</td>\n",
       "      <td>8122.80</td>\n",
       "    </tr>\n",
       "    <tr>\n",
       "      <th>15</th>\n",
       "      <td>2009-01-23</td>\n",
       "      <td>8077.56</td>\n",
       "    </tr>\n",
       "    <tr>\n",
       "      <th>16</th>\n",
       "      <td>2009-01-26</td>\n",
       "      <td>8116.03</td>\n",
       "    </tr>\n",
       "    <tr>\n",
       "      <th>17</th>\n",
       "      <td>2009-01-27</td>\n",
       "      <td>8174.73</td>\n",
       "    </tr>\n",
       "    <tr>\n",
       "      <th>18</th>\n",
       "      <td>2009-01-28</td>\n",
       "      <td>8375.45</td>\n",
       "    </tr>\n",
       "    <tr>\n",
       "      <th>19</th>\n",
       "      <td>2009-01-29</td>\n",
       "      <td>8149.01</td>\n",
       "    </tr>\n",
       "  </tbody>\n",
       "</table>\n",
       "</div>"
      ],
      "text/plain": [
       "         DATE     DJIA\n",
       "0  2009-01-02  9034.69\n",
       "1  2009-01-05  8952.89\n",
       "2  2009-01-06  9015.10\n",
       "3  2009-01-07  8769.70\n",
       "4  2009-01-08  8742.46\n",
       "5  2009-01-09  8599.18\n",
       "6  2009-01-12  8473.97\n",
       "7  2009-01-13  8448.56\n",
       "8  2009-01-14  8200.14\n",
       "9  2009-01-15  8212.49\n",
       "10 2009-01-16  8281.22\n",
       "11 2009-01-19      NaN\n",
       "12 2009-01-20  7949.09\n",
       "13 2009-01-21  8228.10\n",
       "14 2009-01-22  8122.80\n",
       "15 2009-01-23  8077.56\n",
       "16 2009-01-26  8116.03\n",
       "17 2009-01-27  8174.73\n",
       "18 2009-01-28  8375.45\n",
       "19 2009-01-29  8149.01"
      ]
     },
     "execution_count": 50,
     "metadata": {},
     "output_type": "execute_result"
    }
   ],
   "source": [
    "data.head(20)"
   ]
  },
  {
   "cell_type": "code",
   "execution_count": 52,
   "metadata": {},
   "outputs": [],
   "source": [
    "data['DJIA'] = pd.to_numeric(data.DJIA, errors = 'coerce')\n",
    "data['DATE'] = pd.to_datetime(data['DATE'])\n",
    "data.dropna(inplace=True)"
   ]
  },
  {
   "cell_type": "code",
   "execution_count": 53,
   "metadata": {},
   "outputs": [
    {
     "data": {
      "text/html": [
       "<div>\n",
       "<style>\n",
       "    .dataframe thead tr:only-child th {\n",
       "        text-align: right;\n",
       "    }\n",
       "\n",
       "    .dataframe thead th {\n",
       "        text-align: left;\n",
       "    }\n",
       "\n",
       "    .dataframe tbody tr th {\n",
       "        vertical-align: top;\n",
       "    }\n",
       "</style>\n",
       "<table border=\"1\" class=\"dataframe\">\n",
       "  <thead>\n",
       "    <tr style=\"text-align: right;\">\n",
       "      <th></th>\n",
       "      <th>DJIA</th>\n",
       "    </tr>\n",
       "  </thead>\n",
       "  <tbody>\n",
       "    <tr>\n",
       "      <th>count</th>\n",
       "      <td>2388.000000</td>\n",
       "    </tr>\n",
       "    <tr>\n",
       "      <th>mean</th>\n",
       "      <td>15350.665406</td>\n",
       "    </tr>\n",
       "    <tr>\n",
       "      <th>std</th>\n",
       "      <td>4418.987945</td>\n",
       "    </tr>\n",
       "    <tr>\n",
       "      <th>min</th>\n",
       "      <td>6547.050000</td>\n",
       "    </tr>\n",
       "    <tr>\n",
       "      <th>25%</th>\n",
       "      <td>11886.907500</td>\n",
       "    </tr>\n",
       "    <tr>\n",
       "      <th>50%</th>\n",
       "      <td>15477.465000</td>\n",
       "    </tr>\n",
       "    <tr>\n",
       "      <th>75%</th>\n",
       "      <td>17914.002500</td>\n",
       "    </tr>\n",
       "    <tr>\n",
       "      <th>max</th>\n",
       "      <td>26616.710000</td>\n",
       "    </tr>\n",
       "  </tbody>\n",
       "</table>\n",
       "</div>"
      ],
      "text/plain": [
       "               DJIA\n",
       "count   2388.000000\n",
       "mean   15350.665406\n",
       "std     4418.987945\n",
       "min     6547.050000\n",
       "25%    11886.907500\n",
       "50%    15477.465000\n",
       "75%    17914.002500\n",
       "max    26616.710000"
      ]
     },
     "execution_count": 53,
     "metadata": {},
     "output_type": "execute_result"
    }
   ],
   "source": [
    "data.describe()"
   ]
  },
  {
   "cell_type": "code",
   "execution_count": 54,
   "metadata": {},
   "outputs": [
    {
     "data": {
      "image/png": "[encoded data removed]",
      "text/plain": [
       "<matplotlib.figure.Figure at 0x236102ad748>"
      ]
     },
     "metadata": {},
     "output_type": "display_data"
    }
   ],
   "source": [
    "data.plot()\n",
    "plt.show()"
   ]
  },
  {
   "cell_type": "code",
   "execution_count": 56,
   "metadata": {
    "collapsed": true
   },
   "outputs": [],
   "source": [
    "data.index = pd.to_datetime(data['DATE'])\n",
    "\n"
   ]
  },
  {
   "cell_type": "code",
   "execution_count": 57,
   "metadata": {},
   "outputs": [
    {
     "data": {
      "image/png": "[encoded data removed]",
      "text/plain": [
       "<matplotlib.figure.Figure at 0x2361146fb00>"
      ]
     },
     "metadata": {},
     "output_type": "display_data"
    }
   ],
   "source": [
    "data.plot()\n",
    "plt.title('Dow Jones Time Series')\n",
    "plt.show()"
   ]
  },
  {
   "cell_type": "code",
   "execution_count": 58,
   "metadata": {},
   "outputs": [
    {
     "data": {
      "image/png": "[encoded data removed]",
      "text/plain": [
       "<matplotlib.figure.Figure at 0x23611485710>"
      ]
     },
     "metadata": {},
     "output_type": "display_data"
    }
   ],
   "source": [
    "data['difference'] = data.DJIA - data.DJIA.shift()\n",
    "data.plot(y='difference')\n",
    "plt.title('Dow Jones Time Series')\n",
    "plt.show()"
   ]
  },
  {
   "cell_type": "code",
   "execution_count": 67,
   "metadata": {},
   "outputs": [
    {
     "data": {
      "image/png": "[encoded data removed]",
      "text/plain": [
       "<matplotlib.figure.Figure at 0x2361223c828>"
      ]
     },
     "metadata": {},
     "output_type": "display_data"
    }
   ],
   "source": [
    "x_acf = pd.DataFrame(pacf(data['DJIA']))\n",
    "x_acf.plot(kind='bar')\n",
    "plt.title('DJIA PACF')\n",
    "plt.show()"
   ]
  },
  {
   "cell_type": "code",
   "execution_count": 70,
   "metadata": {},
   "outputs": [
    {
     "data": {
      "image/png": "[encoded data removed]",
      "text/plain": [
       "<matplotlib.figure.Figure at 0x236129e2f98>"
      ]
     },
     "metadata": {},
     "output_type": "display_data"
    }
   ],
   "source": [
    "x_acf = pd.DataFrame(pacf(data['difference'][1:]))\n",
    "x_acf.plot(kind='bar')\n",
    "plt.title('DJIA Diff PACF')\n",
    "plt.legend(['difference'])\n",
    "plt.show()"
   ]
  },
  {
   "cell_type": "code",
   "execution_count": 86,
   "metadata": {
    "collapsed": true
   },
   "outputs": [],
   "source": [
    "def arima_model(order_parameters):\n",
    "    model = ARIMA(data['DJIA'], order = order_parameters)\n",
    "    model_fit = model.fit()\n",
    "    print(model_fit.summary())\n",
    "    print('Residuals Description')\n",
    "    print(model_fit.resid.describe())"
   ]
  },
  {
   "cell_type": "code",
   "execution_count": 84,
   "metadata": {},
   "outputs": [],
   "source": [
    "model = ARIMA(data['DJIA'], order = (1,0,0))\n",
    "model_fit = model.fit()\n",
    "#print(model_fit.summary())\n",
    "#print('Residuals Description')\n",
    "#print(model_fit.resid.describe())"
   ]
  },
  {
   "cell_type": "code",
   "execution_count": 85,
   "metadata": {},
   "outputs": [
    {
     "data": {
      "text/html": [
       "<table class=\"simpletable\">\n",
       "<caption>ARMA Model Results</caption>\n",
       "<tr>\n",
       "  <th>Dep. Variable:</th>       <td>DJIA</td>       <th>  No. Observations:  </th>    <td>2388</td>   \n",
       "</tr>\n",
       "<tr>\n",
       "  <th>Model:</th>            <td>ARMA(1, 0)</td>    <th>  Log Likelihood     </th> <td>-15124.047</td>\n",
       "</tr>\n",
       "<tr>\n",
       "  <th>Method:</th>             <td>css-mle</td>     <th>  S.D. of innovations</th>   <td>136.017</td> \n",
       "</tr>\n",
       "<tr>\n",
       "  <th>Date:</th>          <td>Thu, 28 Jun 2018</td> <th>  AIC                </th>  <td>30254.094</td>\n",
       "</tr>\n",
       "<tr>\n",
       "  <th>Time:</th>              <td>17:05:38</td>     <th>  BIC                </th>  <td>30271.429</td>\n",
       "</tr>\n",
       "<tr>\n",
       "  <th>Sample:</th>           <td>01-02-2009</td>    <th>  HQIC               </th>  <td>30260.402</td>\n",
       "</tr>\n",
       "<tr>\n",
       "  <th></th>                 <td>- 06-27-2018</td>   <th>                     </th>      <td> </td>    \n",
       "</tr>\n",
       "</table>\n",
       "<table class=\"simpletable\">\n",
       "<tr>\n",
       "       <td></td>         <th>coef</th>     <th>std err</th>      <th>z</th>      <th>P>|z|</th>  <th>[0.025</th>    <th>0.975]</th>  \n",
       "</tr>\n",
       "<tr>\n",
       "  <th>const</th>      <td> 1.535e+04</td> <td> 6205.560</td> <td>    2.474</td> <td> 0.013</td> <td> 3188.048</td> <td> 2.75e+04</td>\n",
       "</tr>\n",
       "<tr>\n",
       "  <th>ar.L1.DJIA</th> <td>    0.9998</td> <td>    0.000</td> <td> 3750.483</td> <td> 0.000</td> <td>    0.999</td> <td>    1.000</td>\n",
       "</tr>\n",
       "</table>\n",
       "<table class=\"simpletable\">\n",
       "<caption>Roots</caption>\n",
       "<tr>\n",
       "    <td></td>   <th>           Real</th> <th>         Imaginary</th> <th>         Modulus</th> <th>        Frequency</th>\n",
       "</tr>\n",
       "<tr>\n",
       "  <th>AR.1</th>               1.0002                    +0.0000j                    1.0002                    0.0000     \n",
       "</tr>\n",
       "</table>"
      ],
      "text/plain": [
       "<class 'statsmodels.iolib.summary.Summary'>\n",
       "\"\"\"\n",
       "                              ARMA Model Results                              \n",
       "==============================================================================\n",
       "Dep. Variable:                   DJIA   No. Observations:                 2388\n",
       "Model:                     ARMA(1, 0)   Log Likelihood              -15124.047\n",
       "Method:                       css-mle   S.D. of innovations            136.017\n",
       "Date:                Thu, 28 Jun 2018   AIC                          30254.094\n",
       "Time:                        17:05:38   BIC                          30271.429\n",
       "Sample:                    01-02-2009   HQIC                         30260.402\n",
       "                         - 06-27-2018                                         \n",
       "==============================================================================\n",
       "                 coef    std err          z      P>|z|      [0.025      0.975]\n",
       "------------------------------------------------------------------------------\n",
       "const       1.535e+04   6205.560      2.474      0.013    3188.048    2.75e+04\n",
       "ar.L1.DJIA     0.9998      0.000   3750.483      0.000       0.999       1.000\n",
       "                                    Roots                                    \n",
       "=============================================================================\n",
       "                 Real           Imaginary           Modulus         Frequency\n",
       "-----------------------------------------------------------------------------\n",
       "AR.1            1.0002           +0.0000j            1.0002            0.0000\n",
       "-----------------------------------------------------------------------------\n",
       "\"\"\""
      ]
     },
     "execution_count": 85,
     "metadata": {},
     "output_type": "execute_result"
    }
   ],
   "source": [
    "model_fit.summary()"
   ]
  },
  {
   "cell_type": "code",
   "execution_count": 88,
   "metadata": {},
   "outputs": [
    {
     "name": "stdout",
     "output_type": "stream",
     "text": [
      "                              ARMA Model Results                              \n",
      "==============================================================================\n",
      "Dep. Variable:                   DJIA   No. Observations:                 2388\n",
      "Model:                     ARMA(1, 0)   Log Likelihood              -15124.047\n",
      "Method:                       css-mle   S.D. of innovations            136.017\n",
      "Date:                Thu, 28 Jun 2018   AIC                          30254.094\n",
      "Time:                        17:06:09   BIC                          30271.429\n",
      "Sample:                    01-02-2009   HQIC                         30260.402\n",
      "                         - 06-27-2018                                         \n",
      "==============================================================================\n",
      "                 coef    std err          z      P>|z|      [0.025      0.975]\n",
      "------------------------------------------------------------------------------\n",
      "const       1.535e+04   6205.560      2.474      0.013    3188.048    2.75e+04\n",
      "ar.L1.DJIA     0.9998      0.000   3750.483      0.000       0.999       1.000\n",
      "                                    Roots                                    \n",
      "=============================================================================\n",
      "                 Real           Imaginary           Modulus         Frequency\n",
      "-----------------------------------------------------------------------------\n",
      "AR.1            1.0002           +0.0000j            1.0002            0.0000\n",
      "-----------------------------------------------------------------------------\n",
      "Residuals Description\n",
      "count    2388.000000\n",
      "mean        3.670463\n",
      "std       187.617693\n",
      "min     -6316.033070\n",
      "25%       -51.969072\n",
      "50%         8.002885\n",
      "75%        74.195575\n",
      "max       671.055894\n",
      "dtype: float64\n"
     ]
    }
   ],
   "source": [
    "arima_model((1,0,0))"
   ]
  },
  {
   "cell_type": "code",
   "execution_count": 89,
   "metadata": {},
   "outputs": [
    {
     "name": "stdout",
     "output_type": "stream",
     "text": [
      "                             ARIMA Model Results                              \n",
      "==============================================================================\n",
      "Dep. Variable:                 D.DJIA   No. Observations:                 2387\n",
      "Model:                 ARIMA(1, 1, 0)   Log Likelihood              -15108.804\n",
      "Method:                       css-mle   S.D. of innovations            135.732\n",
      "Date:                Thu, 28 Jun 2018   AIC                          30223.609\n",
      "Time:                        17:06:18   BIC                          30240.942\n",
      "Sample:                    01-05-2009   HQIC                         30229.916\n",
      "                         - 06-27-2018                                         \n",
      "================================================================================\n",
      "                   coef    std err          z      P>|z|      [0.025      0.975]\n",
      "--------------------------------------------------------------------------------\n",
      "const            6.3244      2.657      2.380      0.017       1.116      11.532\n",
      "ar.L1.D.DJIA    -0.0456      0.020     -2.227      0.026      -0.086      -0.005\n",
      "                                    Roots                                    \n",
      "=============================================================================\n",
      "                 Real           Imaginary           Modulus         Frequency\n",
      "-----------------------------------------------------------------------------\n",
      "AR.1          -21.9526           +0.0000j           21.9526            0.5000\n",
      "-----------------------------------------------------------------------------\n",
      "Residuals Description\n",
      "count    2387.000000\n",
      "mean       -0.002620\n",
      "std       135.760363\n",
      "min     -1212.149186\n",
      "25%       -58.322912\n",
      "50%         3.012139\n",
      "75%        67.411796\n",
      "max       643.441737\n",
      "dtype: float64\n"
     ]
    }
   ],
   "source": [
    "arima_model((1,1,0))"
   ]
  },
  {
   "cell_type": "code",
   "execution_count": 90,
   "metadata": {},
   "outputs": [
    {
     "name": "stdout",
     "output_type": "stream",
     "text": [
      "                             ARIMA Model Results                              \n",
      "==============================================================================\n",
      "Dep. Variable:                 D.DJIA   No. Observations:                 2387\n",
      "Model:                 ARIMA(1, 1, 1)   Log Likelihood              -15107.791\n",
      "Method:                       css-mle   S.D. of innovations            135.673\n",
      "Date:                Thu, 28 Jun 2018   AIC                          30223.583\n",
      "Time:                        17:06:34   BIC                          30246.694\n",
      "Sample:                    01-05-2009   HQIC                         30231.993\n",
      "                         - 06-27-2018                                         \n",
      "================================================================================\n",
      "                   coef    std err          z      P>|z|      [0.025      0.975]\n",
      "--------------------------------------------------------------------------------\n",
      "const            6.6312      1.776      3.734      0.000       3.150      10.112\n",
      "ar.L1.D.DJIA     0.9556      0.037     25.923      0.000       0.883       1.028\n",
      "ma.L1.D.DJIA    -0.9719      0.030    -32.431      0.000      -1.031      -0.913\n",
      "                                    Roots                                    \n",
      "=============================================================================\n",
      "                 Real           Imaginary           Modulus         Frequency\n",
      "-----------------------------------------------------------------------------\n",
      "AR.1            1.0465           +0.0000j            1.0465            0.0000\n",
      "MA.1            1.0289           +0.0000j            1.0289            0.0000\n",
      "-----------------------------------------------------------------------------\n",
      "Residuals Description\n",
      "count    2387.000000\n",
      "mean       -0.250956\n",
      "std       135.703310\n",
      "min     -1172.285210\n",
      "25%       -57.531906\n",
      "50%         3.901588\n",
      "75%        69.382778\n",
      "max       638.322918\n",
      "dtype: float64\n"
     ]
    }
   ],
   "source": [
    "arima_model((1,1,1))"
   ]
  },
  {
   "cell_type": "code",
   "execution_count": 92,
   "metadata": {
    "scrolled": false
   },
   "outputs": [
    {
     "name": "stdout",
     "output_type": "stream",
     "text": [
      "                              ARMA Model Results                              \n",
      "==============================================================================\n",
      "Dep. Variable:                   DJIA   No. Observations:                 2388\n",
      "Model:                     ARMA(0, 1)   Log Likelihood              -21824.649\n",
      "Method:                       css-mle   S.D. of innovations           2252.151\n",
      "Date:                Thu, 28 Jun 2018   AIC                          43655.299\n",
      "Time:                        17:06:49   BIC                          43672.634\n",
      "Sample:                    01-02-2009   HQIC                         43661.607\n",
      "                         - 06-27-2018                                         \n",
      "==============================================================================\n",
      "                 coef    std err          z      P>|z|      [0.025      0.975]\n",
      "------------------------------------------------------------------------------\n",
      "const       1.535e+04     91.412    167.936      0.000    1.52e+04    1.55e+04\n",
      "ma.L1.DJIA     0.9839      0.003    364.832      0.000       0.979       0.989\n",
      "                                    Roots                                    \n",
      "=============================================================================\n",
      "                 Real           Imaginary           Modulus         Frequency\n",
      "-----------------------------------------------------------------------------\n",
      "MA.1           -1.0164           +0.0000j            1.0164            0.5000\n",
      "-----------------------------------------------------------------------------\n",
      "Residuals Description\n",
      "count    2388.000000\n",
      "mean       -2.137371\n",
      "std      2257.820605\n",
      "min     -6316.710303\n",
      "25%     -1745.571592\n",
      "50%       -28.886848\n",
      "75%      1347.200998\n",
      "max      5848.508343\n",
      "dtype: float64\n"
     ]
    }
   ],
   "source": [
    "arima_model((0,0,1))"
   ]
  },
  {
   "cell_type": "code",
   "execution_count": null,
   "metadata": {
    "collapsed": true
   },
   "outputs": [],
   "source": []
  }
 ],
 "metadata": {
  "kernelspec": {
   "display_name": "Python 3",
   "language": "python",
   "name": "python3"
  },
  "language_info": {
   "codemirror_mode": {
    "name": "ipython",
    "version": 3
   },
   "file_extension": ".py",
   "mimetype": "text/x-python",
   "name": "python",
   "nbconvert_exporter": "python",
   "pygments_lexer": "ipython3",
   "version": "3.6.3"
  }
 },
 "nbformat": 4,
 "nbformat_minor": 2
}
