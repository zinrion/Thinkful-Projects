{
 "cells": [
  {
   "cell_type": "code",
   "execution_count": 1,
   "metadata": {},
   "outputs": [
    {
     "name": "stderr",
     "output_type": "stream",
     "text": [
      "/Users/debjit/anaconda3/lib/python3.6/site-packages/sklearn/cross_validation.py:41: DeprecationWarning: This module was deprecated in version 0.18 in favor of the model_selection module into which all the refactored classes and functions are moved. Also note that the interface of the new CV iterators are different from that of this module. This module will be removed in 0.20.\n",
      "  \"This module will be removed in 0.20.\", DeprecationWarning)\n"
     ]
    }
   ],
   "source": [
    "import numpy as np\n",
    "import pandas as pd\n",
    "from sklearn import linear_model\n",
    "from sklearn.metrics import mean_squared_error, r2_score\n",
    "import matplotlib.pyplot as plt\n",
    "import seaborn as sns\n",
    "from sklearn import cross_validation\n",
    "from sklearn.cross_validation import train_test_split\n",
    "import statsmodels.formula.api as smf"
   ]
  },
  {
   "cell_type": "markdown",
   "metadata": {},
   "source": [
    "#### Data\n",
    "\n",
    "Train data obtained from FBI Uniform Crime Reporting on crimes in New York state in 2013.\n",
    "\n",
    "link: https://ucr.fbi.gov/crime-in-the-u.s/2013/crime-in-the-u.s.-2013/tables/table-8/table-8-state-cuts/table_8_offenses_known_to_law_enforcement_new_york_by_city_2013.xls\n",
    "\n",
    "Test data set obtained from FBI Uniform Crime Reporting on crimes in New York state in 2012.\n",
    "\n",
    "link: https://ucr.fbi.gov/crime-in-the-u.s/2012/crime-in-the-u.s.-2012/tables/8tabledatadecpdf/table-8-state-cuts/table_8_offenses_known_to_law_enforcement_by_new_york_by_city_2012.xls"
   ]
  },
  {
   "cell_type": "code",
   "execution_count": null,
   "metadata": {
    "collapsed": true
   },
   "outputs": [],
   "source": [
    "def import_clean(train_filename,city_exclude):\n",
    "    train_data = pd.read_csv(train_filename, header = 4)\n",
    "    train_data.drop(train_data.tail(3).index,inplace=True)\n",
    "    train_data['Population'] = train_data['Population'].str.replace(',', '')\n",
    "    train_data['Rape\\n(legacy\\ndefinition)2'] = train_data['Rape\\n(legacy\\ndefinition)2'].str.replace(',', '')\n",
    "    train_data['Property\\ncrime'] = train_data['Property\\ncrime'].str.replace(',', '')\n",
    "    train_data['Property\\ncrime'] = pd.to_numeric(train_data['Property\\ncrime'])\n",
    "    train_data['Population'] = pd.to_numeric(train_data['Population'])\n",
    "    train_data['Rape\\n(legacy\\ndefinition)2'] = pd.to_numeric(train_data['Rape\\n(legacy\\ndefinition)2'])\n",
    "    train_data['Robbery'] = train_data['Robbery'].str.replace(',', '')\n",
    "    train_data['Robbery'] = pd.to_numeric(train_data['Robbery'])\n",
    "    train_data = train_data[train_data[\"City\"] != city_exclude]\n",
    "    train_data.rename(columns={\"Murder and\\nnonnegligent\\nmanslaughter\":\"Murder\",'Rape\\n(legacy\\ndefinition)2':\"Rape\",\"Property\\ncrime\":\"Property_Crime\"},inplace=True)\n",
    "    train_data = train_data[[\"City\",\"Population\",\"Murder\",\"Rape\",\"Property_Crime\",\"Robbery\"]]\n",
    "    train_data= train_data.dropna()\n",
    "    return train_data\n",
    "    "
   ]
  },
  {
   "cell_type": "code",
   "execution_count": null,
   "metadata": {
    "collapsed": true
   },
   "outputs": [],
   "source": [
    "def train_import_clean(train_data_filename,city_exclude):\n",
    "    train_data = import_clean(train_data_filename,city_exclude)\n",
    "    train_data[\"population_squared\"] = train_data[\"Population\"] **2 \n",
    "    train_data[\"Murder\"] = np.where(train_data.Murder >= 1, 1,0)\n",
    "    train_data[\"Robbery\"] = np.where(train_data.Rape >=1,1,0)\n",
    "    train_data[\"Rape\"] = np.where(train_data.Rape >=1,1,0)\n",
    "    return train_data"
   ]
  },
  {
   "cell_type": "code",
   "execution_count": null,
   "metadata": {
    "collapsed": true
   },
   "outputs": [],
   "source": [
    "def test_import_clean(test_data,city_exclude):\n",
    "    raw_test_data = pd.read_csv(test_data, header = 4)\n",
    "    test_data= raw_test_data\n",
    "    test_data.drop(test_data.tail(3).index,inplace=True)\n",
    "    test_data['Population'] = test_data['Population'].str.replace(',', '')\n",
    "    test_data['Forcible\\nrape'] = test_data['Forcible\\nrape'].str.replace(',', '')\n",
    "    test_data['Property\\ncrime'] = test_data['Property\\ncrime'].str.replace(',', '')\n",
    "    test_data['Property\\ncrime'] = pd.to_numeric(test_data['Property\\ncrime'])\n",
    "    test_data['Burglary'] = test_data['Burglary'].str.replace(',', '')\n",
    "    test_data['Burglary'] = pd.to_numeric(test_data['Burglary'])  \n",
    "    test_data['Population'] = pd.to_numeric(test_data['Population'])\n",
    "    test_data['Forcible\\nrape'] = pd.to_numeric(test_data['Forcible\\nrape'])\n",
    "    test_data['Robbery'] = test_data['Robbery'].str.replace(',', '')\n",
    "    test_data['Robbery'] = pd.to_numeric(test_data['Robbery'])\n",
    "    test_data = test_data[test_data[\"City\"] != \"New York\"]\n",
    "    test_data.rename(columns={\"Murder and\\nnonnegligent\\nmanslaughter\":\"Murder\",'Forcible\\nrape':\"Rape\",\"Property\\ncrime\":\"Property_Crime\"},inplace=True)\n",
    "    test_data = test_data[[\"City\",\"Population\",\"Murder\",\"Rape\",\"Property_Crime\",\"Robbery\",\"Burglary\"]]\n",
    "    test_data= test_data.dropna()\n",
    "    test_data[\"population_squared\"] = test_data[\"Population\"] **2 \n",
    "    test_data[\"Murder\"] = np.where(test_data.Murder >= 1, 1,0)\n",
    "    test_data[\"Robbery\"] = np.where(test_data.Rape >=1,1,0)\n",
    "    test_data[\"Rape\"] = np.where(test_data.Rape >=1,1,0)\n",
    "    test_data[\"Burglary\"] = np.where(test_data.Burglary >=1,1,0)\n",
    "    return test_data"
   ]
  },
  {
   "cell_type": "code",
   "execution_count": null,
   "metadata": {
    "collapsed": true
   },
   "outputs": [],
   "source": [
    "#Run clean function then regression\n",
    "def run_regr(train_filename,city_exclude):\n",
    "    train_data = train_import_clean(train_filename,city_exclude)\n",
    "    regr = linear_model.LinearRegression()\n",
    "    Y = train_data[\"Property_Crime\"].values.reshape(-1,1)\n",
    "    X = train_data[[\"Population\",\"population_squared\",\"Murder\",\"Robbery\"]]\n",
    "    regr.fit(X,Y)\n",
    "    print('\\nCoefficients: \\n', regr.coef_)\n",
    "    print('\\nIntercept: \\n', regr.intercept_)\n",
    "    print('\\nR-squared:')\n",
    "    print(regr.score(X, Y))"
   ]
  },
  {
   "cell_type": "code",
   "execution_count": 2,
   "metadata": {
    "collapsed": true
   },
   "outputs": [],
   "source": [
    "#Training will be done on 2013 data\n",
    "train_filename =  \"New_York_Offenses_2013.csv\" \n",
    "#Testig will be done on 2013 data\n",
    "test_filename = \"New_York_Offenses_2012.csv\""
   ]
  },
  {
   "cell_type": "code",
   "execution_count": null,
   "metadata": {
    "scrolled": true
   },
   "outputs": [],
   "source": [
    "#Run training data regression including New York\n",
    "run_regr(train_filename,city_exclude=\"\")"
   ]
  },
  {
   "cell_type": "code",
   "execution_count": null,
   "metadata": {},
   "outputs": [],
   "source": [
    "#Run training data regression excluding New York\n",
    "run_regr(train_filename,city_exclude=\"New York\")"
   ]
  },
  {
   "cell_type": "code",
   "execution_count": null,
   "metadata": {
    "collapsed": true
   },
   "outputs": [],
   "source": [
    "#Use statsmodels to see p-values\n",
    "def run_statsmodels(train_file,city_exclude):\n",
    "    train_data = train_import_clean(train_file,city_exclude)\n",
    "    linear_formula = \"Property_Crime ~ Population+population_squared+Murder+Robbery\"\n",
    "    lm = smf.ols(formula=linear_formula, data=train_data).fit()\n",
    "    print(lm.rsquared)\n",
    "    print(lm.pvalues)\n"
   ]
  },
  {
   "cell_type": "code",
   "execution_count": null,
   "metadata": {
    "scrolled": true
   },
   "outputs": [],
   "source": [
    "#Stats models including New York City\n",
    "run_statsmodels(Train,city_exclude=\"New York\")"
   ]
  },
  {
   "cell_type": "code",
   "execution_count": null,
   "metadata": {},
   "outputs": [],
   "source": [
    "#Stats models excluding New York City\n",
    "run_statsmodels(Train,city_exclude=\"\")"
   ]
  },
  {
   "cell_type": "code",
   "execution_count": null,
   "metadata": {
    "collapsed": true
   },
   "outputs": [],
   "source": [
    "#Function to train then test on another data set\n",
    "def run_train_test(train_file,test_file,city_exclude):\n",
    "    train_data = train_import_clean(train_file,city_exclude)\n",
    "    test_data = test_import_clean(test_file,city_exclude)\n",
    "    regr = linear_model.LinearRegression()\n",
    "    train_y = train_data[\"Property_Crime\"].values.reshape(-1,1)\n",
    "    train_x = train_data[[\"Population\",\"population_squared\",\"Murder\",\"Robbery\"]]\n",
    "    test_y = test_data[\"Property_Crime\"].values.reshape(-1,1)\n",
    "    test_x = test_data[[\"Population\",\"population_squared\",\"Murder\",\"Robbery\"]]    \n",
    "    regr.fit(train_x,train_y)\n",
    "    print('\\nCoefficients: \\n', regr.coef_)\n",
    "    print('\\nIntercept: \\n', regr.intercept_)\n",
    "    print('\\nTrain R-squared:')\n",
    "    print(regr.score(train_x, train_y))   \n",
    "    print('\\nTest R-squared:')\n",
    "    print(regr.score(test_x, test_y))"
   ]
  },
  {
   "cell_type": "code",
   "execution_count": null,
   "metadata": {},
   "outputs": [],
   "source": [
    "#Train 2013 Data, Test 2012, NYC excluded\n",
    "run_train_test(Train,Test,city_exclude=\"New York\")"
   ]
  },
  {
   "cell_type": "code",
   "execution_count": null,
   "metadata": {},
   "outputs": [],
   "source": [
    "#Train 2013 Data, Test 2012, NYC included\n",
    "run_train_test(Train,Test,city_exclude=\"\")"
   ]
  },
  {
   "cell_type": "code",
   "execution_count": null,
   "metadata": {
    "collapsed": true
   },
   "outputs": [],
   "source": [
    "#Holdout\n",
    "def run_train_test_split(train_file,city_exclude):\n",
    "    train_data = train_import_clean(train_file,city_exclude)\n",
    "    regr = linear_model.LinearRegression()\n",
    "    Y = train_data[\"Property_Crime\"].values.reshape(-1,1)\n",
    "    X = train_data[[\"Population\",\"population_squared\",\"Murder\",\"Robbery\"]]\n",
    "    x_train, x_test, y_train, y_test = train_test_split(X, Y, test_size=0.33, random_state=34)\n",
    "    regr.fit(x_train,y_train)\n",
    "    y_predict = regr.predict(x_test)\n",
    "    print('\\nCoefficients: \\n', regr.coef_)\n",
    "    print('\\nIntercept: \\n', regr.intercept_)\n",
    "    print('\\nR-squared:')\n",
    "    print(regr.score(x_test, y_test))"
   ]
  },
  {
   "cell_type": "code",
   "execution_count": null,
   "metadata": {},
   "outputs": [],
   "source": [
    "#Run holdout\n",
    "run_train_test_split(Train,city_exclude=\"New York\")"
   ]
  },
  {
   "cell_type": "code",
   "execution_count": null,
   "metadata": {
    "collapsed": true
   },
   "outputs": [],
   "source": [
    "#Run KFold\n",
    "def run_KFold(train_file,city_exclude):\n",
    "    train_data = train_import_clean(train_file,city_exclude)\n",
    "    regr = linear_model.LinearRegression()\n",
    "    kf = cross_validation.KFold(n=len(train_data), n_folds=10)\n",
    "    for train_index, test_index in kf:\n",
    "        training_data, testing_data = train_data.iloc[train_index], train_data.iloc[test_index]\n",
    "        training_Y = training_data[\"Property_Crime\"].values.reshape(-1,1)\n",
    "        training_X = training_data[[\"Population\",\"population_squared\",\"Murder\",\"Robbery\"]]\n",
    "        testing_Y = testing_data[\"Property_Crime\"].values.reshape(-1,1)\n",
    "        testing_X = testing_data[[\"Population\",\"population_squared\",\"Murder\",\"Robbery\"]]    \n",
    "        regr.fit(training_X,training_Y)\n",
    "        print('\\nR-squared:')\n",
    "        print(regr.score(testing_X,testing_Y))"
   ]
  },
  {
   "cell_type": "code",
   "execution_count": null,
   "metadata": {},
   "outputs": [],
   "source": [
    "run_KFold(Train,city_exclude=\"New York\")"
   ]
  },
  {
   "cell_type": "markdown",
   "metadata": {},
   "source": [
    "As discussed I used various validation methods including KFold and holdouts.  I also brought in a different set of data from a different year and tested prediction on that data as well.  In regards to making adjustments to the model I went through a process of adding and removing features while monitoring the r squared.  I also used statsmodels to see the p-values to help me determine which features where benefiting the model and which weren't."
   ]
  }
 ],
 "metadata": {
  "kernelspec": {
   "display_name": "Python 3",
   "language": "python",
   "name": "python3"
  },
  "language_info": {
   "codemirror_mode": {
    "name": "ipython",
    "version": 3
   },
   "file_extension": ".py",
   "mimetype": "text/x-python",
   "name": "python",
   "nbconvert_exporter": "python",
   "pygments_lexer": "ipython3",
   "version": "3.6.3"
  }
 },
 "nbformat": 4,
 "nbformat_minor": 2
}
