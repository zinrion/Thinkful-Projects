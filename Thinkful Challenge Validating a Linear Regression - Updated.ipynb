{
 "cells": [
  {
   "cell_type": "code",
   "execution_count": 1,
   "metadata": {},
   "outputs": [
    {
     "name": "stderr",
     "output_type": "stream",
     "text": [
      "C:\\Users\\shaba\\Anaconda3\\lib\\site-packages\\sklearn\\cross_validation.py:41: DeprecationWarning: This module was deprecated in version 0.18 in favor of the model_selection module into which all the refactored classes and functions are moved. Also note that the interface of the new CV iterators are different from that of this module. This module will be removed in 0.20.\n",
      "  \"This module will be removed in 0.20.\", DeprecationWarning)\n"
     ]
    }
   ],
   "source": [
    "import numpy as np\n",
    "import pandas as pd\n",
    "from sklearn import linear_model\n",
    "from sklearn.metrics import mean_squared_error, r2_score\n",
    "import matplotlib.pyplot as plt\n",
    "import seaborn as sns\n",
    "from sklearn import cross_validation\n",
    "from sklearn.cross_validation import train_test_split\n",
    "import statsmodels.formula.api as smf"
   ]
  },
  {
   "cell_type": "markdown",
   "metadata": {},
   "source": [
    "#### Data\n",
    "\n",
    "Train data obtained from FBI Uniform Crime Reporting on crimes in New York state in 2013.\n",
    "\n",
    "link: https://ucr.fbi.gov/crime-in-the-u.s/2013/crime-in-the-u.s.-2013/tables/table-8/table-8-state-cuts/table_8_offenses_known_to_law_enforcement_new_york_by_city_2013.xls\n",
    "\n",
    "Test data set obtained from FBI Uniform Crime Reporting on crimes in New York state in 2012.\n",
    "\n",
    "link: https://ucr.fbi.gov/crime-in-the-u.s/2012/crime-in-the-u.s.-2012/tables/8tabledatadecpdf/table-8-state-cuts/table_8_offenses_known_to_law_enforcement_by_new_york_by_city_2012.xls"
   ]
  },
  {
   "cell_type": "code",
   "execution_count": 2,
   "metadata": {},
   "outputs": [],
   "source": [
    "#Training will be done on 2013 data\n",
    "Train =  \"New_York_Offenses_2013.csv\" \n",
    "#Testig will be done on 2013 data\n",
    "Test = \"New_York_Offenses_2012.csv\""
   ]
  },
  {
   "cell_type": "code",
   "execution_count": 3,
   "metadata": {},
   "outputs": [],
   "source": [
    "# Import data to review\n",
    "raw_data = pd.read_csv(Train, header = 4)"
   ]
  },
  {
   "cell_type": "code",
   "execution_count": 4,
   "metadata": {},
   "outputs": [
    {
     "data": {
      "text/plain": [
       "Index(['City', 'Population', 'Violent\\ncrime',\n",
       "       'Murder and\\nnonnegligent\\nmanslaughter',\n",
       "       'Rape\\n(revised\\ndefinition)1', 'Rape\\n(legacy\\ndefinition)2',\n",
       "       'Robbery', 'Aggravated\\nassault', 'Property\\ncrime', 'Burglary',\n",
       "       'Larceny-\\ntheft', 'Motor\\nvehicle\\ntheft', 'Arson3'],\n",
       "      dtype='object')"
      ]
     },
     "execution_count": 4,
     "metadata": {},
     "output_type": "execute_result"
    }
   ],
   "source": [
    "raw_data.columns"
   ]
  },
  {
   "cell_type": "code",
   "execution_count": 5,
   "metadata": {},
   "outputs": [
    {
     "data": {
      "text/html": [
       "<div>\n",
       "<style>\n",
       "    .dataframe thead tr:only-child th {\n",
       "        text-align: right;\n",
       "    }\n",
       "\n",
       "    .dataframe thead th {\n",
       "        text-align: left;\n",
       "    }\n",
       "\n",
       "    .dataframe tbody tr th {\n",
       "        vertical-align: top;\n",
       "    }\n",
       "</style>\n",
       "<table border=\"1\" class=\"dataframe\">\n",
       "  <thead>\n",
       "    <tr style=\"text-align: right;\">\n",
       "      <th></th>\n",
       "      <th>City</th>\n",
       "      <th>Population</th>\n",
       "      <th>Violent\n",
       "crime</th>\n",
       "      <th>Murder and\n",
       "nonnegligent\n",
       "manslaughter</th>\n",
       "      <th>Rape\n",
       "(revised\n",
       "definition)1</th>\n",
       "      <th>Rape\n",
       "(legacy\n",
       "definition)2</th>\n",
       "      <th>Robbery</th>\n",
       "      <th>Aggravated\n",
       "assault</th>\n",
       "      <th>Property\n",
       "crime</th>\n",
       "      <th>Burglary</th>\n",
       "      <th>Larceny-\n",
       "theft</th>\n",
       "      <th>Motor\n",
       "vehicle\n",
       "theft</th>\n",
       "      <th>Arson3</th>\n",
       "    </tr>\n",
       "  </thead>\n",
       "  <tbody>\n",
       "    <tr>\n",
       "      <th>0</th>\n",
       "      <td>Adams Village</td>\n",
       "      <td>1,861</td>\n",
       "      <td>0</td>\n",
       "      <td>0.0</td>\n",
       "      <td>NaN</td>\n",
       "      <td>0</td>\n",
       "      <td>0</td>\n",
       "      <td>0</td>\n",
       "      <td>12</td>\n",
       "      <td>2</td>\n",
       "      <td>10</td>\n",
       "      <td>0</td>\n",
       "      <td>0.0</td>\n",
       "    </tr>\n",
       "    <tr>\n",
       "      <th>1</th>\n",
       "      <td>Addison Town and Village</td>\n",
       "      <td>2,577</td>\n",
       "      <td>3</td>\n",
       "      <td>0.0</td>\n",
       "      <td>NaN</td>\n",
       "      <td>0</td>\n",
       "      <td>0</td>\n",
       "      <td>3</td>\n",
       "      <td>24</td>\n",
       "      <td>3</td>\n",
       "      <td>20</td>\n",
       "      <td>1</td>\n",
       "      <td>0.0</td>\n",
       "    </tr>\n",
       "    <tr>\n",
       "      <th>2</th>\n",
       "      <td>Akron Village</td>\n",
       "      <td>2,846</td>\n",
       "      <td>3</td>\n",
       "      <td>0.0</td>\n",
       "      <td>NaN</td>\n",
       "      <td>0</td>\n",
       "      <td>0</td>\n",
       "      <td>3</td>\n",
       "      <td>16</td>\n",
       "      <td>1</td>\n",
       "      <td>15</td>\n",
       "      <td>0</td>\n",
       "      <td>0.0</td>\n",
       "    </tr>\n",
       "    <tr>\n",
       "      <th>3</th>\n",
       "      <td>Albany</td>\n",
       "      <td>97,956</td>\n",
       "      <td>791</td>\n",
       "      <td>8.0</td>\n",
       "      <td>NaN</td>\n",
       "      <td>30</td>\n",
       "      <td>227</td>\n",
       "      <td>526</td>\n",
       "      <td>4,090</td>\n",
       "      <td>705</td>\n",
       "      <td>3,243</td>\n",
       "      <td>142</td>\n",
       "      <td>NaN</td>\n",
       "    </tr>\n",
       "    <tr>\n",
       "      <th>4</th>\n",
       "      <td>Albion Village</td>\n",
       "      <td>6,388</td>\n",
       "      <td>23</td>\n",
       "      <td>0.0</td>\n",
       "      <td>NaN</td>\n",
       "      <td>3</td>\n",
       "      <td>4</td>\n",
       "      <td>16</td>\n",
       "      <td>223</td>\n",
       "      <td>53</td>\n",
       "      <td>165</td>\n",
       "      <td>5</td>\n",
       "      <td>NaN</td>\n",
       "    </tr>\n",
       "  </tbody>\n",
       "</table>\n",
       "</div>"
      ],
      "text/plain": [
       "                       City Population Violent\\ncrime  \\\n",
       "0             Adams Village      1,861              0   \n",
       "1  Addison Town and Village      2,577              3   \n",
       "2             Akron Village      2,846              3   \n",
       "3                    Albany     97,956            791   \n",
       "4            Albion Village      6,388             23   \n",
       "\n",
       "   Murder and\\nnonnegligent\\nmanslaughter  Rape\\n(revised\\ndefinition)1  \\\n",
       "0                                     0.0                           NaN   \n",
       "1                                     0.0                           NaN   \n",
       "2                                     0.0                           NaN   \n",
       "3                                     8.0                           NaN   \n",
       "4                                     0.0                           NaN   \n",
       "\n",
       "  Rape\\n(legacy\\ndefinition)2 Robbery Aggravated\\nassault Property\\ncrime  \\\n",
       "0                           0       0                   0              12   \n",
       "1                           0       0                   3              24   \n",
       "2                           0       0                   3              16   \n",
       "3                          30     227                 526           4,090   \n",
       "4                           3       4                  16             223   \n",
       "\n",
       "  Burglary Larceny-\\ntheft Motor\\nvehicle\\ntheft  Arson3  \n",
       "0        2              10                     0     0.0  \n",
       "1        3              20                     1     0.0  \n",
       "2        1              15                     0     0.0  \n",
       "3      705           3,243                   142     NaN  \n",
       "4       53             165                     5     NaN  "
      ]
     },
     "execution_count": 5,
     "metadata": {},
     "output_type": "execute_result"
    }
   ],
   "source": [
    "raw_data.head()"
   ]
  },
  {
   "cell_type": "code",
   "execution_count": 6,
   "metadata": {
    "collapsed": true
   },
   "outputs": [],
   "source": [
    "def import_clean(train_data,city_exclude):\n",
    "    raw_data = pd.read_csv(train_data, header = 4)\n",
    "    train_data= raw_data\n",
    "    train_data.drop(train_data.tail(3).index,inplace=True)\n",
    "    train_data['Population'] = train_data['Population'].str.replace(',', '')\n",
    "    train_data['Rape\\n(legacy\\ndefinition)2'] = train_data['Rape\\n(legacy\\ndefinition)2'].str.replace(',', '')\n",
    "    train_data['Property\\ncrime'] = train_data['Property\\ncrime'].str.replace(',', '')\n",
    "    train_data['Property\\ncrime'] = pd.to_numeric(train_data['Property\\ncrime'])\n",
    "    train_data['Population'] = pd.to_numeric(train_data['Population'])\n",
    "    train_data['Rape\\n(legacy\\ndefinition)2'] = pd.to_numeric(train_data['Rape\\n(legacy\\ndefinition)2'])\n",
    "    train_data['Robbery'] = train_data['Robbery'].str.replace(',', '')\n",
    "    train_data['Robbery'] = pd.to_numeric(train_data['Robbery'])\n",
    "    train_data = train_data[train_data[\"City\"] != city_exclude]\n",
    "    train_data.rename(columns={\"Murder and\\nnonnegligent\\nmanslaughter\":\"Murder\",'Rape\\n(legacy\\ndefinition)2':\"Rape\",\"Property\\ncrime\":\"Property_Crime\"},inplace=True)\n",
    "    train_data = train_data[[\"City\",\"Population\",\"Murder\",\"Rape\",\"Property_Crime\",\"Robbery\"]]\n",
    "    train_data= train_data.dropna()\n",
    "    return train_data\n",
    "    "
   ]
  },
  {
   "cell_type": "code",
   "execution_count": 7,
   "metadata": {},
   "outputs": [],
   "source": [
    "def train_import_clean(train_data,city_exclude):\n",
    "    train_data = import_clean(train_data,city_exclude)\n",
    "    train_data[\"population_squared\"] = train_data[\"Population\"] **2 \n",
    "    train_data[\"Murder\"] = np.where(train_data.Murder >= 1, 1,0)\n",
    "    train_data[\"Robbery\"] = np.where(train_data.Rape >=1,1,0)\n",
    "    train_data[\"Rape\"] = np.where(train_data.Rape >=1,1,0)\n",
    "    return train_data"
   ]
  },
  {
   "cell_type": "code",
   "execution_count": 8,
   "metadata": {
    "collapsed": true
   },
   "outputs": [],
   "source": [
    "def test_import_clean(test_data,city_exclude):\n",
    "    raw_test_data = pd.read_csv(test_data, header = 4)\n",
    "    test_data= raw_test_data\n",
    "    test_data.drop(test_data.tail(3).index,inplace=True)\n",
    "    test_data['Population'] = test_data['Population'].str.replace(',', '')\n",
    "    test_data['Forcible\\nrape'] = test_data['Forcible\\nrape'].str.replace(',', '')\n",
    "    test_data['Property\\ncrime'] = test_data['Property\\ncrime'].str.replace(',', '')\n",
    "    test_data['Property\\ncrime'] = pd.to_numeric(test_data['Property\\ncrime'])\n",
    "    test_data['Burglary'] = test_data['Burglary'].str.replace(',', '')\n",
    "    test_data['Burglary'] = pd.to_numeric(test_data['Burglary'])  \n",
    "    test_data['Population'] = pd.to_numeric(test_data['Population'])\n",
    "    test_data['Forcible\\nrape'] = pd.to_numeric(test_data['Forcible\\nrape'])\n",
    "    test_data['Robbery'] = test_data['Robbery'].str.replace(',', '')\n",
    "    test_data['Robbery'] = pd.to_numeric(test_data['Robbery'])\n",
    "    test_data = test_data[test_data[\"City\"] != \"New York\"]\n",
    "    test_data.rename(columns={\"Murder and\\nnonnegligent\\nmanslaughter\":\"Murder\",'Forcible\\nrape':\"Rape\",\"Property\\ncrime\":\"Property_Crime\"},inplace=True)\n",
    "    test_data = test_data[[\"City\",\"Population\",\"Murder\",\"Rape\",\"Property_Crime\",\"Robbery\",\"Burglary\"]]\n",
    "    test_data= test_data.dropna()\n",
    "    test_data[\"population_squared\"] = test_data[\"Population\"] **2 \n",
    "    test_data[\"Murder\"] = np.where(test_data.Murder >= 1, 1,0)\n",
    "    test_data[\"Robbery\"] = np.where(test_data.Rape >=1,1,0)\n",
    "    test_data[\"Rape\"] = np.where(test_data.Rape >=1,1,0)\n",
    "    test_data[\"Burglary\"] = np.where(test_data.Burglary >=1,1,0)\n",
    "    return test_data"
   ]
  },
  {
   "cell_type": "code",
   "execution_count": 9,
   "metadata": {
    "collapsed": true
   },
   "outputs": [],
   "source": [
    "#Run clean function then regression\n",
    "def run_regr(train_file,city_exclude):\n",
    "    train_data = train_import_clean(train_file,city_exclude)\n",
    "    regr = linear_model.LinearRegression()\n",
    "    Y = train_data[\"Property_Crime\"].values.reshape(-1,1)\n",
    "    X = train_data[[\"Population\",\"population_squared\",\"Murder\",\"Robbery\"]]\n",
    "    regr.fit(X,Y)\n",
    "    print('\\nCoefficients: \\n', regr.coef_)\n",
    "    print('\\nIntercept: \\n', regr.intercept_)\n",
    "    print('\\nR-squared:')\n",
    "    print(regr.score(X, Y))"
   ]
  },
  {
   "cell_type": "code",
   "execution_count": 10,
   "metadata": {},
   "outputs": [
    {
     "name": "stderr",
     "output_type": "stream",
     "text": [
      "C:\\Users\\shaba\\Anaconda3\\lib\\site-packages\\pandas\\core\\frame.py:2746: SettingWithCopyWarning: \n",
      "A value is trying to be set on a copy of a slice from a DataFrame\n",
      "\n",
      "See the caveats in the documentation: http://pandas.pydata.org/pandas-docs/stable/indexing.html#indexing-view-versus-copy\n",
      "  **kwargs)\n"
     ]
    },
    {
     "data": {
      "image/png": "[encoded data removed]",
      "text/plain": [
       "<matplotlib.figure.Figure at 0x2a586013a20>"
      ]
     },
     "metadata": {},
     "output_type": "display_data"
    }
   ],
   "source": [
    "#Boxplots of metrics to be used\n",
    "\n",
    "data = import_clean(Train,city_exclude=\"New York\")\n",
    "\n",
    "plt.figure(figsize=(10,8))\n",
    "plt.subplot(2,2,1)\n",
    "murder = data.Murder\n",
    "plt.boxplot(murder)\n",
    "plt.title(\"Murder\")\n",
    "\n",
    "\n",
    "plt.subplot(2,2,2)\n",
    "population = data.Population\n",
    "plt.boxplot(population)\n",
    "plt.title(\"Population\")\n",
    "\n",
    "\n",
    "plt.subplot(2,2,3)\n",
    "rape = data.Rape\n",
    "plt.boxplot(rape)\n",
    "plt.title(\"Rape\")\n",
    "\n",
    "plt.subplot(2,2,4)\n",
    "property_crime = data.Property_Crime\n",
    "plt.boxplot(property_crime)\n",
    "plt.title(\"Property Crime\")\n",
    "plt.subplots_adjust(bottom = .2 , wspace = .2, hspace = .6)\n",
    "plt.xticks(rotation =\"vertical\")\n",
    "plt.show()"
   ]
  },
  {
   "cell_type": "code",
   "execution_count": 11,
   "metadata": {
    "scrolled": true
   },
   "outputs": [
    {
     "name": "stdout",
     "output_type": "stream",
     "text": [
      "\n",
      "Coefficients: \n",
      " [[  3.44942438e-02  -2.09173197e-09   9.80269105e+00  -5.72140291e+01]]\n",
      "\n",
      "Intercept: \n",
      " [-140.38524712]\n",
      "\n",
      "R-squared:\n",
      "0.996103119783\n"
     ]
    }
   ],
   "source": [
    "#Run training data regression including New York\n",
    "run_regr(Train,city_exclude=\"\")"
   ]
  },
  {
   "cell_type": "code",
   "execution_count": 12,
   "metadata": {},
   "outputs": [
    {
     "name": "stdout",
     "output_type": "stream",
     "text": [
      "\n",
      "Coefficients: \n",
      " [[  1.25121115e-02   1.16273544e-07   1.79123799e+02   1.25216383e+02]]\n",
      "\n",
      "Intercept: \n",
      " [-4.90693746]\n",
      "\n",
      "R-squared:\n",
      "0.845604097004\n"
     ]
    },
    {
     "name": "stderr",
     "output_type": "stream",
     "text": [
      "C:\\Users\\shaba\\Anaconda3\\lib\\site-packages\\pandas\\core\\frame.py:2746: SettingWithCopyWarning: \n",
      "A value is trying to be set on a copy of a slice from a DataFrame\n",
      "\n",
      "See the caveats in the documentation: http://pandas.pydata.org/pandas-docs/stable/indexing.html#indexing-view-versus-copy\n",
      "  **kwargs)\n"
     ]
    }
   ],
   "source": [
    "#Run training data regression excluding New York\n",
    "run_regr(Train,city_exclude=\"New York\")"
   ]
  },
  {
   "cell_type": "code",
   "execution_count": 13,
   "metadata": {},
   "outputs": [],
   "source": [
    "#Use statsmodels to see p-values\n",
    "def run_statsmodels(train_file,city_exclude):\n",
    "    train_data = train_import_clean(train_file,city_exclude)\n",
    "    linear_formula = \"Property_Crime ~ Population+population_squared+Murder+Robbery\"\n",
    "    lm = smf.ols(formula=linear_formula, data=train_data).fit()\n",
    "    print(lm.rsquared)\n",
    "    print(lm.pvalues)\n"
   ]
  },
  {
   "cell_type": "code",
   "execution_count": 14,
   "metadata": {
    "scrolled": true
   },
   "outputs": [
    {
     "name": "stdout",
     "output_type": "stream",
     "text": [
      "0.845604097004\n",
      "Intercept             8.766804e-01\n",
      "Population            1.374357e-08\n",
      "population_squared    1.973108e-25\n",
      "Murder                2.053089e-02\n",
      "Robbery               1.713012e-02\n",
      "dtype: float64\n"
     ]
    },
    {
     "name": "stderr",
     "output_type": "stream",
     "text": [
      "C:\\Users\\shaba\\Anaconda3\\lib\\site-packages\\pandas\\core\\frame.py:2746: SettingWithCopyWarning: \n",
      "A value is trying to be set on a copy of a slice from a DataFrame\n",
      "\n",
      "See the caveats in the documentation: http://pandas.pydata.org/pandas-docs/stable/indexing.html#indexing-view-versus-copy\n",
      "  **kwargs)\n"
     ]
    }
   ],
   "source": [
    "#Stats models including New York City\n",
    "run_statsmodels(Train,city_exclude=\"New York\")"
   ]
  },
  {
   "cell_type": "code",
   "execution_count": 15,
   "metadata": {},
   "outputs": [
    {
     "name": "stdout",
     "output_type": "stream",
     "text": [
      "0.996103119783\n",
      "Intercept             5.867026e-05\n",
      "Population            2.906356e-96\n",
      "population_squared    6.616908e-40\n",
      "Murder                9.122420e-01\n",
      "Robbery               3.295954e-01\n",
      "dtype: float64\n"
     ]
    }
   ],
   "source": [
    "#Stats models excluding New York City\n",
    "run_statsmodels(Train,city_exclude=\"\")"
   ]
  },
  {
   "cell_type": "code",
   "execution_count": 16,
   "metadata": {},
   "outputs": [],
   "source": [
    "#Function to train then test on another data set\n",
    "def run_train_test(train_file,test_file,city_exclude):\n",
    "    train_data = train_import_clean(train_file,city_exclude)\n",
    "    test_data = test_import_clean(test_file,city_exclude)\n",
    "    regr = linear_model.LinearRegression()\n",
    "    train_y = train_data[\"Property_Crime\"].values.reshape(-1,1)\n",
    "    train_x = train_data[[\"Population\",\"population_squared\",\"Murder\",\"Robbery\"]]\n",
    "    test_y = test_data[\"Property_Crime\"].values.reshape(-1,1)\n",
    "    test_x = test_data[[\"Population\",\"population_squared\",\"Murder\",\"Robbery\"]]    \n",
    "    regr.fit(train_x,train_y)\n",
    "    print('\\nCoefficients: \\n', regr.coef_)\n",
    "    print('\\nIntercept: \\n', regr.intercept_)\n",
    "    print('\\nTrain R-squared:')\n",
    "    print(regr.score(train_x, train_y))   \n",
    "    print('\\nTest R-squared:')\n",
    "    print(regr.score(test_x, test_y))"
   ]
  },
  {
   "cell_type": "code",
   "execution_count": 17,
   "metadata": {},
   "outputs": [
    {
     "name": "stderr",
     "output_type": "stream",
     "text": [
      "C:\\Users\\shaba\\Anaconda3\\lib\\site-packages\\pandas\\core\\frame.py:2746: SettingWithCopyWarning: \n",
      "A value is trying to be set on a copy of a slice from a DataFrame\n",
      "\n",
      "See the caveats in the documentation: http://pandas.pydata.org/pandas-docs/stable/indexing.html#indexing-view-versus-copy\n",
      "  **kwargs)\n"
     ]
    },
    {
     "name": "stdout",
     "output_type": "stream",
     "text": [
      "\n",
      "Coefficients: \n",
      " [[  1.25121115e-02   1.16273544e-07   1.79123799e+02   1.25216383e+02]]\n",
      "\n",
      "Intercept: \n",
      " [-4.90693746]\n",
      "\n",
      "Train R-squared:\n",
      "0.845604097004\n",
      "\n",
      "Test R-squared:\n",
      "0.851909304436\n"
     ]
    }
   ],
   "source": [
    "#Train 2013 Data, Test 2012, NYC excluded\n",
    "run_train_test(Train,Test,city_exclude=\"New York\")"
   ]
  },
  {
   "cell_type": "code",
   "execution_count": 18,
   "metadata": {},
   "outputs": [
    {
     "name": "stdout",
     "output_type": "stream",
     "text": [
      "\n",
      "Coefficients: \n",
      " [[  3.44942438e-02  -2.09173197e-09   9.80269105e+00  -5.72140291e+01]]\n",
      "\n",
      "Intercept: \n",
      " [-140.38524712]\n",
      "\n",
      "Train R-squared:\n",
      "0.996103119783\n",
      "\n",
      "Test R-squared:\n",
      "0.787235397682\n"
     ]
    },
    {
     "name": "stderr",
     "output_type": "stream",
     "text": [
      "C:\\Users\\shaba\\Anaconda3\\lib\\site-packages\\pandas\\core\\frame.py:2746: SettingWithCopyWarning: \n",
      "A value is trying to be set on a copy of a slice from a DataFrame\n",
      "\n",
      "See the caveats in the documentation: http://pandas.pydata.org/pandas-docs/stable/indexing.html#indexing-view-versus-copy\n",
      "  **kwargs)\n"
     ]
    }
   ],
   "source": [
    "#Train 2013 Data, Test 2012, NYC included\n",
    "run_train_test(Train,Test,city_exclude=\"\")"
   ]
  },
  {
   "cell_type": "code",
   "execution_count": 19,
   "metadata": {
    "collapsed": true
   },
   "outputs": [],
   "source": [
    "#Holdout\n",
    "def run_train_test_split(train_file,city_exclude):\n",
    "    train_data = train_import_clean(train_file,city_exclude)\n",
    "    regr = linear_model.LinearRegression()\n",
    "    Y = train_data[\"Property_Crime\"].values.reshape(-1,1)\n",
    "    X = train_data[[\"Population\",\"population_squared\",\"Murder\",\"Robbery\"]]\n",
    "    x_train, x_test, y_train, y_test = train_test_split(X, Y, test_size=0.33, random_state=34)\n",
    "    regr.fit(x_train,y_train)\n",
    "    y_predict = regr.predict(x_test)\n",
    "    print('\\nCoefficients: \\n', regr.coef_)\n",
    "    print('\\nIntercept: \\n', regr.intercept_)\n",
    "    print('\\nR-squared:')\n",
    "    print(regr.score(x_test, y_test))"
   ]
  },
  {
   "cell_type": "code",
   "execution_count": 20,
   "metadata": {},
   "outputs": [
    {
     "name": "stdout",
     "output_type": "stream",
     "text": [
      "\n",
      "Coefficients: \n",
      " [[  9.79891904e-03   1.13696563e-07   1.77175936e+02   1.45681038e+02]]\n",
      "\n",
      "Intercept: \n",
      " [ 14.96485788]\n",
      "\n",
      "R-squared:\n",
      "0.876292002643\n"
     ]
    },
    {
     "name": "stderr",
     "output_type": "stream",
     "text": [
      "C:\\Users\\shaba\\Anaconda3\\lib\\site-packages\\pandas\\core\\frame.py:2746: SettingWithCopyWarning: \n",
      "A value is trying to be set on a copy of a slice from a DataFrame\n",
      "\n",
      "See the caveats in the documentation: http://pandas.pydata.org/pandas-docs/stable/indexing.html#indexing-view-versus-copy\n",
      "  **kwargs)\n"
     ]
    }
   ],
   "source": [
    "#Run holdout\n",
    "run_train_test_split(Train,city_exclude=\"New York\")"
   ]
  },
  {
   "cell_type": "code",
   "execution_count": 21,
   "metadata": {},
   "outputs": [],
   "source": [
    "#Run KFold\n",
    "def run_KFold(train_file,city_exclude):\n",
    "    train_data = train_import_clean(train_file,city_exclude)\n",
    "    regr = linear_model.LinearRegression()\n",
    "    kf = cross_validation.KFold(n=len(train_data), n_folds=10)\n",
    "    for train_index, test_index in kf:\n",
    "        training_data, testing_data = train_data.iloc[train_index], train_data.iloc[test_index]\n",
    "        training_Y = training_data[\"Property_Crime\"].values.reshape(-1,1)\n",
    "        training_X = training_data[[\"Population\",\"population_squared\",\"Murder\",\"Robbery\"]]\n",
    "        testing_Y = testing_data[\"Property_Crime\"].values.reshape(-1,1)\n",
    "        testing_X = testing_data[[\"Population\",\"population_squared\",\"Murder\",\"Robbery\"]]    \n",
    "        regr.fit(training_X,training_Y)\n",
    "        print('\\nR-squared:')\n",
    "        print(regr.score(testing_X,testing_Y))"
   ]
  },
  {
   "cell_type": "code",
   "execution_count": 22,
   "metadata": {},
   "outputs": [
    {
     "name": "stdout",
     "output_type": "stream",
     "text": [
      "\n",
      "R-squared:\n",
      "0.766883953035\n",
      "\n",
      "R-squared:\n",
      "0.938424040287\n",
      "\n",
      "R-squared:\n",
      "0.362363551058\n",
      "\n",
      "R-squared:\n",
      "0.839857710034\n",
      "\n",
      "R-squared:\n",
      "0.753806319831\n",
      "\n",
      "R-squared:\n",
      "0.820242739933\n",
      "\n",
      "R-squared:\n",
      "0.569472633618\n",
      "\n",
      "R-squared:\n",
      "0.902713272846\n",
      "\n",
      "R-squared:\n",
      "0.8525739504\n",
      "\n",
      "R-squared:\n",
      "-1.6011632284\n"
     ]
    },
    {
     "name": "stderr",
     "output_type": "stream",
     "text": [
      "C:\\Users\\shaba\\Anaconda3\\lib\\site-packages\\pandas\\core\\frame.py:2746: SettingWithCopyWarning: \n",
      "A value is trying to be set on a copy of a slice from a DataFrame\n",
      "\n",
      "See the caveats in the documentation: http://pandas.pydata.org/pandas-docs/stable/indexing.html#indexing-view-versus-copy\n",
      "  **kwargs)\n"
     ]
    }
   ],
   "source": [
    "run_KFold(Train,city_exclude=\"New York\")"
   ]
  },
  {
   "cell_type": "markdown",
   "metadata": {},
   "source": [
    "As discussed I used various validation methods including KFold and holdouts.  I also brought in a different set of data from a different year and tested prediction on that data as well.  In regards to making adjustments to the model I went through a process of adding and removing features while monitoring the r squared.  I also used statsmodels to see the p-values to help me determine which features where benefiting the model and which weren't."
   ]
  }
 ],
 "metadata": {
  "kernelspec": {
   "display_name": "Python 3",
   "language": "python",
   "name": "python3"
  },
  "language_info": {
   "codemirror_mode": {
    "name": "ipython",
    "version": 3
   },
   "file_extension": ".py",
   "mimetype": "text/x-python",
   "name": "python",
   "nbconvert_exporter": "python",
   "pygments_lexer": "ipython3",
   "version": "3.6.3"
  }
 },
 "nbformat": 4,
 "nbformat_minor": 2
}
