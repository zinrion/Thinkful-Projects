{
 "cells": [
  {
   "cell_type": "code",
   "execution_count": 1,
   "metadata": {
    "collapsed": true
   },
   "outputs": [],
   "source": [
    "import pandas as pd\n",
    "import numpy as np"
   ]
  },
  {
   "cell_type": "markdown",
   "metadata": {},
   "source": [
    "### Problem 1"
   ]
  },
  {
   "cell_type": "code",
   "execution_count": 15,
   "metadata": {
    "collapsed": true
   },
   "outputs": [],
   "source": [
    "def multiples_calc(max,first_number, second_number):\n",
    "    start = 0\n",
    "    total = max +1\n",
    "    numbers = range(max)\n",
    "    for number in numbers:\n",
    "        if (number % first_number == 0) or (number % second_number ==0):\n",
    "            start = start + number\n",
    "    return start"
   ]
  },
  {
   "cell_type": "code",
   "execution_count": 17,
   "metadata": {},
   "outputs": [
    {
     "data": {
      "text/plain": [
       "233168"
      ]
     },
     "execution_count": 17,
     "metadata": {},
     "output_type": "execute_result"
    }
   ],
   "source": [
    "multiples_calc(1000,3,5)"
   ]
  },
  {
   "cell_type": "markdown",
   "metadata": {},
   "source": [
    "### Problem 2"
   ]
  },
  {
   "cell_type": "code",
   "execution_count": 170,
   "metadata": {},
   "outputs": [
    {
     "name": "stdout",
     "output_type": "stream",
     "text": [
      "4613732\n"
     ]
    }
   ],
   "source": [
    "def fab_seq():\n",
    "    start = 0\n",
    "    list = [1,2,3]\n",
    "    new = 0\n",
    "    for i in range(0,500):\n",
    "        minus_1 =0\n",
    "        minus_2 =1\n",
    "        new = list[i+1] + list[i+2]\n",
    "        list.append(new)\n",
    "        minus_1 +=1\n",
    "        minus_2 +=2\n",
    "    return list\n",
    "numbers = fab_seq()\n",
    "\n",
    "total = 0\n",
    "for number in numbers:\n",
    "    if number % 2 == 0 and number < 4000000:\n",
    "        total = total + number\n",
    "print(total)"
   ]
  },
  {
   "cell_type": "markdown",
   "metadata": {},
   "source": [
    "### Problem 3"
   ]
  },
  {
   "cell_type": "code",
   "execution_count": 426,
   "metadata": {},
   "outputs": [],
   "source": [
    "def prime_factors(target):\n",
    "    master_list = []\n",
    "    non_primes_list = []\n",
    "    primes = []\n",
    "    numbers = range(2,int((target**.5)+1))\n",
    "    for number in numbers:\n",
    "        if target % number == 0:\n",
    "            master_list.append(number)\n",
    "    for master_number in master_list:\n",
    "        limit = range(2,int((master_number**.5)+1))\n",
    "        for check_number in limit:\n",
    "            if master_number % check_number == 0:\n",
    "                non_primes_list.append(master_number)\n",
    "    primes = set(master_list) - set(non_primes_list)\n",
    "    print(max(primes))\n",
    "                "
   ]
  },
  {
   "cell_type": "code",
   "execution_count": 429,
   "metadata": {},
   "outputs": [
    {
     "name": "stdout",
     "output_type": "stream",
     "text": [
      "6857\n"
     ]
    }
   ],
   "source": [
    "prime_factors(600851475143)"
   ]
  },
  {
   "cell_type": "markdown",
   "metadata": {},
   "source": [
    "### Problem 4"
   ]
  },
  {
   "cell_type": "code",
   "execution_count": 264,
   "metadata": {},
   "outputs": [],
   "source": [
    "r1=range(100,1000)\n",
    "r2=range(100,1000)"
   ]
  },
  {
   "cell_type": "code",
   "execution_count": 265,
   "metadata": {},
   "outputs": [],
   "source": [
    "def largest_palindrome():\n",
    "    list = []\n",
    "    final_list =[]\n",
    "\n",
    "    for first_number in r1:\n",
    "        for second_number in r2:\n",
    "            product = first_number * second_number\n",
    "            list.append(product)\n",
    "    for part in list:\n",
    "        if str(part) == str(part)[::-1]:\n",
    "            final_list.append(part)\n",
    "    target = max(final_list)\n",
    "    print(target)"
   ]
  },
  {
   "cell_type": "code",
   "execution_count": 266,
   "metadata": {},
   "outputs": [
    {
     "name": "stdout",
     "output_type": "stream",
     "text": [
      "906609\n"
     ]
    }
   ],
   "source": [
    "largest_palindrome()"
   ]
  },
  {
   "cell_type": "markdown",
   "metadata": {},
   "source": [
    "### Problem 5"
   ]
  },
  {
   "cell_type": "code",
   "execution_count": 243,
   "metadata": {},
   "outputs": [],
   "source": [
    "check_list =range(100000000,1000000000)\n",
    "def smallest_multiple():\n",
    "    match_number = []\n",
    "    for number in check_list:\n",
    "        if (number % 20 ==0):\n",
    "            if (number % 19 ==0):\n",
    "                if (number % 18 ==0):\n",
    "                    if (number % 17 ==0):\n",
    "                        if (number % 16 ==0):\n",
    "                            if (number % 15 ==0):\n",
    "                                if (number % 14 ==0):\n",
    "                                    if (number % 13 ==0):\n",
    "                                        if (number % 12 ==0):\n",
    "                                            if (number % 11 ==0):\n",
    "                                                if (number % 10 ==0):\n",
    "                                                    if (number % 9 ==0):\n",
    "                                                        if (number % 8 ==0):\n",
    "                                                            if (number % 7 ==0):\n",
    "                                                                if (number % 6 ==0):\n",
    "                                                                    if (number % 5 ==0):\n",
    "                                                                        if (number % 4 ==0):\n",
    "                                                                            if (number % 3 ==0):\n",
    "                                                                                if (number % 2 ==0):\n",
    "                                                                                    match_number.append(number)\n",
    "            \n",
    "    lowest = min(match_number)\n",
    "    return lowest"
   ]
  },
  {
   "cell_type": "code",
   "execution_count": 244,
   "metadata": {},
   "outputs": [
    {
     "data": {
      "text/plain": [
       "232792560"
      ]
     },
     "execution_count": 244,
     "metadata": {},
     "output_type": "execute_result"
    }
   ],
   "source": [
    "smallest_multiple()"
   ]
  },
  {
   "cell_type": "markdown",
   "metadata": {},
   "source": [
    "### Problem 6"
   ]
  },
  {
   "cell_type": "code",
   "execution_count": 245,
   "metadata": {},
   "outputs": [
    {
     "data": {
      "text/plain": [
       "25164150"
      ]
     },
     "execution_count": 245,
     "metadata": {},
     "output_type": "execute_result"
    }
   ],
   "source": [
    "numbers = range(1,101)\n",
    "\n",
    "def sum_square_difference():\n",
    "    sum_square = 0\n",
    "    square_sum = 0\n",
    "    for number in numbers:\n",
    "        sum_square = sum_square + (number ** 2)\n",
    "        square_sum = square_sum + number\n",
    "    total_square_sum = square_sum ** 2\n",
    "    final = total_square_sum - sum_square\n",
    "    return final\n",
    "sum_square_difference()        "
   ]
  },
  {
   "cell_type": "markdown",
   "metadata": {},
   "source": [
    "### Problem 7"
   ]
  },
  {
   "cell_type": "code",
   "execution_count": 584,
   "metadata": {},
   "outputs": [],
   "source": [
    "def prime_number(target):\n",
    "    master_list = []\n",
    "    non_primes_list = []\n",
    "    primes = []\n",
    "    max = 100000000000\n",
    "    numbers = range(1,int((max**.5)+1))\n",
    "    \n",
    "    for number in numbers:\n",
    "        limit = range(2,int((number**.5)+1))\n",
    "        for check_number in limit:\n",
    "            if number % check_number == 0:\n",
    "                non_primes_list.append(number)\n",
    "    primes = [x for x in numbers if x not in non_primes_list]\n",
    "    print(primes[target])\n"
   ]
  },
  {
   "cell_type": "code",
   "execution_count": 578,
   "metadata": {},
   "outputs": [
    {
     "name": "stdout",
     "output_type": "stream",
     "text": [
      "104743\n"
     ]
    }
   ],
   "source": [
    "prime_number(10001)"
   ]
  },
  {
   "cell_type": "markdown",
   "metadata": {},
   "source": [
    "### Problem 8"
   ]
  },
  {
   "cell_type": "code",
   "execution_count": 581,
   "metadata": {},
   "outputs": [],
   "source": [
    "target_number_list =7316717653133062491922511967442657474235534919493496983520312774506326239578318016984801869478851843858615607891129494954595017379583319528532088055111254069874715852386305071569329096329522744304355766896648950445244523161731856403098711121722383113622298934233803081353362766142828064444866452387493035890729629049156044077239071381051585930796086670172427121883998797908792274921901699720888093776657273330010533678812202354218097512545405947522435258490771167055601360483958644670632441572215539753697817977846174064955149290862569321978468622482839722413756570560574902614079729686524145351004748216637048440319989000889524345065854122758866688116427171479924442928230863465674813919123162824586178664583591245665294765456828489128831426076900422421902267105562632111110937054421750694165896040807198403850962455444362981230987879927244284909188845801561660979191338754992005240636899125607176060588611646710940507754100225698315520005593572972571636269561882670428252483600823257530420752963450\n",
    "str_list = str(target_number_list)"
   ]
  },
  {
   "cell_type": "code",
   "execution_count": 582,
   "metadata": {},
   "outputs": [
    {
     "name": "stdout",
     "output_type": "stream",
     "text": [
      "23514624000\n"
     ]
    }
   ],
   "source": [
    "def largest_product():\n",
    "    product_list = []\n",
    "    product_list_df = pd.DataFrame(columns=['Number','Value'])\n",
    "    start_index = 0\n",
    "    end_index = 13\n",
    "\n",
    "    for number in str_list:\n",
    "        if len(str_list[start_index:end_index]) == 13:\n",
    "            item = str_list[start_index:end_index]\n",
    "            starter =1\n",
    "            for num_part in item:\n",
    "                starter = starter * int(num_part)\n",
    "            key = str_list[start_index:end_index]\n",
    "            product_list_df['Number'] = key\n",
    "            product_list_df['Value'] = starter\n",
    "            product_list.append(starter)\n",
    "        start_index = start_index +1\n",
    "        end_index = end_index +1\n",
    "    print(max(product_list))\n",
    "    \n",
    "largest_product()\n",
    "    \n",
    "    \n",
    "    \n",
    "    "
   ]
  },
  {
   "cell_type": "markdown",
   "metadata": {},
   "source": [
    "### Problem 9"
   ]
  },
  {
   "cell_type": "code",
   "execution_count": 579,
   "metadata": {},
   "outputs": [
    {
     "name": "stdout",
     "output_type": "stream",
     "text": [
      "200\n",
      "375\n",
      "425\n",
      "31875000\n"
     ]
    }
   ],
   "source": [
    "c_number = range(1,1000)\n",
    "\n",
    "for c in c_number:\n",
    "    b_number = range(1,c)\n",
    "    for b in b_number:\n",
    "        a_number = range(1,b)\n",
    "        for a in a_number:\n",
    "            if (a+b+c) == 1000 and ((a**2 + b**2) == c**2):\n",
    "                print(a)\n",
    "                print(b)\n",
    "                print(c)\n",
    "                print(a*b*c)\n",
    "        \n",
    "        "
   ]
  },
  {
   "cell_type": "markdown",
   "metadata": {},
   "source": [
    "### Problem 10"
   ]
  },
  {
   "cell_type": "code",
   "execution_count": 601,
   "metadata": {},
   "outputs": [
    {
     "name": "stdout",
     "output_type": "stream",
     "text": [
      "454396537\n"
     ]
    }
   ],
   "source": [
    "def prime_max(target):\n",
    "    master_list = []\n",
    "    non_primes_list = [1]\n",
    "    primes = []\n",
    "    numbers = range(1,target+1)\n",
    "    \n",
    "    for number in numbers:\n",
    "        limit = range(2,int((number**.5)+1))\n",
    "        for check_number in limit:\n",
    "            if number % check_number == 0:\n",
    "                non_primes_list.append(number)\n",
    "    primes = [x for x in numbers if x not in non_primes_list]\n",
    "    print(sum(primes))\n",
    "    \n",
    "prime_max(100000)"
   ]
  },
  {
   "cell_type": "code",
   "execution_count": null,
   "metadata": {
    "collapsed": true
   },
   "outputs": [],
   "source": []
  }
 ],
 "metadata": {
  "kernelspec": {
   "display_name": "Python 3",
   "language": "python",
   "name": "python3"
  },
  "language_info": {
   "codemirror_mode": {
    "name": "ipython",
    "version": 3
   },
   "file_extension": ".py",
   "mimetype": "text/x-python",
   "name": "python",
   "nbconvert_exporter": "python",
   "pygments_lexer": "ipython3",
   "version": "3.6.3"
  }
 },
 "nbformat": 4,
 "nbformat_minor": 2
}
